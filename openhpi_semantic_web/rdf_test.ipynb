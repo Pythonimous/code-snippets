{
 "cells": [
  {
   "cell_type": "markdown",
   "metadata": {},
   "source": [
    "# https://www.w3.org/TR/rdf-schema/"
   ]
  },
  {
   "cell_type": "code",
   "execution_count": 1,
   "metadata": {},
   "outputs": [],
   "source": [
    "import rdflib"
   ]
  },
  {
   "cell_type": "code",
   "execution_count": 2,
   "metadata": {},
   "outputs": [],
   "source": [
    "g=rdflib.Graph()\n",
    "g.load('http://dbpedia.org/resource/Semantic_Web')"
   ]
  },
  {
   "cell_type": "code",
   "execution_count": 3,
   "metadata": {},
   "outputs": [
    {
     "name": "stdout",
     "output_type": "stream",
     "text": [
      "http://dbpedia.org/resource/Semantic_Web http://www.w3.org/2000/01/rdf-schema#label Семантическая паутина\n",
      "http://dbpedia.org/resource/Semantic_Web http://dbpedia.org/ontology/wikiPageExternalLink http://esw.w3.org/topic/ConverterToRdf\n",
      "http://dbpedia.org/resource/Semantic_internet http://dbpedia.org/ontology/wikiPageRedirects http://dbpedia.org/resource/Semantic_Web\n",
      "http://dbpedia.org/resource/Semantic_Web http://dbpedia.org/property/s no\n",
      "http://dbpedia.org/resource/Nigel_Shadbolt http://dbpedia.org/ontology/knownFor http://dbpedia.org/resource/Semantic_Web\n",
      "http://dbpedia.org/resource/Semantic_Web http://www.w3.org/2002/07/owl#sameAs http://rdf.freebase.com/ns/m.076k0\n",
      "http://dbpedia.org/resource/Semantic_Web http://www.w3.org/2000/01/rdf-schema#comment Le Web sémantique, ou toile sémantique, est une extension du Web standardisée par le World Wide Web Consortium (W3C). Ces standards encouragent l'utilisation de formats de données et de protocoles d'échange normés sur le Web, avec comme format de base le Resource Description Framework (RDF).\n",
      "http://dbpedia.org/resource/Semantic_Web http://www.w3.org/2002/07/owl#sameAs http://d-nb.info/gnd/4688372-1\n",
      "http://dbpedia.org/resource/DBpedia http://dbpedia.org/ontology/genre http://dbpedia.org/resource/Semantic_Web\n",
      "http://dbpedia.org/resource/Semantic_Web http://www.w3.org/2000/01/rdf-schema#comment Semantic Web (sieci semantyczne) – projekt, który ma przyczynić się do utworzenia i rozpowszechnienia standardów opisywania treści w Internecie w sposób, który umożliwi maszynom i programom (np. tzw. agentom) przetwarzanie informacji w sposób odpowiedni do ich znaczenia. Wśród standardów sieci semantycznych znajdują się m.in. OWL, RDF, RDF Schema (inaczej RDFS). Znaczenia zasobów informacyjnych określa się za pomocą tzw. ontologii.\n",
      "http://dbpedia.org/resource/Semantic_Web http://www.w3.org/1999/02/22-rdf-syntax-ns#type http://dbpedia.org/class/yago/YagoPermanentlyLocatedEntity\n",
      "http://dbpedia.org/resource/TriG_(syntax) http://dbpedia.org/property/genre http://dbpedia.org/resource/Semantic_Web\n",
      "http://dbpedia.org/resource/Sesame_(framework) http://dbpedia.org/ontology/genre http://dbpedia.org/resource/Semantic_Web\n",
      "http://dbpedia.org/resource/Semantic_Web http://www.w3.org/1999/02/22-rdf-syntax-ns#type http://dbpedia.org/class/yago/Age104924103\n",
      "http://dbpedia.org/resource/Semantic_Web http://www.w3.org/1999/02/22-rdf-syntax-ns#type http://dbpedia.org/class/yago/Message106598915\n",
      "http://dbpedia.org/resource/Semantic_Web http://www.w3.org/2000/01/rdf-schema#label Web semántica\n",
      "http://dbpedia.org/resource/Semantic_Web http://dbpedia.org/property/n no\n",
      "http://dbpedia.org/resource/Semantic_Web http://www.w3.org/2000/01/rdf-schema#label ويب دلالي\n",
      "http://dbpedia.org/resource/Semantic_Web http://purl.org/dc/terms/subject http://dbpedia.org/resource/Category:Knowledge_engineering\n",
      "http://dbpedia.org/resource/Ian_Horrocks http://dbpedia.org/ontology/field http://dbpedia.org/resource/Semantic_Web\n",
      "http://dbpedia.org/resource/Deborah_McGuinness http://dbpedia.org/ontology/knownFor http://dbpedia.org/resource/Semantic_Web\n",
      "http://dbpedia.org/resource/Semantic_Web http://www.w3.org/2002/07/owl#sameAs http://fr.dbpedia.org/resource/Web_sémantique\n",
      "http://dbpedia.org/resource/Semantic_Web http://www.w3.org/1999/02/22-rdf-syntax-ns#type http://dbpedia.org/class/yago/WikicatInternetAges\n",
      "http://dbpedia.org/resource/Joseph_G._Davis http://dbpedia.org/ontology/field http://dbpedia.org/resource/Semantic_Web\n",
      "http://dbpedia.org/resource/RDF/XML http://dbpedia.org/property/genre http://dbpedia.org/resource/Semantic_Web\n",
      "http://dbpedia.org/resource/Semantic_Web http://dbpedia.org/ontology/wikiPageExternalLink http://www.amazon.com/gp/product/0470396792\n",
      "http://dbpedia.org/resource/Semantic_Web http://www.w3.org/2002/07/owl#sameAs http://de.dbpedia.org/resource/Semantic_Web\n",
      "http://dbpedia.org/resource/Semantic_Web http://www.w3.org/2000/01/rdf-schema#comment 语义网（Semantic Web）是由万维网联盟的蒂姆·伯纳斯-李（Tim Berners-Lee）在1998年提出的一个概念，它的核心是：通过给万维网上的文档（如: HTML）添加能够被计算机所理解的语义（Meta data），从而使整个互联网成为一个通用的信息交换媒介。语义万维网通过使用标准、置标语言和相关的处理工具来扩展万维网的能力。不过语意网概念实际上是基于很多已有技术的，也依赖于后来和text-and-markup与知识表现的综合。那些渊源甚至可以追溯到20世纪60年代末期的Allan M. Collins、M. Ross Quillian、Elizabeth F. Loftus等人的研究，还有之后70年代初R.F.Simon、R.C.Schamk、Minsky等人陆续提出的一些理论上的成果，其中Simon在进行自然语言理解的应用研究时提出了语义网络Semantic Network（不是现在的Semantic Web）的概念。当时人们甚至发明了以逻辑为基础的程序设计语言Prolog。 \"语义\"网是由比现今成熟的网际搜索工具更加行之有效的、更加广泛意义的并且自动聚集和搜集信息的文档组成的。其最基本的元素就是语义链接。 通过下列方法可以提升全球資訊網以及其互连的资源的易用性（usability）和實用性（usefulness）：\n",
      "http://dbpedia.org/resource/Semantic_Web http://www.w3.org/2002/07/owl#sameAs http://it.dbpedia.org/resource/Web_semantico\n",
      "http://dbpedia.org/resource/Semantic_Web http://www.w3.org/2000/01/rdf-schema#comment إن ورود المعلومات على الإنترنت يزداد بشكل كبير، فقد أصبح الإنترنت مكانًا للتعبير عن الأفكار، سرد القصص، إنشاء المدونات ومشاركة الفيديوهات والصور والملفات الصوتية وما إلى ذلك. وهو ما جعل كمّ المعلومات المتوفرة للفرد الواحد أكبر بكثير ممايُمكن له أن يستفيد منه. تعريض العقل البشري لهذا الكم الهائل من المعلومات من شأنه أن يتسبب فيما يُمكن أن نصفه بوصف \"الضياع في فضاء المعلومات\"، وذلك راجع إلى بقاء المعلومات المفيدة بعيدة المنال بسبب تراكم الكثير من المعلومات غير المفيدة وغير المرتبطة بالموضوع المراد البحث عنه من قبل المستخدم.لحسن الحظ، مثلما يزداد ورود المعلومات، تزداد مقدرات معالجة المعلومات اوتوماتيكياً، لذا يوجد إمكانيات كبيرة للاستفادة من مقدرات الأتمتة هذه بهدف استخراج المعلومات والخدمات من فيضان الويب والمرتبطة بالمستخدم، وتوصيلها إليه عن طريق واجهة مستخدم معيارية (Standardized User Inte\n",
      "http://dbpedia.org/resource/UMBEL http://dbpedia.org/ontology/genre http://dbpedia.org/resource/Semantic_Web\n",
      "http://dbpedia.org/resource/Semantic_Web http://www.w3.org/2002/07/owl#sameAs http://pt.dbpedia.org/resource/Web_semântica\n",
      "http://dbpedia.org/resource/Semantic_Web http://www.w3.org/2000/01/rdf-schema#label Semantic Web\n",
      "http://dbpedia.org/resource/Marc_Twagirumukiza http://dbpedia.org/ontology/field http://dbpedia.org/resource/Semantic_Web\n",
      "http://dbpedia.org/resource/Semantic_Web http://www.w3.org/2000/01/rdf-schema#comment Das Semantic Web erweitert das Web, um Daten zwischen Rechnern einfacher austauschbar und für sie einfacher verwertbar zu machen; so kann beispielsweise der Begriff „Bremen“ in einem Webdokument um die Information ergänzt werden, ob hier ein Schiffs-, Familien- oder der Stadtname gemeint ist. Diese zusätzlichen Informationen explizieren die sonst nur unstrukturiert vorkommenden Daten. Zur Realisierung dienen Standards zur Veröffentlichung und Nutzung maschinenlesbarer Daten (insbesondere RDF).\n",
      "http://dbpedia.org/resource/Resource_Description_Framework http://dbpedia.org/property/domain http://dbpedia.org/resource/Semantic_Web\n",
      "http://dbpedia.org/resource/Wendy_Hall http://dbpedia.org/ontology/field http://dbpedia.org/resource/Semantic_Web\n",
      "http://dbpedia.org/resource/Semantic_Web http://www.w3.org/1999/02/22-rdf-syntax-ns#type http://dbpedia.org/class/yago/Act100030358\n",
      "http://dbpedia.org/resource/Semantic_Web http://www.w3.org/2002/07/owl#sameAs http://eu.dbpedia.org/resource/Web_semantiko\n",
      "http://dbpedia.org/resource/Semantic_Web http://www.w3.org/1999/02/22-rdf-syntax-ns#type http://dbpedia.org/class/yago/Attribute100024264\n",
      "http://dbpedia.org/resource/Web_3.0 http://dbpedia.org/ontology/wikiPageRedirects http://dbpedia.org/resource/Semantic_Web\n",
      "http://dbpedia.org/resource/Semantic_Web http://www.w3.org/1999/02/22-rdf-syntax-ns#type http://dbpedia.org/class/yago/Work100575741\n",
      "http://dbpedia.org/resource/International_Semantic_Web_Conference http://dbpedia.org/ontology/academicDiscipline http://dbpedia.org/resource/Semantic_Web\n",
      "http://dbpedia.org/resource/Semantic_Web http://www.w3.org/2000/01/rdf-schema#label Web semântica\n",
      "http://dbpedia.org/resource/Semantic_Web http://www.w3.org/1999/02/22-rdf-syntax-ns#type http://dbpedia.org/class/yago/Property104916342\n",
      "http://dbpedia.org/resource/RDFa http://dbpedia.org/property/domain http://dbpedia.org/resource/Semantic_Web\n",
      "http://dbpedia.org/resource/RDF_Schema http://dbpedia.org/property/domain http://dbpedia.org/resource/Semantic_Web\n",
      "http://dbpedia.org/resource/Semantic_Web http://dbpedia.org/ontology/thumbnail http://commons.wikimedia.org/wiki/Special:FilePath/RDF_example.svg?width=300\n",
      "http://dbpedia.org/resource/Semantic_Web http://www.w3.org/2002/07/owl#sameAs http://cs.dbpedia.org/resource/Sémantický_web\n",
      "http://dbpedia.org/resource/Semantic_Web http://www.w3.org/1999/02/22-rdf-syntax-ns#type http://dbpedia.org/class/yago/Activity100407535\n",
      "http://dbpedia.org/resource/Semantic_Web http://dbpedia.org/ontology/abstract セマンティック・ウェブ（英: semantic web）は W3C のティム・バーナーズ＝リーによって提唱された、ウェブページの意味を扱うことを可能とする標準やツール群の開発によってワールド・ワイド・ウェブの利便性を向上させるプロジェクト。セマンティック・ウェブの目的はウェブページの閲覧という行為に、データの交換の側面に加えて意味の疎通を付け加えることにある。 現在のワールド・ワイド・ウェブ上のコンテンツは主にHTMLで記述されている。HTMLでは文書構造を伝えることは可能だが、個々の単語の意味をはじめとする詳細な意味を伝えることはできない。これに対し、セマンティック・ウェブはXMLによって記述した文書にRDFやOWLを用いてタグを付け加える。この、データの意味を記述したタグが文書の含む意味を形式化し、コンピュータによる自動的な情報の収集や分析へのアプローチが可能となると期待されている。オントロジーを扱う階層まではW3Cにより標準化されているが、それ以上の階層の開発は難しいため、実現と標準化には長期間掛かると予想されている。また、既存のWebサイトに対するメタデータ付与の作業が必要であるため、Web全域への普及に関しても長期間掛かると予想されている。 セマンティックウェブはXML、XML Schema、RDF、RDF Schema、OWLなどの標準およびツール群から構成されている。「OWL ウェブ・オントロジー言語概要」はセマンティックウェブにおけるこれら標準およびツール群の機能・関連について述べている。\n",
      "http://dbpedia.org/resource/Mulgara_(software) http://dbpedia.org/ontology/genre http://dbpedia.org/resource/Semantic_Web\n",
      "http://dbpedia.org/resource/Semantic_Web http://dbpedia.org/ontology/abstract Le Web sémantique, ou toile sémantique, est une extension du Web standardisée par le World Wide Web Consortium (W3C). Ces standards encouragent l'utilisation de formats de données et de protocoles d'échange normés sur le Web, avec comme format de base le Resource Description Framework (RDF). Selon le W3C, « le Web sémantique fournit un modèle qui permet aux données d'être partagées et réutilisées entre plusieurs applications, entreprises et groupes d'utilisateurs ». L'expression a été inventée par Tim Berners-Lee (inventeur du Web et directeur du W3C), qui supervise le développement des technologies communes du Web sémantique. Il le définit comme « une toile de données qui peuvent être traitées directement et indirectement par des machines pour aider leurs utilisateurs à créer de nouvelles connaissances ». Pour y parvenir, le Web sémantique met en œuvre le Web des données qui consiste à lier et structurer l'information sur Internet pour accéder simplement à la connaissance qu'elle contient déjà. Alors que ses détracteurs ont mis en doute sa faisabilité, ses promoteurs font valoir que les applications réalisées par les chercheurs dans l'industrie, la biologie et les sciences humaines ont déjà prouvé la validité de ce nouveau concept. L'article original de Tim Berners-Lee en 2001 dans le Scientific American a décrit une évolution attendue du Web existant vers un Web sémantique, mais cela n'a pas encore eu lieu. En 2006, Tim Berners-Lee et ses collègues ont déclaré : « Cette idée simple… reste largement inexploitée. »\n",
      "http://dbpedia.org/resource/Semantic_Web http://www.w3.org/2000/01/rdf-schema#label セマンティック・ウェブ\n",
      "http://dbpedia.org/resource/Turtle_(syntax) http://dbpedia.org/property/genre http://dbpedia.org/resource/Semantic_Web\n",
      "http://dbpedia.org/resource/Semantic_Web http://www.w3.org/2002/07/owl#sameAs http://id.dbpedia.org/resource/Web_semantik\n",
      "http://dbpedia.org/resource/Jena_(framework) http://dbpedia.org/ontology/genre http://dbpedia.org/resource/Semantic_Web\n",
      "http://dbpedia.org/resource/Semantic_Web http://purl.org/dc/terms/subject http://dbpedia.org/resource/Category:Semantic_Web\n",
      "http://dbpedia.org/resource/Semantic_Web http://www.w3.org/1999/02/22-rdf-syntax-ns#type http://dbpedia.org/class/yago/WikicatWebServices\n",
      "http://dbpedia.org/resource/Semantic_Web http://www.w3.org/2002/07/owl#sameAs http://nl.dbpedia.org/resource/Semantisch_web\n",
      "http://dbpedia.org/resource/Semantic_Web http://www.w3.org/2002/07/owl#sameAs http://wikidata.dbpedia.org/resource/Q54837\n",
      "http://dbpedia.org/resource/Semantic_Web http://dbpedia.org/property/b no\n",
      "http://dbpedia.org/resource/David_Karger http://dbpedia.org/ontology/field http://dbpedia.org/resource/Semantic_Web\n",
      "http://dbpedia.org/resource/Semantic_Web http://dbpedia.org/property/d Q54837\n",
      "http://dbpedia.org/resource/Semantic_Web http://www.w3.org/2002/07/owl#sameAs http://pl.dbpedia.org/resource/Semantic_Web\n",
      "http://dbpedia.org/resource/Semantic_Web http://purl.org/dc/terms/subject http://dbpedia.org/resource/Category:Internet_ages\n",
      "http://dbpedia.org/resource/Semantic_Web http://dbpedia.org/ontology/wikiPageExternalLink http://www.w3.org/2005/Incubator/urw3/XGR-urw3-20080331/\n",
      "http://dbpedia.org/resource/Semantic_Web http://dbpedia.org/property/commons Category:Semantic Web\n",
      "http://dbpedia.org/resource/Semantic_Web http://www.w3.org/1999/02/22-rdf-syntax-ns#type http://dbpedia.org/class/yago/Buzzword106608277\n",
      "http://dbpedia.org/resource/Farshad_Fotouhi http://dbpedia.org/ontology/field http://dbpedia.org/resource/Semantic_Web\n",
      "http://dbpedia.org/resource/Semantic_Web http://www.w3.org/2000/01/rdf-schema#label Semantic Web\n",
      "http://dbpedia.org/resource/Semantic_Web http://dbpedia.org/property/q no\n",
      "http://dbpedia.org/resource/Semantic_Internet http://dbpedia.org/ontology/wikiPageRedirects http://dbpedia.org/resource/Semantic_Web\n",
      "http://dbpedia.org/resource/Semantic_integrity http://dbpedia.org/ontology/wikiPageRedirects http://dbpedia.org/resource/Semantic_Web\n",
      "http://dbpedia.org/resource/N-Triples http://dbpedia.org/property/genre http://dbpedia.org/resource/Semantic_Web\n",
      "http://dbpedia.org/resource/Semantic_Web http://www.w3.org/2000/01/rdf-schema#comment A Web semântica é uma extensão da World Wide Web atual, que permitirá aos computadores e humanos trabalharem em cooperação. A Web semântica interliga significados de palavras e, neste âmbito, tem como finalidade conseguir atribuir um significado (sentido) aos conteúdos publicados na Internet de modo que seja perceptível tanto pelo humano como pelo computador. A ideia da Web Semântica surgiu em 2001, quando Tim Berners-Lee, James Hendler e Ora Lassila publicaram um artigo na revista Scientific American, intitulado: “Web Semântica: um novo formato de conteúdo para a Web que tem significado para computadores vai iniciar uma revolução de novas possibilidades.”\n",
      "http://dbpedia.org/resource/Semantic_Web http://www.w3.org/2000/01/rdf-schema#label Web semantico\n",
      "http://dbpedia.org/resource/Semantic_Web http://dbpedia.org/ontology/abstract Semantic Web (sieci semantyczne) – projekt, który ma przyczynić się do utworzenia i rozpowszechnienia standardów opisywania treści w Internecie w sposób, który umożliwi maszynom i programom (np. tzw. agentom) przetwarzanie informacji w sposób odpowiedni do ich znaczenia. Wśród standardów sieci semantycznych znajdują się m.in. OWL, RDF, RDF Schema (inaczej RDFS). Znaczenia zasobów informacyjnych określa się za pomocą tzw. ontologii. Sieć semantyczna jest wizją Tima Bernersa-Lee (twórcy standardu WWW i pierwszej przeglądarki internetowej, a także przewodniczącego W3C). W swoich założeniach sieć semantyczna ma korzystać z istniejącego protokołu komunikacyjnego, na którym bazuje dzisiejszy Internet. Różnica miałaby polegać na tym, że przesyłane dane mogłyby być 'rozumiane' także przez maszyny. Owo 'rozumienie' polegałoby na tym, że dane przekazywane byłyby w postaci, w której można by powiązać ich znaczenia między sobą a także w ramach odpowiedniego kontekstu. Informacje przekazywane w ramach sieci semantycznej wymagałyby nie tylko samych danych, ale także informacji o tychże (tzw. meta-danych). To właśnie meta-dane zawierałyby sformułowania dotyczące relacji między danymi oraz prawa logiki, które można do nich zastosować. Dzięki temu można by: \n",
      "*  powiązać różne dane znajdujące się w Internecie w ramach wspólnych jednostek znaczeniowych (np. strony dotyczące filmów, dziedzin nauki, kuchni francuskiej, etc.) \n",
      "*  rozróżnić dane, które dla maszyn są w tej chwili nierozróżnialne ze względu na identyczny zapis tekstowy (np. zamek - urządzenie do zamykania drzwi; urządzenie do łączenia w ustalonym położeniu elementów ubrania; okazała budowla mieszkalno-obronna) \n",
      "*  przeprowadzać na tychże danych wnioskowania, tzn. otrzymywać informacje na ich temat, które nie są zawarte explicite (np. na podstawie danej \"Ewa jest żoną Adama\", możemy też dowiedzieć się, że Ewa jest kobietą, Adam mężczyzną, Adam jest mężem Ewy, żaden inny mężczyzna nie jest mężem Ewy, etc.)\n",
      "http://dbpedia.org/resource/Criticism_of_the_Semantic_Web http://dbpedia.org/ontology/wikiPageRedirects http://dbpedia.org/resource/Semantic_Web\n",
      "http://dbpedia.org/resource/Semantic_Web http://www.w3.org/1999/02/22-rdf-syntax-ns#type http://www.w3.org/2002/07/owl#Thing\n",
      "http://dbpedia.org/resource/Semantic_Web http://www.w3.org/1999/02/22-rdf-syntax-ns#type http://dbpedia.org/class/yago/Event100029378\n",
      "http://dbpedia.org/resource/Stardog http://dbpedia.org/ontology/genre http://dbpedia.org/resource/Semantic_Web\n",
      "http://dbpedia.org/resource/Semantic_Web http://www.w3.org/1999/02/22-rdf-syntax-ns#type http://dbpedia.org/ontology/Software\n",
      "http://dbpedia.org/resource/Semantic_Web http://dbpedia.org/ontology/abstract La web semántica (del inglés semantic web) es un conjunto de actividades desarrolladas en el seno de World Wide Web Consortium con tendencia a la creación de tecnologías para publicar datos legibles por aplicaciones informáticas (máquinas en la terminología de la Web semántica). Se basa en la idea de añadir metadatos semánticos y ontológicos a la World Wide Web. Esas informaciones adicionales —que describen el contenido, el significado y la relación de los datos— se deben proporcionar de manera formal, para que así sea posible evaluarlas automáticamente por máquinas de procesamiento. El objetivo es mejorar Internet ampliando la interoperabilidad entre los sistemas informáticos usando \"agentes inteligentes\". Agentes inteligentes son programas en las computadoras que buscan información sin operadores humanos. El precursor de la idea, Tim Berners-Lee, intentó desde el principio incluir información semántica en su creación, la World Wide Web, pero por diferentes causas no fue posible. Por ese motivo introdujo el concepto de semántica con la intención de recuperar dicha omisión.\n",
      "http://dbpedia.org/resource/Semantic_Web http://dbpedia.org/ontology/abstract Con il termine web semantico, termine coniato dal suo ideatore, Tim Berners-Lee, si intende la trasformazione del World Wide Web in un ambiente dove i documenti pubblicati (pagine HTML, file, immagini, e così via) sono associati ad informazioni e dati (metadati) che ne specificano il contesto semantico in un formato adatto all'interrogazione e l'interpretazione (es. tramite motori di ricerca) e, più in generale, all'elaborazione automatica. Con l'interpretazione del contenuto dei documenti che il Web semantico impone, saranno possibili ricerche molto più evolute delle attuali, basate sulla presenza nel documento di parole chiave, e altre operazioni specialistiche come la costruzione di reti di relazioni e connessioni tra documenti secondo logiche più elaborate del semplice collegamento ipertestuale.\n",
      "http://dbpedia.org/resource/Open_Semantic_Framework http://dbpedia.org/ontology/genre http://dbpedia.org/resource/Semantic_Web\n",
      "http://dbpedia.org/resource/Nigel_Shadbolt http://dbpedia.org/ontology/field http://dbpedia.org/resource/Semantic_Web\n",
      "http://dbpedia.org/resource/Semantic_Web http://xmlns.com/foaf/0.1/homepage http://www.w3.org/standards/semanticweb/\n",
      "http://dbpedia.org/resource/Semantic_Web http://www.w3.org/2002/07/owl#sameAs http://rdf.freebase.com/ns/m.0bbv9w2\n",
      "http://dbpedia.org/resource/Semantic_Web http://www.w3.org/2000/01/rdf-schema#comment Con il termine web semantico, termine coniato dal suo ideatore, Tim Berners-Lee, si intende la trasformazione del World Wide Web in un ambiente dove i documenti pubblicati (pagine HTML, file, immagini, e così via) sono associati ad informazioni e dati (metadati) che ne specificano il contesto semantico in un formato adatto all'interrogazione e l'interpretazione (es. tramite motori di ricerca) e, più in generale, all'elaborazione automatica.\n",
      "http://dbpedia.org/resource/Semantic_Web http://dbpedia.org/ontology/wikiPageExternalLink http://www-sop.inria.fr/acacia/soft/corese/\n",
      "http://dbpedia.org/resource/Semantic_Web http://purl.org/linguistics/gold/hypernym http://dbpedia.org/resource/Extension\n",
      "http://dbpedia.org/resource/Semantic_Web http://www.w3.org/1999/02/22-rdf-syntax-ns#type http://dbpedia.org/class/yago/PsychologicalFeature100023100\n",
      "http://dbpedia.org/resource/Semantic_Web http://www.w3.org/2002/07/owl#sameAs http://ja.dbpedia.org/resource/セマンティック・ウェブ\n",
      "http://dbpedia.org/resource/Rudi_Studer http://dbpedia.org/ontology/field http://dbpedia.org/resource/Semantic_Web\n",
      "http://en.wikipedia.org/wiki/Semantic_Web http://xmlns.com/foaf/0.1/primaryTopic http://dbpedia.org/resource/Semantic_Web\n",
      "http://dbpedia.org/resource/Semantic-web http://dbpedia.org/ontology/wikiPageRedirects http://dbpedia.org/resource/Semantic_Web\n",
      "http://dbpedia.org/resource/Semantic_Web http://www.w3.org/2000/01/rdf-schema#label Semantic Web\n",
      "http://dbpedia.org/resource/Semantic_Web http://dbpedia.org/property/wikt no\n",
      "http://dbpedia.org/resource/AdExtent http://dbpedia.org/ontology/genre http://dbpedia.org/resource/Semantic_Web\n",
      "http://dbpedia.org/resource/Amit_Sheth http://dbpedia.org/property/fields http://dbpedia.org/resource/Semantic_Web\n",
      "http://dbpedia.org/resource/RuleML http://dbpedia.org/property/focus http://dbpedia.org/resource/Semantic_Web\n",
      "http://dbpedia.org/resource/Extended_Semantic_Web_Conference http://dbpedia.org/ontology/academicDiscipline http://dbpedia.org/resource/Semantic_Web\n",
      "http://dbpedia.org/resource/Semantic_Web http://www.w3.org/2000/01/rdf-schema#label Semantisch web\n",
      "http://dbpedia.org/resource/Syntactic_Web http://dbpedia.org/ontology/wikiPageRedirects http://dbpedia.org/resource/Semantic_Web\n",
      "http://dbpedia.org/resource/Semantic_Web http://www.w3.org/1999/02/22-rdf-syntax-ns#type http://dbpedia.org/class/yago/Nonsense106607339\n",
      "http://dbpedia.org/resource/Semantic_Web http://www.w3.org/2002/07/owl#sameAs http://yago-knowledge.org/resource/Semantic_Web\n",
      "http://dbpedia.org/resource/Notation3 http://dbpedia.org/property/genre http://dbpedia.org/resource/Semantic_Web\n",
      "http://dbpedia.org/resource/Semantic_Web http://www.w3.org/2002/07/owl#sameAs http://www.wikidata.org/entity/Q54837\n",
      "http://dbpedia.org/resource/Semantic_Web http://www.w3.org/2000/01/rdf-schema#comment Het semantisch web verschaft een standaardframework waarmee data gedeeld en hergebruikt kunnen worden. Het is een samenwerking onder leiding van het internationale orgaan voor internetstandaarden, het World Wide Web Consortium (W3C). Het semantisch web is geen synoniem voor Web 2.0, zoals soms wel wordt verondersteld. Tim Berners-Lee beschreef het semantische web als een component van 'Web 3.0'. Soms wordt het gebruikt als synoniem voor Web 3.0, hoewel de definities verschillen.\n",
      "http://dbpedia.org/resource/TriX_(syntax) http://dbpedia.org/property/genre http://dbpedia.org/resource/Semantic_Web\n",
      "http://dbpedia.org/resource/Semantic_Web http://dbpedia.org/ontology/wikiPageExternalLink http://www.semantic-web-book.org\n",
      "http://dbpedia.org/resource/Semantic_Web http://www.w3.org/2002/07/owl#sameAs http://el.dbpedia.org/resource/Σημασιολογικός_Ιστός\n",
      "http://dbpedia.org/resource/Semantic_Web http://www.w3.org/2000/01/rdf-schema#label 语义网\n",
      "http://dbpedia.org/resource/Semantic_Web http://dbpedia.org/ontology/abstract إن ورود المعلومات على الإنترنت يزداد بشكل كبير، فقد أصبح الإنترنت مكانًا للتعبير عن الأفكار، سرد القصص، إنشاء المدونات ومشاركة الفيديوهات والصور والملفات الصوتية وما إلى ذلك. وهو ما جعل كمّ المعلومات المتوفرة للفرد الواحد أكبر بكثير ممايُمكن له أن يستفيد منه. تعريض العقل البشري لهذا الكم الهائل من المعلومات من شأنه أن يتسبب فيما يُمكن أن نصفه بوصف \"الضياع في فضاء المعلومات\"، وذلك راجع إلى بقاء المعلومات المفيدة بعيدة المنال بسبب تراكم الكثير من المعلومات غير المفيدة وغير المرتبطة بالموضوع المراد البحث عنه من قبل المستخدم.لحسن الحظ، مثلما يزداد ورود المعلومات، تزداد مقدرات معالجة المعلومات اوتوماتيكياً، لذا يوجد إمكانيات كبيرة للاستفادة من مقدرات الأتمتة هذه بهدف استخراج المعلومات والخدمات من فيضان الويب والمرتبطة بالمستخدم، وتوصيلها إليه عن طريق واجهة مستخدم معيارية (Standardized User Interface). إن أهمية الحصول على المعلومات بهذه الطريقة التكيفية يزداد بازدياد كتلة المعلومات المتوفرة على الإنترنت. تعتبر شبكة الوب أغنى المصادر المعلوماتية بما تحويه من مستندات ومعلومات ومصادر منوعة يمكن الوصول إليها عن طريق محركات البحث التقليدية. غير أن تنظيم هذه المعلومات والمستندات بصورة تسهل عملية البحث فيها والوصول إليها، يعتبر أمراً غاية في الصعوبة. يضاف إلى ذلك، أنه في ظل التزايد المستمر في حجم المعلومات المنشورة في شبكة الويب أصبح من الصعوبة بمكان قيام محركات البحث بإيجاد المعلومات المناسبة. ومن هذه المشكلة ظهرت فكرة \"الويب ذات الدلالات والمعاني اللفظية\"، أو ما يطلق عليه بالإنجليزية مصطلح (Semantic Web)، والتي هي امتداد للويب الحالية ولكن تختلف عنها بأنها تتفهم مدلولات الألفاظ والمعاني البشرية.\n",
      "http://dbpedia.org/resource/Semantic_Web http://dbpedia.org/ontology/wikiPageID 29123\n",
      "http://dbpedia.org/resource/Semantic_Web http://purl.org/dc/terms/subject http://dbpedia.org/resource/Category:Web_services\n",
      "http://dbpedia.org/resource/Semantic_Web http://dbpedia.org/ontology/abstract Het semantisch web verschaft een standaardframework waarmee data gedeeld en hergebruikt kunnen worden. Het is een samenwerking onder leiding van het internationale orgaan voor internetstandaarden, het World Wide Web Consortium (W3C). Het semantisch web is geen synoniem voor Web 2.0, zoals soms wel wordt verondersteld. Tim Berners-Lee beschreef het semantische web als een component van 'Web 3.0'. Soms wordt het gebruikt als synoniem voor Web 3.0, hoewel de definities verschillen.\n",
      "http://dbpedia.org/resource/Semantic_Web http://dbpedia.org/ontology/abstract The Semantic Web is an extension of the Web through standards by the World Wide Web Consortium (W3C). The standards promote common data formats and exchange protocols on the Web, most fundamentally the Resource Description Framework (RDF). According to the W3C, \"The Semantic Web provides a common framework that allows data to be shared and reused across application, enterprise, and community boundaries\". The term was coined by Tim Berners-Lee for a web of data that can be processed by machines.While its critics have questioned its feasibility, proponents argue that applications in industry, biology and human sciences research have already proven the validity of the original concept. The 2001 Scientific American article by Berners-Lee, Hendler, and Lassila described an expected evolution of the existing Web to a Semantic Web. In 2006, Berners-Lee and colleagues stated that: \"This simple idea…remains largely unrealized\".In 2013, more than four million Web domains contained Semantic Web markup.\n",
      "http://dbpedia.org/resource/Semantic_Web http://www.w3.org/1999/02/22-rdf-syntax-ns#type http://dbpedia.org/class/yago/WikicatBuzzwords\n",
      "http://dbpedia.org/resource/Semantic_Web http://dbpedia.org/ontology/abstract A Web semântica é uma extensão da World Wide Web atual, que permitirá aos computadores e humanos trabalharem em cooperação. A Web semântica interliga significados de palavras e, neste âmbito, tem como finalidade conseguir atribuir um significado (sentido) aos conteúdos publicados na Internet de modo que seja perceptível tanto pelo humano como pelo computador. A ideia da Web Semântica surgiu em 2001, quando Tim Berners-Lee, James Hendler e Ora Lassila publicaram um artigo na revista Scientific American, intitulado: “Web Semântica: um novo formato de conteúdo para a Web que tem significado para computadores vai iniciar uma revolução de novas possibilidades.” A web semântica é a relação de interatividade do homem e o computador, onde um depende do outro para a conclusão de tarefas, assim acepção de entendimento do comando estipulado do ser humano à interface operacional da maquina dando um significado de ordem a ser executada. Sendo desta forma uma espécie de escrita de entendimento tanto para o computador e para usuário, por meio de organização das informações contida na máquina, através do seu perfil de suas últimas pesquisas realizadas, originando um repositório de dados lincados, como se fosse um verbete de enciclopédia. Podemos fazer uma assimilação da web semântica com a Ciência da Informação, pelo fato de possuir a ideia estrutural de arranjo sistêmico, agrupando um conjunto de coleta de análise, classificação, armazenamento, disseminação e recuperação de informação como se fosse uma enciclopédia. O objetivo principal da web semântica não é, pelo menos para já, treinar as máquinas para que se comportem como pessoas, mas sim desenvolver tecnologias e linguagens que tornem a informação legível para as máquinas. A finalidade passa pelo desenvolvimento de um modelo tecnológico que permita a partilha global de conhecimento assistido por máquinas (W3C 2001). A integração das linguagens ou tecnologias eXtensible Markup Language (XML), Resource Description Framework (RDF), arquiteturas de metadados, ontologias, agentes computacionais, entre outras, favorecerá o aparecimento de serviços Web que garantam a interoperabilidade e cooperação. Ultimamente tem-se associado a Web Semântica à Web 3.0, como um próximo movimento da internet depois da Web 2.0 que já inicia seu crescimento.\n",
      "http://dbpedia.org/resource/Semantic_Web http://dbpedia.org/ontology/abstract Das Semantic Web erweitert das Web, um Daten zwischen Rechnern einfacher austauschbar und für sie einfacher verwertbar zu machen; so kann beispielsweise der Begriff „Bremen“ in einem Webdokument um die Information ergänzt werden, ob hier ein Schiffs-, Familien- oder der Stadtname gemeint ist. Diese zusätzlichen Informationen explizieren die sonst nur unstrukturiert vorkommenden Daten. Zur Realisierung dienen Standards zur Veröffentlichung und Nutzung maschinenlesbarer Daten (insbesondere RDF). Während Menschen solche Informationen aus dem gegebenen Kontext schließen können (aus dem Gesamttext, über die Art der Publikation oder der Rubrik in selbiger, Bilder etc.) und derartige Verknüpfungen unbewusst aufbauen, muss Maschinen dieser Kontext erst beigebracht werden; hierzu werden die Inhalte mit weiterführenden Informationen verknüpft. Das Semantic Web beschreibt dazu konzeptionell einen „Giant Global Graph“ (engl. ‚gigantischer globaler Graph‘). Dabei werden sämtliche Sachen von Interesse identifiziert und mit einer eindeutigen Adresse versehen als Knoten angelegt, die wiederum durch Kanten (ebenfalls jeweils eindeutig benannt) miteinander verbunden sind. Einzelne Dokumente im Web beschreiben dann eine Reihe von Kanten, und die Gesamtheit all dieser Kanten entspricht dem globalen Graphen.\n",
      "http://dbpedia.org/resource/The_semantic_web http://dbpedia.org/ontology/wikiPageRedirects http://dbpedia.org/resource/Semantic_Web\n",
      "http://dbpedia.org/resource/Semantic_Web http://dbpedia.org/ontology/wikiPageExternalLink http://www.w3.org/standards/semanticweb/\n",
      "http://dbpedia.org/resource/Web_3 http://dbpedia.org/ontology/wikiPageRedirects http://dbpedia.org/resource/Semantic_Web\n",
      "http://dbpedia.org/resource/Semantic_Web http://www.w3.org/2000/01/rdf-schema#comment セマンティック・ウェブ（英: semantic web）は W3C のティム・バーナーズ＝リーによって提唱された、ウェブページの意味を扱うことを可能とする標準やツール群の開発によってワールド・ワイド・ウェブの利便性を向上させるプロジェクト。セマンティック・ウェブの目的はウェブページの閲覧という行為に、データの交換の側面に加えて意味の疎通を付け加えることにある。 現在のワールド・ワイド・ウェブ上のコンテンツは主にHTMLで記述されている。HTMLでは文書構造を伝えることは可能だが、個々の単語の意味をはじめとする詳細な意味を伝えることはできない。これに対し、セマンティック・ウェブはXMLによって記述した文書にRDFやOWLを用いてタグを付け加える。この、データの意味を記述したタグが文書の含む意味を形式化し、コンピュータによる自動的な情報の収集や分析へのアプローチが可能となると期待されている。オントロジーを扱う階層まではW3Cにより標準化されているが、それ以上の階層の開発は難しいため、実現と標準化には長期間掛かると予想されている。また、既存のWebサイトに対するメタデータ付与の作業が必要であるため、Web全域への普及に関しても長期間掛かると予想されている。\n",
      "http://dbpedia.org/resource/Semantic_Web http://www.w3.org/2002/07/owl#sameAs http://ko.dbpedia.org/resource/시맨틱_웹\n",
      "http://dbpedia.org/resource/Frank_van_Harmelen http://dbpedia.org/ontology/field http://dbpedia.org/resource/Semantic_Web\n",
      "http://dbpedia.org/resource/Semantic_Web http://www.w3.org/2000/01/rdf-schema#label Web sémantique\n",
      "http://dbpedia.org/resource/Semantic_Web http://www.w3.org/2002/07/owl#sameAs http://es.dbpedia.org/resource/Web_semántica\n",
      "http://dbpedia.org/resource/Semantic_Web http://xmlns.com/foaf/0.1/isPrimaryTopicOf http://en.wikipedia.org/wiki/Semantic_Web\n",
      "http://dbpedia.org/resource/Semantic_Web http://dbpedia.org/property/v no\n",
      "http://dbpedia.org/resource/Semantic_Web http://www.w3.org/1999/02/22-rdf-syntax-ns#type http://dbpedia.org/class/yago/Communication100033020\n",
      "http://dbpedia.org/resource/Semantic_Web http://purl.org/dc/terms/subject http://dbpedia.org/resource/Category:Emerging_technologies\n",
      "http://dbpedia.org/resource/Semantic_Web http://dbpedia.org/ontology/wikiPageExternalLink http://www.springer.com/computer/database+management+%26+information+retrieval/book/978-3-662-43795-7\n",
      "http://dbpedia.org/resource/Semantic_Web http://www.w3.org/2000/01/rdf-schema#comment The Semantic Web is an extension of the Web through standards by the World Wide Web Consortium (W3C). The standards promote common data formats and exchange protocols on the Web, most fundamentally the Resource Description Framework (RDF). The 2001 Scientific American article by Berners-Lee, Hendler, and Lassila described an expected evolution of the existing Web to a Semantic Web. In 2006, Berners-Lee and colleagues stated that: \"This simple idea…remains largely unrealized\".In 2013, more than four million Web domains contained Semantic Web markup.\n",
      "http://dbpedia.org/resource/Semweb http://dbpedia.org/ontology/wikiPageRedirects http://dbpedia.org/resource/Semantic_Web\n",
      "http://dbpedia.org/resource/Semantic_Web http://www.w3.org/ns/prov#wasDerivedFrom http://en.wikipedia.org/wiki/Semantic_Web?oldid=741952532\n",
      "http://dbpedia.org/resource/Semantic_Web http://www.w3.org/1999/02/22-rdf-syntax-ns#type http://dbpedia.org/class/yago/Abstraction100002137\n",
      "http://dbpedia.org/resource/Semantic_web http://dbpedia.org/ontology/wikiPageRedirects http://dbpedia.org/resource/Semantic_Web\n",
      "http://dbpedia.org/resource/Carole_Goble http://dbpedia.org/ontology/field http://dbpedia.org/resource/Semantic_Web\n",
      "http://dbpedia.org/resource/SemWeb http://dbpedia.org/ontology/wikiPageRedirects http://dbpedia.org/resource/Semantic_Web\n",
      "http://dbpedia.org/resource/Semantic_Web http://dbpedia.org/ontology/wikiPageRevisionID 741952532\n",
      "http://dbpedia.org/resource/Semantic_Web http://www.w3.org/2002/07/owl#sameAs http://dbpedia.org/resource/Semantic_Web\n",
      "http://dbpedia.org/resource/Semantic_Web http://www.w3.org/2000/01/rdf-schema#comment La web semántica (del inglés semantic web) es un conjunto de actividades desarrolladas en el seno de World Wide Web Consortium con tendencia a la creación de tecnologías para publicar datos legibles por aplicaciones informáticas (máquinas en la terminología de la Web semántica). Se basa en la idea de añadir metadatos semánticos y ontológicos a la World Wide Web. Esas informaciones adicionales —que describen el contenido, el significado y la relación de los datos— se deben proporcionar de manera formal, para que así sea posible evaluarlas automáticamente por máquinas de procesamiento. El objetivo es mejorar Internet ampliando la interoperabilidad entre los sistemas informáticos usando \"agentes inteligentes\". Agentes inteligentes son programas en las computadoras que buscan información sin o\n",
      "http://dbpedia.org/resource/Semantic_Web http://www.w3.org/2000/01/rdf-schema#comment Семанти́ческая паути́на (англ. semantic web) — это общедоступная глобальная семантическая сеть, формируемая на базе Всемирной паутины путём стандартизации представления информации в виде, пригодном для машинной обработки.\n",
      "http://dbpedia.org/resource/YAGO_(database) http://dbpedia.org/ontology/genre http://dbpedia.org/resource/Semantic_Web\n",
      "http://dbpedia.org/resource/Semantic_Web http://dbpedia.org/ontology/abstract Семанти́ческая паути́на (англ. semantic web) — это общедоступная глобальная семантическая сеть, формируемая на базе Всемирной паутины путём стандартизации представления информации в виде, пригодном для машинной обработки. В обычной Всемирной паутине, основанной на HTML-страницах, информация заложена в тексте страниц и предназначена для чтения и понимания человеком. Семантическая паутина состоит из машинно-читаемых элементов — узлов семантической сети, с опорой на онтологии. Благодаря этому программы-клиенты получают возможность непосредственно получать из интернета утверждения вида «предмет — вид взаимосвязи — другой предмет» и вычислять по ним логические заключения. Семантическая паутина работает параллельно с обычной Всемирной паутиной и на её основе, используя протокол HTTP и идентификаторы ресурсов URI. Название «Семантическая паутина» было впервые введено сэром Тимом Бернерсом-Ли (изобретателем Всемирной паутины) в сентябре 1998 года, и называется им «следующим шагом в развитии Всемирной паутины». Позже в своём блоге он предложил в качестве синонима термин «гигантский глобальный граф» (англ. giant global graph, GGG, по аналогии с WWW). Концепция семантической паутины была принята и продвигается консорциумом Всемирной паутины.\n",
      "http://dbpedia.org/resource/Schema.org http://dbpedia.org/property/domain http://dbpedia.org/resource/Semantic_Web\n",
      "http://dbpedia.org/resource/Ontotext http://dbpedia.org/ontology/industry http://dbpedia.org/resource/Semantic_Web\n",
      "http://dbpedia.org/resource/James_Hendler http://dbpedia.org/ontology/knownFor http://dbpedia.org/resource/Semantic_Web\n",
      "http://dbpedia.org/resource/Semantic_Web http://www.w3.org/1999/02/22-rdf-syntax-ns#type http://dbpedia.org/class/yago/Service100577525\n",
      "http://dbpedia.org/resource/Semantic_Web http://purl.org/dc/terms/subject http://dbpedia.org/resource/Category:Buzzwords\n",
      "http://dbpedia.org/resource/Semantic_Web http://xmlns.com/foaf/0.1/depiction http://commons.wikimedia.org/wiki/Special:FilePath/RDF_example.svg\n",
      "http://dbpedia.org/resource/Semantic_Web http://dbpedia.org/ontology/abstract 语义网（Semantic Web）是由万维网联盟的蒂姆·伯纳斯-李（Tim Berners-Lee）在1998年提出的一个概念，它的核心是：通过给万维网上的文档（如: HTML）添加能够被计算机所理解的语义（Meta data），从而使整个互联网成为一个通用的信息交换媒介。语义万维网通过使用标准、置标语言和相关的处理工具来扩展万维网的能力。不过语意网概念实际上是基于很多已有技术的，也依赖于后来和text-and-markup与知识表现的综合。那些渊源甚至可以追溯到20世纪60年代末期的Allan M. Collins、M. Ross Quillian、Elizabeth F. Loftus等人的研究，还有之后70年代初R.F.Simon、R.C.Schamk、Minsky等人陆续提出的一些理论上的成果，其中Simon在进行自然语言理解的应用研究时提出了语义网络Semantic Network（不是现在的Semantic Web）的概念。当时人们甚至发明了以逻辑为基础的程序设计语言Prolog。 \"语义\"网是由比现今成熟的网际搜索工具更加行之有效的、更加广泛意义的并且自动聚集和搜集信息的文档组成的。其最基本的元素就是语义链接。 通过下列方法可以提升全球資訊網以及其互连的资源的易用性（usability）和實用性（usefulness）： \n",
      "* \"标记\"了语义信息的文档。这可以是机器可以理解的关于文档内容（例如文档的作者,标题,简介等)的描述,或者是描述该网站所拥有的服务和资源.(注意:任何东西都是能被URI-统一资源定位符-所描述的,因此语义网能理解人物、地方、想法、類別等等) \n",
      "* 通用元数据詞滙表(本体论)及詞滙間的影射使得文檔作者知道如何來標記文檔方可讓機器識別他想提供的元數據. \n",
      "* 利用元数据为语义网用户执行任务的自动软件代理(agent). \n",
      "* 為自動軟件代理提供特定信息的網絡服务 (例如,可信度服務可以讓軟件代理查詢某個在线商店是否曾經有過不良紀錄或者發送過垃圾郵件).\n"
     ]
    }
   ],
   "source": [
    "for s,p,o in g:\n",
    "    print(s, p, o)"
   ]
  },
  {
   "cell_type": "code",
   "execution_count": 4,
   "metadata": {},
   "outputs": [],
   "source": [
    "semweb=rdflib.URIRef('http://dbpedia.org/resource/Semantic_Web')\n",
    "Type=g.value(semweb, rdflib.RDFS.label)"
   ]
  },
  {
   "cell_type": "code",
   "execution_count": 5,
   "metadata": {},
   "outputs": [
    {
     "data": {
      "text/plain": [
       "rdflib.term.Literal('Семантическая паутина', lang='ru')"
      ]
     },
     "execution_count": 5,
     "metadata": {},
     "output_type": "execute_result"
    }
   ],
   "source": [
    "Type"
   ]
  },
  {
   "cell_type": "code",
   "execution_count": 6,
   "metadata": {},
   "outputs": [],
   "source": [
    "dbpedia=rdflib.Namespace('http://dbpedia.org/ontology/')\n",
    "\n",
    "abstracts=list(x for x in g.objects(semweb, dbpedia['abstract']) if x.language=='en')"
   ]
  },
  {
   "cell_type": "code",
   "execution_count": 7,
   "metadata": {},
   "outputs": [
    {
     "data": {
      "text/plain": [
       "[rdflib.term.Literal('The Semantic Web is an extension of the Web through standards by the World Wide Web Consortium (W3C). The standards promote common data formats and exchange protocols on the Web, most fundamentally the Resource Description Framework (RDF). According to the W3C, \"The Semantic Web provides a common framework that allows data to be shared and reused across application, enterprise, and community boundaries\". The term was coined by Tim Berners-Lee for a web of data that can be processed by machines.While its critics have questioned its feasibility, proponents argue that applications in industry, biology and human sciences research have already proven the validity of the original concept. The 2001 Scientific American article by Berners-Lee, Hendler, and Lassila described an expected evolution of the existing Web to a Semantic Web. In 2006, Berners-Lee and colleagues stated that: \"This simple idea…remains largely unrealized\".In 2013, more than four million Web domains contained Semantic Web markup.', lang='en')]"
      ]
     },
     "execution_count": 7,
     "metadata": {},
     "output_type": "execute_result"
    }
   ],
   "source": [
    "abstracts"
   ]
  },
  {
   "cell_type": "code",
   "execution_count": 8,
   "metadata": {},
   "outputs": [
    {
     "name": "stdout",
     "output_type": "stream",
     "text": [
      "graph has 241 statements.\n"
     ]
    }
   ],
   "source": [
    "result = g.parse(\"http://www.w3.org/People/Berners-Lee/card\")\n",
    "\n",
    "print(\"graph has %s statements.\" % len(g))\n",
    "\n",
    "for subj, pred, obj in g:\n",
    "    if (subj, pred, obj) not in g:\n",
    "        raise Exception(\"It better be!\")\n",
    "\n",
    "s = g.serialize(format='n3')"
   ]
  },
  {
   "cell_type": "code",
   "execution_count": 9,
   "metadata": {},
   "outputs": [
    {
     "name": "stdout",
     "output_type": "stream",
     "text": [
      "b'@prefix cc: <http://creativecommons.org/ns#> .\\n@prefix cert: <http://www.w3.org/ns/auth/cert#> .\\n@prefix con: <http://www.w3.org/2000/10/swap/pim/contact#> .\\n@prefix dbo: <http://dbpedia.org/ontology/> .\\n@prefix dbp: <http://dbpedia.org/property/> .\\n@prefix dc: <http://purl.org/dc/elements/1.1/> .\\n@prefix dct: <http://purl.org/dc/terms/> .\\n@prefix doap: <http://usefulinc.com/ns/doap#> .\\n@prefix foaf: <http://xmlns.com/foaf/0.1/> .\\n@prefix geo: <http://www.w3.org/2003/01/geo/wgs84_pos#> .\\n@prefix ldp: <http://www.w3.org/ns/ldp#> .\\n@prefix ns8: <http://purl.org/linguistics/gold/> .\\n@prefix owl: <http://www.w3.org/2002/07/owl#> .\\n@prefix prov: <http://www.w3.org/ns/prov#> .\\n@prefix rdf: <http://www.w3.org/1999/02/22-rdf-syntax-ns#> .\\n@prefix rdfs: <http://www.w3.org/2000/01/rdf-schema#> .\\n@prefix schema: <http://schema.org/> .\\n@prefix sioc: <http://rdfs.org/sioc/ns#> .\\n@prefix solid: <http://www.w3.org/ns/solid/terms#> .\\n@prefix space: <http://www.w3.org/ns/pim/space#> .\\n@prefix vcard: <http://www.w3.org/2006/vcard/ns#> .\\n@prefix xml: <http://www.w3.org/XML/1998/namespace> .\\n@prefix xsd: <http://www.w3.org/2001/XMLSchema#> .\\n\\n<http://dbpedia.org/resource/AdExtent> dbo:genre <http://dbpedia.org/resource/Semantic_Web> .\\n\\n<http://dbpedia.org/resource/Amit_Sheth> dbp:fields <http://dbpedia.org/resource/Semantic_Web> .\\n\\n<http://dbpedia.org/resource/Carole_Goble> dbo:field <http://dbpedia.org/resource/Semantic_Web> .\\n\\n<http://dbpedia.org/resource/Criticism_of_the_Semantic_Web> dbo:wikiPageRedirects <http://dbpedia.org/resource/Semantic_Web> .\\n\\n<http://dbpedia.org/resource/DBpedia> dbo:genre <http://dbpedia.org/resource/Semantic_Web> .\\n\\n<http://dbpedia.org/resource/David_Karger> dbo:field <http://dbpedia.org/resource/Semantic_Web> .\\n\\n<http://dbpedia.org/resource/Deborah_McGuinness> dbo:knownFor <http://dbpedia.org/resource/Semantic_Web> .\\n\\n<http://dbpedia.org/resource/Extended_Semantic_Web_Conference> dbo:academicDiscipline <http://dbpedia.org/resource/Semantic_Web> .\\n\\n<http://dbpedia.org/resource/Farshad_Fotouhi> dbo:field <http://dbpedia.org/resource/Semantic_Web> .\\n\\n<http://dbpedia.org/resource/Frank_van_Harmelen> dbo:field <http://dbpedia.org/resource/Semantic_Web> .\\n\\n<http://dbpedia.org/resource/Ian_Horrocks> dbo:field <http://dbpedia.org/resource/Semantic_Web> .\\n\\n<http://dbpedia.org/resource/International_Semantic_Web_Conference> dbo:academicDiscipline <http://dbpedia.org/resource/Semantic_Web> .\\n\\n<http://dbpedia.org/resource/James_Hendler> dbo:knownFor <http://dbpedia.org/resource/Semantic_Web> .\\n\\n<http://dbpedia.org/resource/Jena_(framework)> dbo:genre <http://dbpedia.org/resource/Semantic_Web> .\\n\\n<http://dbpedia.org/resource/Joseph_G._Davis> dbo:field <http://dbpedia.org/resource/Semantic_Web> .\\n\\n<http://dbpedia.org/resource/Marc_Twagirumukiza> dbo:field <http://dbpedia.org/resource/Semantic_Web> .\\n\\n<http://dbpedia.org/resource/Mulgara_(software)> dbo:genre <http://dbpedia.org/resource/Semantic_Web> .\\n\\n<http://dbpedia.org/resource/N-Triples> dbp:genre <http://dbpedia.org/resource/Semantic_Web> .\\n\\n<http://dbpedia.org/resource/Nigel_Shadbolt> dbo:field <http://dbpedia.org/resource/Semantic_Web> ;\\n    dbo:knownFor <http://dbpedia.org/resource/Semantic_Web> .\\n\\n<http://dbpedia.org/resource/Notation3> dbp:genre <http://dbpedia.org/resource/Semantic_Web> .\\n\\n<http://dbpedia.org/resource/Ontotext> dbo:industry <http://dbpedia.org/resource/Semantic_Web> .\\n\\n<http://dbpedia.org/resource/Open_Semantic_Framework> dbo:genre <http://dbpedia.org/resource/Semantic_Web> .\\n\\n<http://dbpedia.org/resource/RDF/XML> dbp:genre <http://dbpedia.org/resource/Semantic_Web> .\\n\\n<http://dbpedia.org/resource/RDF_Schema> dbp:domain <http://dbpedia.org/resource/Semantic_Web> .\\n\\n<http://dbpedia.org/resource/RDFa> dbp:domain <http://dbpedia.org/resource/Semantic_Web> .\\n\\n<http://dbpedia.org/resource/Resource_Description_Framework> dbp:domain <http://dbpedia.org/resource/Semantic_Web> .\\n\\n<http://dbpedia.org/resource/Rudi_Studer> dbo:field <http://dbpedia.org/resource/Semantic_Web> .\\n\\n<http://dbpedia.org/resource/RuleML> dbp:focus <http://dbpedia.org/resource/Semantic_Web> .\\n\\n<http://dbpedia.org/resource/Schema.org> dbp:domain <http://dbpedia.org/resource/Semantic_Web> .\\n\\n<http://dbpedia.org/resource/SemWeb> dbo:wikiPageRedirects <http://dbpedia.org/resource/Semantic_Web> .\\n\\n<http://dbpedia.org/resource/Semantic-web> dbo:wikiPageRedirects <http://dbpedia.org/resource/Semantic_Web> .\\n\\n<http://dbpedia.org/resource/Semantic_Internet> dbo:wikiPageRedirects <http://dbpedia.org/resource/Semantic_Web> .\\n\\n<http://dbpedia.org/resource/Semantic_integrity> dbo:wikiPageRedirects <http://dbpedia.org/resource/Semantic_Web> .\\n\\n<http://dbpedia.org/resource/Semantic_internet> dbo:wikiPageRedirects <http://dbpedia.org/resource/Semantic_Web> .\\n\\n<http://dbpedia.org/resource/Semantic_web> dbo:wikiPageRedirects <http://dbpedia.org/resource/Semantic_Web> .\\n\\n<http://dbpedia.org/resource/Semweb> dbo:wikiPageRedirects <http://dbpedia.org/resource/Semantic_Web> .\\n\\n<http://dbpedia.org/resource/Sesame_(framework)> dbo:genre <http://dbpedia.org/resource/Semantic_Web> .\\n\\n<http://dbpedia.org/resource/Stardog> dbo:genre <http://dbpedia.org/resource/Semantic_Web> .\\n\\n<http://dbpedia.org/resource/Syntactic_Web> dbo:wikiPageRedirects <http://dbpedia.org/resource/Semantic_Web> .\\n\\n<http://dbpedia.org/resource/The_semantic_web> dbo:wikiPageRedirects <http://dbpedia.org/resource/Semantic_Web> .\\n\\n<http://dbpedia.org/resource/TriG_(syntax)> dbp:genre <http://dbpedia.org/resource/Semantic_Web> .\\n\\n<http://dbpedia.org/resource/TriX_(syntax)> dbp:genre <http://dbpedia.org/resource/Semantic_Web> .\\n\\n<http://dbpedia.org/resource/Turtle_(syntax)> dbp:genre <http://dbpedia.org/resource/Semantic_Web> .\\n\\n<http://dbpedia.org/resource/UMBEL> dbo:genre <http://dbpedia.org/resource/Semantic_Web> .\\n\\n<http://dbpedia.org/resource/Web_3> dbo:wikiPageRedirects <http://dbpedia.org/resource/Semantic_Web> .\\n\\n<http://dbpedia.org/resource/Web_3.0> dbo:wikiPageRedirects <http://dbpedia.org/resource/Semantic_Web> .\\n\\n<http://dbpedia.org/resource/Wendy_Hall> dbo:field <http://dbpedia.org/resource/Semantic_Web> .\\n\\n<http://dbpedia.org/resource/YAGO_(database)> dbo:genre <http://dbpedia.org/resource/Semantic_Web> .\\n\\n<http://dig.csail.mit.edu/2005/ajar/ajaw/data#Tabulator> doap:developer <https://www.w3.org/People/Berners-Lee/card#i> .\\n\\n<http://dig.csail.mit.edu/2007/01/camp/data#course> foaf:maker <https://www.w3.org/People/Berners-Lee/card#i> .\\n\\n<http://dig.csail.mit.edu/data#DIG> foaf:member <https://www.w3.org/People/Berners-Lee/card#i> .\\n\\n<http://wiki.ontoworld.org/index.php/_IRW2006> dc:title \"Identity, Reference and the Web workshop 2006\" ;\\n    con:participant <https://www.w3.org/People/Berners-Lee/card#i> .\\n\\n<http://www.ecs.soton.ac.uk/~dt2/dlstuff/www2006_data#panel-panelk01> rdfs:label \"The Next Wave of the Web (Plenary Panel)\" ;\\n    con:participant <https://www.w3.org/People/Berners-Lee/card#i> .\\n\\n<http://www.w3.org/2000/10/swap/data#Cwm> doap:developer <https://www.w3.org/People/Berners-Lee/card#i> .\\n\\n<http://www.w3.org/2011/Talks/0331-hyderabad-tbl/data#talk> dct:title \"Designing the Web for an Open Society\" ;\\n    foaf:maker <https://www.w3.org/People/Berners-Lee/card#i> .\\n\\n<http://www.w3.org/DesignIssues/Overview.html> dc:title \"Design Issues for the World Wide Web\" ;\\n    foaf:maker <https://www.w3.org/People/Berners-Lee/card#i> .\\n\\n<http://www.w3.org/People/Berners-Lee/card> a foaf:PersonalProfileDocument ;\\n    cc:license <http://creativecommons.org/licenses/by-nc/3.0/> ;\\n    dc:title \"Tim Berners-Lee\\'s FOAF file\" ;\\n    foaf:maker <https://www.w3.org/People/Berners-Lee/card#i> ;\\n    foaf:primaryTopic <https://www.w3.org/People/Berners-Lee/card#i> .\\n\\n<http://www.w3.org/People/Berners-Lee/card#i> cert:key [ a cert:RSAPublicKey ;\\n            cert:exponent 65537 ;\\n            cert:modulus \"ebe99c737bd3670239600547e5e2eb1d1497da39947b6576c3c44ffeca32cf0f2f7cbee3c47001278a90fc7fc5bcf292f741eb1fcd6bbe7f90650afb519cf13e81b2bffc6e02063ee5a55781d420b1dfaf61c15758480e66d47fb0dcb5fa7b9f7f1052e5ccbd01beee9553c3b6b51f4daf1fce991294cd09a3d1d636bc6c7656e4455d0aff06daec740ed0084aa6866fcae1359de61cc12dbe37c8fa42e977c6e727a8258bb9a3f265b27e3766fe0697f6aa0bcc81c3f026e387bd7bbc81580dc1853af2daa099186a9f59da526474ef6ec0a3d84cf400be3261b6b649dea1f78184862d34d685d2d587f09acc14cd8e578fdd2283387821296f0af39b8d8845\"^^xsd:hexBinary ] .\\n\\n<http://www.w3.org/data#W3C> foaf:member <https://www.w3.org/People/Berners-Lee/card#i> .\\n\\n<http://dig.csail.mit.edu/breadcrumbs/blog/4> dc:title \"timbl\\'s blog on DIG\" ;\\n    rdfs:seeAlso <http://dig.csail.mit.edu/breadcrumbs/blog/feed/4> ;\\n    foaf:maker <https://www.w3.org/People/Berners-Lee/card#i> .\\n\\n<http://en.wikipedia.org/wiki/Semantic_Web> foaf:primaryTopic <http://dbpedia.org/resource/Semantic_Web> .\\n\\n<https://timbl.com/timbl/Public/friends.ttl> a foaf:PersonalProfileDocument ;\\n    cc:license <http://creativecommons.org/licenses/by-nc/3.0/> ;\\n    dc:title \"Tim Berners-Lee\\'s editable profile\" ;\\n    foaf:maker <https://www.w3.org/People/Berners-Lee/card#i> ;\\n    foaf:primaryTopic <https://www.w3.org/People/Berners-Lee/card#i> .\\n\\n<https://www.w3.org/People/Berners-Lee/card#i> a con:Male,\\n        foaf:Person ;\\n    rdfs:label \"Tim Berners-Lee\" ;\\n    sioc:avatar <http://www.w3.org/People/Berners-Lee/images/timbl-image-by-Coz-cropped.jpg> ;\\n    schema:owns <https://timblbot.inrupt.net/profile/card#me> ;\\n    rdfs:seeAlso <https://timbl.com/timbl/Public/friends.ttl> ;\\n    con:assistant <https://www.w3.org/People/Berners-Lee/card#amy> ;\\n    con:homePage <http://www.w3.org/People/Berners-Lee/> ;\\n    con:office [ con:address [ con:city \"Cambridge\" ;\\n                    con:country \"USA\" ;\\n                    con:postalCode \"02139\" ;\\n                    con:street \"32 Vassar Street\" ;\\n                    con:street2 \"MIT CSAIL Building 32\" ] ;\\n            geo:location [ geo:lat \"42.361860\" ;\\n                    geo:long \"-71.091840\" ] ] ;\\n    con:preferredURI \"https://www.w3.org/People/Berners-Lee/card#i\" ;\\n    con:publicHomePage <http://www.w3.org/People/Berners-Lee/> ;\\n    vcard:fn \"Tim Berners-Lee\" ;\\n    vcard:hasAddress [ a vcard:Work ;\\n            vcard:locality \"Cambridge\" ;\\n            vcard:postal-code \"02139\" ;\\n            vcard:region \"MA\" ;\\n            vcard:street-address \"32 Vassar Street\" ] ;\\n    ldp:inbox <https://timbl.com/timbl/Public/Inbox> ;\\n    space:preferencesFile <https://timbl.com/timbl/Data/preferences.n3> ;\\n    space:storage <https://timbl.com/timbl/Public/>,\\n        <https://timbl.inrupt.net/>,\\n        <https://timbl.solid.community/> ;\\n    solid:editableProfile <https://timbl.com/timbl/Public/friends.ttl> ;\\n    solid:oidcIssuer <https://timbl.com> ;\\n    solid:profileBackgroundColor \"#ffffff\" ;\\n    solid:profileHighlightColor \"#00467E\" ;\\n    solid:publicTypeIndex <https://timbl.com/timbl/Public/PublicTypeIndex.ttl> ;\\n    foaf:account <http://en.wikipedia.org/wiki/User:Timbl>,\\n        <http://twitter.com/timberners_lee>,\\n        <http://www.reddit.com/user/timbl/> ;\\n    foaf:based_near [ geo:lat \"42.361860\" ;\\n            geo:long \"-71.091840\" ] ;\\n    foaf:family_name \"Berners-Lee\" ;\\n    foaf:givenname \"Timothy\" ;\\n    foaf:homepage <https://www.w3.org/People/Berners-Lee/> ;\\n    foaf:img <https://www.w3.org/Press/Stock/Berners-Lee/2001-europaeum-eighth.jpg> ;\\n    foaf:mbox <mailto:timbl@w3.org> ;\\n    foaf:mbox_sha1sum \"965c47c5a70db7407210cef6e4e6f5374a525c5c\" ;\\n    foaf:name \"Timothy Berners-Lee\" ;\\n    foaf:nick \"TimBL\",\\n        \"timbl\" ;\\n    foaf:openid <https://www.w3.org/People/Berners-Lee/> ;\\n    foaf:title \"Sir\" ;\\n    foaf:weblog <http://dig.csail.mit.edu/breadcrumbs/blog/4> ;\\n    foaf:workplaceHomepage <https://www.w3.org/> .\\n\\n<http://dbpedia.org/resource/Semantic_Web> a <http://dbpedia.org/class/yago/Abstraction100002137>,\\n        <http://dbpedia.org/class/yago/Act100030358>,\\n        <http://dbpedia.org/class/yago/Activity100407535>,\\n        <http://dbpedia.org/class/yago/Age104924103>,\\n        <http://dbpedia.org/class/yago/Attribute100024264>,\\n        <http://dbpedia.org/class/yago/Buzzword106608277>,\\n        <http://dbpedia.org/class/yago/Communication100033020>,\\n        <http://dbpedia.org/class/yago/Event100029378>,\\n        <http://dbpedia.org/class/yago/Message106598915>,\\n        <http://dbpedia.org/class/yago/Nonsense106607339>,\\n        <http://dbpedia.org/class/yago/Property104916342>,\\n        <http://dbpedia.org/class/yago/PsychologicalFeature100023100>,\\n        <http://dbpedia.org/class/yago/Service100577525>,\\n        <http://dbpedia.org/class/yago/WikicatBuzzwords>,\\n        <http://dbpedia.org/class/yago/WikicatInternetAges>,\\n        <http://dbpedia.org/class/yago/WikicatWebServices>,\\n        <http://dbpedia.org/class/yago/Work100575741>,\\n        <http://dbpedia.org/class/yago/YagoPermanentlyLocatedEntity>,\\n        dbo:Software,\\n        owl:Thing ;\\n    rdfs:label \"\\xd9\\x88\\xd9\\x8a\\xd8\\xa8 \\xd8\\xaf\\xd9\\x84\\xd8\\xa7\\xd9\\x84\\xd9\\x8a\"@ar,\\n        \"Semantic Web\"@de,\\n        \"Semantic Web\"@en,\\n        \"Web sem\\xc3\\xa1ntica\"@es,\\n        \"Web s\\xc3\\xa9mantique\"@fr,\\n        \"Web semantico\"@it,\\n        \"\\xe3\\x82\\xbb\\xe3\\x83\\x9e\\xe3\\x83\\xb3\\xe3\\x83\\x86\\xe3\\x82\\xa3\\xe3\\x83\\x83\\xe3\\x82\\xaf\\xe3\\x83\\xbb\\xe3\\x82\\xa6\\xe3\\x82\\xa7\\xe3\\x83\\x96\"@ja,\\n        \"Semantisch web\"@nl,\\n        \"Semantic Web\"@pl,\\n        \"Web sem\\xc3\\xa2ntica\"@pt,\\n        \"\\xd0\\xa1\\xd0\\xb5\\xd0\\xbc\\xd0\\xb0\\xd0\\xbd\\xd1\\x82\\xd0\\xb8\\xd1\\x87\\xd0\\xb5\\xd1\\x81\\xd0\\xba\\xd0\\xb0\\xd1\\x8f \\xd0\\xbf\\xd0\\xb0\\xd1\\x83\\xd1\\x82\\xd0\\xb8\\xd0\\xbd\\xd0\\xb0\"@ru,\\n        \"\\xe8\\xaf\\xad\\xe4\\xb9\\x89\\xe7\\xbd\\x91\"@zh ;\\n    dbo:abstract \"\\xd8\\xa5\\xd9\\x86 \\xd9\\x88\\xd8\\xb1\\xd9\\x88\\xd8\\xaf \\xd8\\xa7\\xd9\\x84\\xd9\\x85\\xd8\\xb9\\xd9\\x84\\xd9\\x88\\xd9\\x85\\xd8\\xa7\\xd8\\xaa \\xd8\\xb9\\xd9\\x84\\xd9\\x89 \\xd8\\xa7\\xd9\\x84\\xd8\\xa5\\xd9\\x86\\xd8\\xaa\\xd8\\xb1\\xd9\\x86\\xd8\\xaa \\xd9\\x8a\\xd8\\xb2\\xd8\\xaf\\xd8\\xa7\\xd8\\xaf \\xd8\\xa8\\xd8\\xb4\\xd9\\x83\\xd9\\x84 \\xd9\\x83\\xd8\\xa8\\xd9\\x8a\\xd8\\xb1\\xd8\\x8c \\xd9\\x81\\xd9\\x82\\xd8\\xaf \\xd8\\xa3\\xd8\\xb5\\xd8\\xa8\\xd8\\xad \\xd8\\xa7\\xd9\\x84\\xd8\\xa5\\xd9\\x86\\xd8\\xaa\\xd8\\xb1\\xd9\\x86\\xd8\\xaa \\xd9\\x85\\xd9\\x83\\xd8\\xa7\\xd9\\x86\\xd9\\x8b\\xd8\\xa7 \\xd9\\x84\\xd9\\x84\\xd8\\xaa\\xd8\\xb9\\xd8\\xa8\\xd9\\x8a\\xd8\\xb1 \\xd8\\xb9\\xd9\\x86 \\xd8\\xa7\\xd9\\x84\\xd8\\xa3\\xd9\\x81\\xd9\\x83\\xd8\\xa7\\xd8\\xb1\\xd8\\x8c \\xd8\\xb3\\xd8\\xb1\\xd8\\xaf \\xd8\\xa7\\xd9\\x84\\xd9\\x82\\xd8\\xb5\\xd8\\xb5\\xd8\\x8c \\xd8\\xa5\\xd9\\x86\\xd8\\xb4\\xd8\\xa7\\xd8\\xa1 \\xd8\\xa7\\xd9\\x84\\xd9\\x85\\xd8\\xaf\\xd9\\x88\\xd9\\x86\\xd8\\xa7\\xd8\\xaa \\xd9\\x88\\xd9\\x85\\xd8\\xb4\\xd8\\xa7\\xd8\\xb1\\xd9\\x83\\xd8\\xa9 \\xd8\\xa7\\xd9\\x84\\xd9\\x81\\xd9\\x8a\\xd8\\xaf\\xd9\\x8a\\xd9\\x88\\xd9\\x87\\xd8\\xa7\\xd8\\xaa \\xd9\\x88\\xd8\\xa7\\xd9\\x84\\xd8\\xb5\\xd9\\x88\\xd8\\xb1 \\xd9\\x88\\xd8\\xa7\\xd9\\x84\\xd9\\x85\\xd9\\x84\\xd9\\x81\\xd8\\xa7\\xd8\\xaa \\xd8\\xa7\\xd9\\x84\\xd8\\xb5\\xd9\\x88\\xd8\\xaa\\xd9\\x8a\\xd8\\xa9 \\xd9\\x88\\xd9\\x85\\xd8\\xa7 \\xd8\\xa5\\xd9\\x84\\xd9\\x89 \\xd8\\xb0\\xd9\\x84\\xd9\\x83. \\xd9\\x88\\xd9\\x87\\xd9\\x88 \\xd9\\x85\\xd8\\xa7 \\xd8\\xac\\xd8\\xb9\\xd9\\x84 \\xd9\\x83\\xd9\\x85\\xd9\\x91 \\xd8\\xa7\\xd9\\x84\\xd9\\x85\\xd8\\xb9\\xd9\\x84\\xd9\\x88\\xd9\\x85\\xd8\\xa7\\xd8\\xaa \\xd8\\xa7\\xd9\\x84\\xd9\\x85\\xd8\\xaa\\xd9\\x88\\xd9\\x81\\xd8\\xb1\\xd8\\xa9 \\xd9\\x84\\xd9\\x84\\xd9\\x81\\xd8\\xb1\\xd8\\xaf \\xd8\\xa7\\xd9\\x84\\xd9\\x88\\xd8\\xa7\\xd8\\xad\\xd8\\xaf \\xd8\\xa3\\xd9\\x83\\xd8\\xa8\\xd8\\xb1 \\xd8\\xa8\\xd9\\x83\\xd8\\xab\\xd9\\x8a\\xd8\\xb1 \\xd9\\x85\\xd9\\x85\\xd8\\xa7\\xd9\\x8a\\xd9\\x8f\\xd9\\x85\\xd9\\x83\\xd9\\x86 \\xd9\\x84\\xd9\\x87 \\xd8\\xa3\\xd9\\x86 \\xd9\\x8a\\xd8\\xb3\\xd8\\xaa\\xd9\\x81\\xd9\\x8a\\xd8\\xaf \\xd9\\x85\\xd9\\x86\\xd9\\x87. \\xd8\\xaa\\xd8\\xb9\\xd8\\xb1\\xd9\\x8a\\xd8\\xb6 \\xd8\\xa7\\xd9\\x84\\xd8\\xb9\\xd9\\x82\\xd9\\x84 \\xd8\\xa7\\xd9\\x84\\xd8\\xa8\\xd8\\xb4\\xd8\\xb1\\xd9\\x8a \\xd9\\x84\\xd9\\x87\\xd8\\xb0\\xd8\\xa7 \\xd8\\xa7\\xd9\\x84\\xd9\\x83\\xd9\\x85 \\xd8\\xa7\\xd9\\x84\\xd9\\x87\\xd8\\xa7\\xd8\\xa6\\xd9\\x84 \\xd9\\x85\\xd9\\x86 \\xd8\\xa7\\xd9\\x84\\xd9\\x85\\xd8\\xb9\\xd9\\x84\\xd9\\x88\\xd9\\x85\\xd8\\xa7\\xd8\\xaa \\xd9\\x85\\xd9\\x86 \\xd8\\xb4\\xd8\\xa3\\xd9\\x86\\xd9\\x87 \\xd8\\xa3\\xd9\\x86 \\xd9\\x8a\\xd8\\xaa\\xd8\\xb3\\xd8\\xa8\\xd8\\xa8 \\xd9\\x81\\xd9\\x8a\\xd9\\x85\\xd8\\xa7 \\xd9\\x8a\\xd9\\x8f\\xd9\\x85\\xd9\\x83\\xd9\\x86 \\xd8\\xa3\\xd9\\x86 \\xd9\\x86\\xd8\\xb5\\xd9\\x81\\xd9\\x87 \\xd8\\xa8\\xd9\\x88\\xd8\\xb5\\xd9\\x81 \\\\\"\\xd8\\xa7\\xd9\\x84\\xd8\\xb6\\xd9\\x8a\\xd8\\xa7\\xd8\\xb9 \\xd9\\x81\\xd9\\x8a \\xd9\\x81\\xd8\\xb6\\xd8\\xa7\\xd8\\xa1 \\xd8\\xa7\\xd9\\x84\\xd9\\x85\\xd8\\xb9\\xd9\\x84\\xd9\\x88\\xd9\\x85\\xd8\\xa7\\xd8\\xaa\\\\\"\\xd8\\x8c \\xd9\\x88\\xd8\\xb0\\xd9\\x84\\xd9\\x83 \\xd8\\xb1\\xd8\\xa7\\xd8\\xac\\xd8\\xb9 \\xd8\\xa5\\xd9\\x84\\xd9\\x89 \\xd8\\xa8\\xd9\\x82\\xd8\\xa7\\xd8\\xa1 \\xd8\\xa7\\xd9\\x84\\xd9\\x85\\xd8\\xb9\\xd9\\x84\\xd9\\x88\\xd9\\x85\\xd8\\xa7\\xd8\\xaa \\xd8\\xa7\\xd9\\x84\\xd9\\x85\\xd9\\x81\\xd9\\x8a\\xd8\\xaf\\xd8\\xa9 \\xd8\\xa8\\xd8\\xb9\\xd9\\x8a\\xd8\\xaf\\xd8\\xa9 \\xd8\\xa7\\xd9\\x84\\xd9\\x85\\xd9\\x86\\xd8\\xa7\\xd9\\x84 \\xd8\\xa8\\xd8\\xb3\\xd8\\xa8\\xd8\\xa8 \\xd8\\xaa\\xd8\\xb1\\xd8\\xa7\\xd9\\x83\\xd9\\x85 \\xd8\\xa7\\xd9\\x84\\xd9\\x83\\xd8\\xab\\xd9\\x8a\\xd8\\xb1 \\xd9\\x85\\xd9\\x86 \\xd8\\xa7\\xd9\\x84\\xd9\\x85\\xd8\\xb9\\xd9\\x84\\xd9\\x88\\xd9\\x85\\xd8\\xa7\\xd8\\xaa \\xd8\\xba\\xd9\\x8a\\xd8\\xb1 \\xd8\\xa7\\xd9\\x84\\xd9\\x85\\xd9\\x81\\xd9\\x8a\\xd8\\xaf\\xd8\\xa9 \\xd9\\x88\\xd8\\xba\\xd9\\x8a\\xd8\\xb1 \\xd8\\xa7\\xd9\\x84\\xd9\\x85\\xd8\\xb1\\xd8\\xaa\\xd8\\xa8\\xd8\\xb7\\xd8\\xa9 \\xd8\\xa8\\xd8\\xa7\\xd9\\x84\\xd9\\x85\\xd9\\x88\\xd8\\xb6\\xd9\\x88\\xd8\\xb9 \\xd8\\xa7\\xd9\\x84\\xd9\\x85\\xd8\\xb1\\xd8\\xa7\\xd8\\xaf \\xd8\\xa7\\xd9\\x84\\xd8\\xa8\\xd8\\xad\\xd8\\xab \\xd8\\xb9\\xd9\\x86\\xd9\\x87 \\xd9\\x85\\xd9\\x86 \\xd9\\x82\\xd8\\xa8\\xd9\\x84 \\xd8\\xa7\\xd9\\x84\\xd9\\x85\\xd8\\xb3\\xd8\\xaa\\xd8\\xae\\xd8\\xaf\\xd9\\x85.\\xd9\\x84\\xd8\\xad\\xd8\\xb3\\xd9\\x86 \\xd8\\xa7\\xd9\\x84\\xd8\\xad\\xd8\\xb8\\xd8\\x8c \\xd9\\x85\\xd8\\xab\\xd9\\x84\\xd9\\x85\\xd8\\xa7 \\xd9\\x8a\\xd8\\xb2\\xd8\\xaf\\xd8\\xa7\\xd8\\xaf \\xd9\\x88\\xd8\\xb1\\xd9\\x88\\xd8\\xaf \\xd8\\xa7\\xd9\\x84\\xd9\\x85\\xd8\\xb9\\xd9\\x84\\xd9\\x88\\xd9\\x85\\xd8\\xa7\\xd8\\xaa\\xd8\\x8c \\xd8\\xaa\\xd8\\xb2\\xd8\\xaf\\xd8\\xa7\\xd8\\xaf \\xd9\\x85\\xd9\\x82\\xd8\\xaf\\xd8\\xb1\\xd8\\xa7\\xd8\\xaa \\xd9\\x85\\xd8\\xb9\\xd8\\xa7\\xd9\\x84\\xd8\\xac\\xd8\\xa9 \\xd8\\xa7\\xd9\\x84\\xd9\\x85\\xd8\\xb9\\xd9\\x84\\xd9\\x88\\xd9\\x85\\xd8\\xa7\\xd8\\xaa \\xd8\\xa7\\xd9\\x88\\xd8\\xaa\\xd9\\x88\\xd9\\x85\\xd8\\xa7\\xd8\\xaa\\xd9\\x8a\\xd9\\x83\\xd9\\x8a\\xd8\\xa7\\xd9\\x8b\\xd8\\x8c \\xd9\\x84\\xd8\\xb0\\xd8\\xa7 \\xd9\\x8a\\xd9\\x88\\xd8\\xac\\xd8\\xaf \\xd8\\xa5\\xd9\\x85\\xd9\\x83\\xd8\\xa7\\xd9\\x86\\xd9\\x8a\\xd8\\xa7\\xd8\\xaa \\xd9\\x83\\xd8\\xa8\\xd9\\x8a\\xd8\\xb1\\xd8\\xa9 \\xd9\\x84\\xd9\\x84\\xd8\\xa7\\xd8\\xb3\\xd8\\xaa\\xd9\\x81\\xd8\\xa7\\xd8\\xaf\\xd8\\xa9 \\xd9\\x85\\xd9\\x86 \\xd9\\x85\\xd9\\x82\\xd8\\xaf\\xd8\\xb1\\xd8\\xa7\\xd8\\xaa \\xd8\\xa7\\xd9\\x84\\xd8\\xa3\\xd8\\xaa\\xd9\\x85\\xd8\\xaa\\xd8\\xa9 \\xd9\\x87\\xd8\\xb0\\xd9\\x87 \\xd8\\xa8\\xd9\\x87\\xd8\\xaf\\xd9\\x81 \\xd8\\xa7\\xd8\\xb3\\xd8\\xaa\\xd8\\xae\\xd8\\xb1\\xd8\\xa7\\xd8\\xac \\xd8\\xa7\\xd9\\x84\\xd9\\x85\\xd8\\xb9\\xd9\\x84\\xd9\\x88\\xd9\\x85\\xd8\\xa7\\xd8\\xaa \\xd9\\x88\\xd8\\xa7\\xd9\\x84\\xd8\\xae\\xd8\\xaf\\xd9\\x85\\xd8\\xa7\\xd8\\xaa \\xd9\\x85\\xd9\\x86 \\xd9\\x81\\xd9\\x8a\\xd8\\xb6\\xd8\\xa7\\xd9\\x86 \\xd8\\xa7\\xd9\\x84\\xd9\\x88\\xd9\\x8a\\xd8\\xa8 \\xd9\\x88\\xd8\\xa7\\xd9\\x84\\xd9\\x85\\xd8\\xb1\\xd8\\xaa\\xd8\\xa8\\xd8\\xb7\\xd8\\xa9 \\xd8\\xa8\\xd8\\xa7\\xd9\\x84\\xd9\\x85\\xd8\\xb3\\xd8\\xaa\\xd8\\xae\\xd8\\xaf\\xd9\\x85\\xd8\\x8c \\xd9\\x88\\xd8\\xaa\\xd9\\x88\\xd8\\xb5\\xd9\\x8a\\xd9\\x84\\xd9\\x87\\xd8\\xa7 \\xd8\\xa5\\xd9\\x84\\xd9\\x8a\\xd9\\x87 \\xd8\\xb9\\xd9\\x86 \\xd8\\xb7\\xd8\\xb1\\xd9\\x8a\\xd9\\x82 \\xd9\\x88\\xd8\\xa7\\xd8\\xac\\xd9\\x87\\xd8\\xa9 \\xd9\\x85\\xd8\\xb3\\xd8\\xaa\\xd8\\xae\\xd8\\xaf\\xd9\\x85 \\xd9\\x85\\xd8\\xb9\\xd9\\x8a\\xd8\\xa7\\xd8\\xb1\\xd9\\x8a\\xd8\\xa9 (Standardized User Interface). \\xd8\\xa5\\xd9\\x86 \\xd8\\xa3\\xd9\\x87\\xd9\\x85\\xd9\\x8a\\xd8\\xa9 \\xd8\\xa7\\xd9\\x84\\xd8\\xad\\xd8\\xb5\\xd9\\x88\\xd9\\x84 \\xd8\\xb9\\xd9\\x84\\xd9\\x89 \\xd8\\xa7\\xd9\\x84\\xd9\\x85\\xd8\\xb9\\xd9\\x84\\xd9\\x88\\xd9\\x85\\xd8\\xa7\\xd8\\xaa \\xd8\\xa8\\xd9\\x87\\xd8\\xb0\\xd9\\x87 \\xd8\\xa7\\xd9\\x84\\xd8\\xb7\\xd8\\xb1\\xd9\\x8a\\xd9\\x82\\xd8\\xa9 \\xd8\\xa7\\xd9\\x84\\xd8\\xaa\\xd9\\x83\\xd9\\x8a\\xd9\\x81\\xd9\\x8a\\xd8\\xa9 \\xd9\\x8a\\xd8\\xb2\\xd8\\xaf\\xd8\\xa7\\xd8\\xaf \\xd8\\xa8\\xd8\\xa7\\xd8\\xb2\\xd8\\xaf\\xd9\\x8a\\xd8\\xa7\\xd8\\xaf \\xd9\\x83\\xd8\\xaa\\xd9\\x84\\xd8\\xa9 \\xd8\\xa7\\xd9\\x84\\xd9\\x85\\xd8\\xb9\\xd9\\x84\\xd9\\x88\\xd9\\x85\\xd8\\xa7\\xd8\\xaa \\xd8\\xa7\\xd9\\x84\\xd9\\x85\\xd8\\xaa\\xd9\\x88\\xd9\\x81\\xd8\\xb1\\xd8\\xa9 \\xd8\\xb9\\xd9\\x84\\xd9\\x89 \\xd8\\xa7\\xd9\\x84\\xd8\\xa5\\xd9\\x86\\xd8\\xaa\\xd8\\xb1\\xd9\\x86\\xd8\\xaa. \\xd8\\xaa\\xd8\\xb9\\xd8\\xaa\\xd8\\xa8\\xd8\\xb1 \\xd8\\xb4\\xd8\\xa8\\xd9\\x83\\xd8\\xa9 \\xd8\\xa7\\xd9\\x84\\xd9\\x88\\xd8\\xa8 \\xd8\\xa3\\xd8\\xba\\xd9\\x86\\xd9\\x89 \\xd8\\xa7\\xd9\\x84\\xd9\\x85\\xd8\\xb5\\xd8\\xa7\\xd8\\xaf\\xd8\\xb1 \\xd8\\xa7\\xd9\\x84\\xd9\\x85\\xd8\\xb9\\xd9\\x84\\xd9\\x88\\xd9\\x85\\xd8\\xa7\\xd8\\xaa\\xd9\\x8a\\xd8\\xa9 \\xd8\\xa8\\xd9\\x85\\xd8\\xa7 \\xd8\\xaa\\xd8\\xad\\xd9\\x88\\xd9\\x8a\\xd9\\x87 \\xd9\\x85\\xd9\\x86 \\xd9\\x85\\xd8\\xb3\\xd8\\xaa\\xd9\\x86\\xd8\\xaf\\xd8\\xa7\\xd8\\xaa \\xd9\\x88\\xd9\\x85\\xd8\\xb9\\xd9\\x84\\xd9\\x88\\xd9\\x85\\xd8\\xa7\\xd8\\xaa \\xd9\\x88\\xd9\\x85\\xd8\\xb5\\xd8\\xa7\\xd8\\xaf\\xd8\\xb1 \\xd9\\x85\\xd9\\x86\\xd9\\x88\\xd8\\xb9\\xd8\\xa9 \\xd9\\x8a\\xd9\\x85\\xd9\\x83\\xd9\\x86 \\xd8\\xa7\\xd9\\x84\\xd9\\x88\\xd8\\xb5\\xd9\\x88\\xd9\\x84 \\xd8\\xa5\\xd9\\x84\\xd9\\x8a\\xd9\\x87\\xd8\\xa7 \\xd8\\xb9\\xd9\\x86 \\xd8\\xb7\\xd8\\xb1\\xd9\\x8a\\xd9\\x82 \\xd9\\x85\\xd8\\xad\\xd8\\xb1\\xd9\\x83\\xd8\\xa7\\xd8\\xaa \\xd8\\xa7\\xd9\\x84\\xd8\\xa8\\xd8\\xad\\xd8\\xab \\xd8\\xa7\\xd9\\x84\\xd8\\xaa\\xd9\\x82\\xd9\\x84\\xd9\\x8a\\xd8\\xaf\\xd9\\x8a\\xd8\\xa9. \\xd8\\xba\\xd9\\x8a\\xd8\\xb1 \\xd8\\xa3\\xd9\\x86 \\xd8\\xaa\\xd9\\x86\\xd8\\xb8\\xd9\\x8a\\xd9\\x85 \\xd9\\x87\\xd8\\xb0\\xd9\\x87 \\xd8\\xa7\\xd9\\x84\\xd9\\x85\\xd8\\xb9\\xd9\\x84\\xd9\\x88\\xd9\\x85\\xd8\\xa7\\xd8\\xaa \\xd9\\x88\\xd8\\xa7\\xd9\\x84\\xd9\\x85\\xd8\\xb3\\xd8\\xaa\\xd9\\x86\\xd8\\xaf\\xd8\\xa7\\xd8\\xaa \\xd8\\xa8\\xd8\\xb5\\xd9\\x88\\xd8\\xb1\\xd8\\xa9 \\xd8\\xaa\\xd8\\xb3\\xd9\\x87\\xd9\\x84 \\xd8\\xb9\\xd9\\x85\\xd9\\x84\\xd9\\x8a\\xd8\\xa9 \\xd8\\xa7\\xd9\\x84\\xd8\\xa8\\xd8\\xad\\xd8\\xab \\xd9\\x81\\xd9\\x8a\\xd9\\x87\\xd8\\xa7 \\xd9\\x88\\xd8\\xa7\\xd9\\x84\\xd9\\x88\\xd8\\xb5\\xd9\\x88\\xd9\\x84 \\xd8\\xa5\\xd9\\x84\\xd9\\x8a\\xd9\\x87\\xd8\\xa7\\xd8\\x8c \\xd9\\x8a\\xd8\\xb9\\xd8\\xaa\\xd8\\xa8\\xd8\\xb1 \\xd8\\xa3\\xd9\\x85\\xd8\\xb1\\xd8\\xa7\\xd9\\x8b \\xd8\\xba\\xd8\\xa7\\xd9\\x8a\\xd8\\xa9 \\xd9\\x81\\xd9\\x8a \\xd8\\xa7\\xd9\\x84\\xd8\\xb5\\xd8\\xb9\\xd9\\x88\\xd8\\xa8\\xd8\\xa9. \\xd9\\x8a\\xd8\\xb6\\xd8\\xa7\\xd9\\x81 \\xd8\\xa5\\xd9\\x84\\xd9\\x89 \\xd8\\xb0\\xd9\\x84\\xd9\\x83\\xd8\\x8c \\xd8\\xa3\\xd9\\x86\\xd9\\x87 \\xd9\\x81\\xd9\\x8a \\xd8\\xb8\\xd9\\x84 \\xd8\\xa7\\xd9\\x84\\xd8\\xaa\\xd8\\xb2\\xd8\\xa7\\xd9\\x8a\\xd8\\xaf \\xd8\\xa7\\xd9\\x84\\xd9\\x85\\xd8\\xb3\\xd8\\xaa\\xd9\\x85\\xd8\\xb1 \\xd9\\x81\\xd9\\x8a \\xd8\\xad\\xd8\\xac\\xd9\\x85 \\xd8\\xa7\\xd9\\x84\\xd9\\x85\\xd8\\xb9\\xd9\\x84\\xd9\\x88\\xd9\\x85\\xd8\\xa7\\xd8\\xaa \\xd8\\xa7\\xd9\\x84\\xd9\\x85\\xd9\\x86\\xd8\\xb4\\xd9\\x88\\xd8\\xb1\\xd8\\xa9 \\xd9\\x81\\xd9\\x8a \\xd8\\xb4\\xd8\\xa8\\xd9\\x83\\xd8\\xa9 \\xd8\\xa7\\xd9\\x84\\xd9\\x88\\xd9\\x8a\\xd8\\xa8 \\xd8\\xa3\\xd8\\xb5\\xd8\\xa8\\xd8\\xad \\xd9\\x85\\xd9\\x86 \\xd8\\xa7\\xd9\\x84\\xd8\\xb5\\xd8\\xb9\\xd9\\x88\\xd8\\xa8\\xd8\\xa9 \\xd8\\xa8\\xd9\\x85\\xd9\\x83\\xd8\\xa7\\xd9\\x86 \\xd9\\x82\\xd9\\x8a\\xd8\\xa7\\xd9\\x85 \\xd9\\x85\\xd8\\xad\\xd8\\xb1\\xd9\\x83\\xd8\\xa7\\xd8\\xaa \\xd8\\xa7\\xd9\\x84\\xd8\\xa8\\xd8\\xad\\xd8\\xab \\xd8\\xa8\\xd8\\xa5\\xd9\\x8a\\xd8\\xac\\xd8\\xa7\\xd8\\xaf \\xd8\\xa7\\xd9\\x84\\xd9\\x85\\xd8\\xb9\\xd9\\x84\\xd9\\x88\\xd9\\x85\\xd8\\xa7\\xd8\\xaa \\xd8\\xa7\\xd9\\x84\\xd9\\x85\\xd9\\x86\\xd8\\xa7\\xd8\\xb3\\xd8\\xa8\\xd8\\xa9. \\xd9\\x88\\xd9\\x85\\xd9\\x86 \\xd9\\x87\\xd8\\xb0\\xd9\\x87 \\xd8\\xa7\\xd9\\x84\\xd9\\x85\\xd8\\xb4\\xd9\\x83\\xd9\\x84\\xd8\\xa9 \\xd8\\xb8\\xd9\\x87\\xd8\\xb1\\xd8\\xaa \\xd9\\x81\\xd9\\x83\\xd8\\xb1\\xd8\\xa9 \\\\\"\\xd8\\xa7\\xd9\\x84\\xd9\\x88\\xd9\\x8a\\xd8\\xa8 \\xd8\\xb0\\xd8\\xa7\\xd8\\xaa \\xd8\\xa7\\xd9\\x84\\xd8\\xaf\\xd9\\x84\\xd8\\xa7\\xd9\\x84\\xd8\\xa7\\xd8\\xaa \\xd9\\x88\\xd8\\xa7\\xd9\\x84\\xd9\\x85\\xd8\\xb9\\xd8\\xa7\\xd9\\x86\\xd9\\x8a \\xd8\\xa7\\xd9\\x84\\xd9\\x84\\xd9\\x81\\xd8\\xb8\\xd9\\x8a\\xd8\\xa9\\\\\"\\xd8\\x8c \\xd8\\xa3\\xd9\\x88 \\xd9\\x85\\xd8\\xa7 \\xd9\\x8a\\xd8\\xb7\\xd9\\x84\\xd9\\x82 \\xd8\\xb9\\xd9\\x84\\xd9\\x8a\\xd9\\x87 \\xd8\\xa8\\xd8\\xa7\\xd9\\x84\\xd8\\xa5\\xd9\\x86\\xd8\\xac\\xd9\\x84\\xd9\\x8a\\xd8\\xb2\\xd9\\x8a\\xd8\\xa9 \\xd9\\x85\\xd8\\xb5\\xd8\\xb7\\xd9\\x84\\xd8\\xad (Semantic Web)\\xd8\\x8c \\xd9\\x88\\xd8\\xa7\\xd9\\x84\\xd8\\xaa\\xd9\\x8a \\xd9\\x87\\xd9\\x8a \\xd8\\xa7\\xd9\\x85\\xd8\\xaa\\xd8\\xaf\\xd8\\xa7\\xd8\\xaf \\xd9\\x84\\xd9\\x84\\xd9\\x88\\xd9\\x8a\\xd8\\xa8 \\xd8\\xa7\\xd9\\x84\\xd8\\xad\\xd8\\xa7\\xd9\\x84\\xd9\\x8a\\xd8\\xa9 \\xd9\\x88\\xd9\\x84\\xd9\\x83\\xd9\\x86 \\xd8\\xaa\\xd8\\xae\\xd8\\xaa\\xd9\\x84\\xd9\\x81 \\xd8\\xb9\\xd9\\x86\\xd9\\x87\\xd8\\xa7 \\xd8\\xa8\\xd8\\xa3\\xd9\\x86\\xd9\\x87\\xd8\\xa7 \\xd8\\xaa\\xd8\\xaa\\xd9\\x81\\xd9\\x87\\xd9\\x85 \\xd9\\x85\\xd8\\xaf\\xd9\\x84\\xd9\\x88\\xd9\\x84\\xd8\\xa7\\xd8\\xaa \\xd8\\xa7\\xd9\\x84\\xd8\\xa3\\xd9\\x84\\xd9\\x81\\xd8\\xa7\\xd8\\xb8 \\xd9\\x88\\xd8\\xa7\\xd9\\x84\\xd9\\x85\\xd8\\xb9\\xd8\\xa7\\xd9\\x86\\xd9\\x8a \\xd8\\xa7\\xd9\\x84\\xd8\\xa8\\xd8\\xb4\\xd8\\xb1\\xd9\\x8a\\xd8\\xa9.\"@ar,\\n        \"Das Semantic Web erweitert das Web, um Daten zwischen Rechnern einfacher austauschbar und f\\xc3\\xbcr sie einfacher verwertbar zu machen; so kann beispielsweise der Begriff \\xe2\\x80\\x9eBremen\\xe2\\x80\\x9c in einem Webdokument um die Information erg\\xc3\\xa4nzt werden, ob hier ein Schiffs-, Familien- oder der Stadtname gemeint ist. Diese zus\\xc3\\xa4tzlichen Informationen explizieren die sonst nur unstrukturiert vorkommenden Daten. Zur Realisierung dienen Standards zur Ver\\xc3\\xb6ffentlichung und Nutzung maschinenlesbarer Daten (insbesondere RDF). W\\xc3\\xa4hrend Menschen solche Informationen aus dem gegebenen Kontext schlie\\xc3\\x9fen k\\xc3\\xb6nnen (aus dem Gesamttext, \\xc3\\xbcber die Art der Publikation oder der Rubrik in selbiger, Bilder etc.) und derartige Verkn\\xc3\\xbcpfungen unbewusst aufbauen, muss Maschinen dieser Kontext erst beigebracht werden; hierzu werden die Inhalte mit weiterf\\xc3\\xbchrenden Informationen verkn\\xc3\\xbcpft. Das Semantic Web beschreibt dazu konzeptionell einen \\xe2\\x80\\x9eGiant Global Graph\\xe2\\x80\\x9c (engl. \\xe2\\x80\\x9agigantischer globaler Graph\\xe2\\x80\\x98). Dabei werden s\\xc3\\xa4mtliche Sachen von Interesse identifiziert und mit einer eindeutigen Adresse versehen als Knoten angelegt, die wiederum durch Kanten (ebenfalls jeweils eindeutig benannt) miteinander verbunden sind. Einzelne Dokumente im Web beschreiben dann eine Reihe von Kanten, und die Gesamtheit all dieser Kanten entspricht dem globalen Graphen.\"@de,\\n        \"The Semantic Web is an extension of the Web through standards by the World Wide Web Consortium (W3C). The standards promote common data formats and exchange protocols on the Web, most fundamentally the Resource Description Framework (RDF). According to the W3C, \\\\\"The Semantic Web provides a common framework that allows data to be shared and reused across application, enterprise, and community boundaries\\\\\". The term was coined by Tim Berners-Lee for a web of data that can be processed by machines.While its critics have questioned its feasibility, proponents argue that applications in industry, biology and human sciences research have already proven the validity of the original concept. The 2001 Scientific American article by Berners-Lee, Hendler, and Lassila described an expected evolution of the existing Web to a Semantic Web. In 2006, Berners-Lee and colleagues stated that: \\\\\"This simple idea\\xe2\\x80\\xa6remains largely unrealized\\\\\".In 2013, more than four million Web domains contained Semantic Web markup.\"@en,\\n        \"La web sem\\xc3\\xa1ntica (del ingl\\xc3\\xa9s semantic web) es un conjunto de actividades desarrolladas en el seno de World Wide Web Consortium con tendencia a la creaci\\xc3\\xb3n de tecnolog\\xc3\\xadas para publicar datos legibles por aplicaciones inform\\xc3\\xa1ticas (m\\xc3\\xa1quinas en la terminolog\\xc3\\xada de la Web sem\\xc3\\xa1ntica). Se basa en la idea de a\\xc3\\xb1adir metadatos sem\\xc3\\xa1nticos y ontol\\xc3\\xb3gicos a la World Wide Web. Esas informaciones adicionales \\xe2\\x80\\x94que describen el contenido, el significado y la relaci\\xc3\\xb3n de los datos\\xe2\\x80\\x94 se deben proporcionar de manera formal, para que as\\xc3\\xad sea posible evaluarlas autom\\xc3\\xa1ticamente por m\\xc3\\xa1quinas de procesamiento. El objetivo es mejorar Internet ampliando la interoperabilidad entre los sistemas inform\\xc3\\xa1ticos usando \\\\\"agentes inteligentes\\\\\". Agentes inteligentes son programas en las computadoras que buscan informaci\\xc3\\xb3n sin operadores humanos. El precursor de la idea, Tim Berners-Lee, intent\\xc3\\xb3 desde el principio incluir informaci\\xc3\\xb3n sem\\xc3\\xa1ntica en su creaci\\xc3\\xb3n, la World Wide Web, pero por diferentes causas no fue posible. Por ese motivo introdujo el concepto de sem\\xc3\\xa1ntica con la intenci\\xc3\\xb3n de recuperar dicha omisi\\xc3\\xb3n.\"@es,\\n        \"Le Web s\\xc3\\xa9mantique, ou toile s\\xc3\\xa9mantique, est une extension du Web standardis\\xc3\\xa9e par le World Wide Web Consortium (W3C). Ces standards encouragent l\\'utilisation de formats de donn\\xc3\\xa9es et de protocoles d\\'\\xc3\\xa9change norm\\xc3\\xa9s sur le Web, avec comme format de base le Resource Description Framework (RDF). Selon le W3C, \\xc2\\xab le Web s\\xc3\\xa9mantique fournit un mod\\xc3\\xa8le qui permet aux donn\\xc3\\xa9es d\\'\\xc3\\xaatre partag\\xc3\\xa9es et r\\xc3\\xa9utilis\\xc3\\xa9es entre plusieurs applications, entreprises et groupes d\\'utilisateurs \\xc2\\xbb. L\\'expression a \\xc3\\xa9t\\xc3\\xa9 invent\\xc3\\xa9e par Tim Berners-Lee (inventeur du Web et directeur du W3C), qui supervise le d\\xc3\\xa9veloppement des technologies communes du Web s\\xc3\\xa9mantique. Il le d\\xc3\\xa9finit comme \\xc2\\xab une toile de donn\\xc3\\xa9es qui peuvent \\xc3\\xaatre trait\\xc3\\xa9es directement et indirectement par des machines pour aider leurs utilisateurs \\xc3\\xa0 cr\\xc3\\xa9er de nouvelles connaissances \\xc2\\xbb. Pour y parvenir, le Web s\\xc3\\xa9mantique met en \\xc5\\x93uvre le Web des donn\\xc3\\xa9es qui consiste \\xc3\\xa0 lier et structurer l\\'information sur Internet pour acc\\xc3\\xa9der simplement \\xc3\\xa0 la connaissance qu\\'elle contient d\\xc3\\xa9j\\xc3\\xa0. Alors que ses d\\xc3\\xa9tracteurs ont mis en doute sa faisabilit\\xc3\\xa9, ses promoteurs font valoir que les applications r\\xc3\\xa9alis\\xc3\\xa9es par les chercheurs dans l\\'industrie, la biologie et les sciences humaines ont d\\xc3\\xa9j\\xc3\\xa0 prouv\\xc3\\xa9 la validit\\xc3\\xa9 de ce nouveau concept. L\\'article original de Tim Berners-Lee en 2001 dans le Scientific American a d\\xc3\\xa9crit une \\xc3\\xa9volution attendue du Web existant vers un Web s\\xc3\\xa9mantique, mais cela n\\'a pas encore eu lieu. En 2006, Tim Berners-Lee et ses coll\\xc3\\xa8gues ont d\\xc3\\xa9clar\\xc3\\xa9 : \\xc2\\xab Cette id\\xc3\\xa9e simple\\xe2\\x80\\xa6 reste largement inexploit\\xc3\\xa9e. \\xc2\\xbb\"@fr,\\n        \"Con il termine web semantico, termine coniato dal suo ideatore, Tim Berners-Lee, si intende la trasformazione del World Wide Web in un ambiente dove i documenti pubblicati (pagine HTML, file, immagini, e cos\\xc3\\xac via) sono associati ad informazioni e dati (metadati) che ne specificano il contesto semantico in un formato adatto all\\'interrogazione e l\\'interpretazione (es. tramite motori di ricerca) e, pi\\xc3\\xb9 in generale, all\\'elaborazione automatica. Con l\\'interpretazione del contenuto dei documenti che il Web semantico impone, saranno possibili ricerche molto pi\\xc3\\xb9 evolute delle attuali, basate sulla presenza nel documento di parole chiave, e altre operazioni specialistiche come la costruzione di reti di relazioni e connessioni tra documenti secondo logiche pi\\xc3\\xb9 elaborate del semplice collegamento ipertestuale.\"@it,\\n        \"\\xe3\\x82\\xbb\\xe3\\x83\\x9e\\xe3\\x83\\xb3\\xe3\\x83\\x86\\xe3\\x82\\xa3\\xe3\\x83\\x83\\xe3\\x82\\xaf\\xe3\\x83\\xbb\\xe3\\x82\\xa6\\xe3\\x82\\xa7\\xe3\\x83\\x96\\xef\\xbc\\x88\\xe8\\x8b\\xb1: semantic web\\xef\\xbc\\x89\\xe3\\x81\\xaf W3C \\xe3\\x81\\xae\\xe3\\x83\\x86\\xe3\\x82\\xa3\\xe3\\x83\\xa0\\xe3\\x83\\xbb\\xe3\\x83\\x90\\xe3\\x83\\xbc\\xe3\\x83\\x8a\\xe3\\x83\\xbc\\xe3\\x82\\xba\\xef\\xbc\\x9d\\xe3\\x83\\xaa\\xe3\\x83\\xbc\\xe3\\x81\\xab\\xe3\\x82\\x88\\xe3\\x81\\xa3\\xe3\\x81\\xa6\\xe6\\x8f\\x90\\xe5\\x94\\xb1\\xe3\\x81\\x95\\xe3\\x82\\x8c\\xe3\\x81\\x9f\\xe3\\x80\\x81\\xe3\\x82\\xa6\\xe3\\x82\\xa7\\xe3\\x83\\x96\\xe3\\x83\\x9a\\xe3\\x83\\xbc\\xe3\\x82\\xb8\\xe3\\x81\\xae\\xe6\\x84\\x8f\\xe5\\x91\\xb3\\xe3\\x82\\x92\\xe6\\x89\\xb1\\xe3\\x81\\x86\\xe3\\x81\\x93\\xe3\\x81\\xa8\\xe3\\x82\\x92\\xe5\\x8f\\xaf\\xe8\\x83\\xbd\\xe3\\x81\\xa8\\xe3\\x81\\x99\\xe3\\x82\\x8b\\xe6\\xa8\\x99\\xe6\\xba\\x96\\xe3\\x82\\x84\\xe3\\x83\\x84\\xe3\\x83\\xbc\\xe3\\x83\\xab\\xe7\\xbe\\xa4\\xe3\\x81\\xae\\xe9\\x96\\x8b\\xe7\\x99\\xba\\xe3\\x81\\xab\\xe3\\x82\\x88\\xe3\\x81\\xa3\\xe3\\x81\\xa6\\xe3\\x83\\xaf\\xe3\\x83\\xbc\\xe3\\x83\\xab\\xe3\\x83\\x89\\xe3\\x83\\xbb\\xe3\\x83\\xaf\\xe3\\x82\\xa4\\xe3\\x83\\x89\\xe3\\x83\\xbb\\xe3\\x82\\xa6\\xe3\\x82\\xa7\\xe3\\x83\\x96\\xe3\\x81\\xae\\xe5\\x88\\xa9\\xe4\\xbe\\xbf\\xe6\\x80\\xa7\\xe3\\x82\\x92\\xe5\\x90\\x91\\xe4\\xb8\\x8a\\xe3\\x81\\x95\\xe3\\x81\\x9b\\xe3\\x82\\x8b\\xe3\\x83\\x97\\xe3\\x83\\xad\\xe3\\x82\\xb8\\xe3\\x82\\xa7\\xe3\\x82\\xaf\\xe3\\x83\\x88\\xe3\\x80\\x82\\xe3\\x82\\xbb\\xe3\\x83\\x9e\\xe3\\x83\\xb3\\xe3\\x83\\x86\\xe3\\x82\\xa3\\xe3\\x83\\x83\\xe3\\x82\\xaf\\xe3\\x83\\xbb\\xe3\\x82\\xa6\\xe3\\x82\\xa7\\xe3\\x83\\x96\\xe3\\x81\\xae\\xe7\\x9b\\xae\\xe7\\x9a\\x84\\xe3\\x81\\xaf\\xe3\\x82\\xa6\\xe3\\x82\\xa7\\xe3\\x83\\x96\\xe3\\x83\\x9a\\xe3\\x83\\xbc\\xe3\\x82\\xb8\\xe3\\x81\\xae\\xe9\\x96\\xb2\\xe8\\xa6\\xa7\\xe3\\x81\\xa8\\xe3\\x81\\x84\\xe3\\x81\\x86\\xe8\\xa1\\x8c\\xe7\\x82\\xba\\xe3\\x81\\xab\\xe3\\x80\\x81\\xe3\\x83\\x87\\xe3\\x83\\xbc\\xe3\\x82\\xbf\\xe3\\x81\\xae\\xe4\\xba\\xa4\\xe6\\x8f\\x9b\\xe3\\x81\\xae\\xe5\\x81\\xb4\\xe9\\x9d\\xa2\\xe3\\x81\\xab\\xe5\\x8a\\xa0\\xe3\\x81\\x88\\xe3\\x81\\xa6\\xe6\\x84\\x8f\\xe5\\x91\\xb3\\xe3\\x81\\xae\\xe7\\x96\\x8e\\xe9\\x80\\x9a\\xe3\\x82\\x92\\xe4\\xbb\\x98\\xe3\\x81\\x91\\xe5\\x8a\\xa0\\xe3\\x81\\x88\\xe3\\x82\\x8b\\xe3\\x81\\x93\\xe3\\x81\\xa8\\xe3\\x81\\xab\\xe3\\x81\\x82\\xe3\\x82\\x8b\\xe3\\x80\\x82 \\xe7\\x8f\\xbe\\xe5\\x9c\\xa8\\xe3\\x81\\xae\\xe3\\x83\\xaf\\xe3\\x83\\xbc\\xe3\\x83\\xab\\xe3\\x83\\x89\\xe3\\x83\\xbb\\xe3\\x83\\xaf\\xe3\\x82\\xa4\\xe3\\x83\\x89\\xe3\\x83\\xbb\\xe3\\x82\\xa6\\xe3\\x82\\xa7\\xe3\\x83\\x96\\xe4\\xb8\\x8a\\xe3\\x81\\xae\\xe3\\x82\\xb3\\xe3\\x83\\xb3\\xe3\\x83\\x86\\xe3\\x83\\xb3\\xe3\\x83\\x84\\xe3\\x81\\xaf\\xe4\\xb8\\xbb\\xe3\\x81\\xabHTML\\xe3\\x81\\xa7\\xe8\\xa8\\x98\\xe8\\xbf\\xb0\\xe3\\x81\\x95\\xe3\\x82\\x8c\\xe3\\x81\\xa6\\xe3\\x81\\x84\\xe3\\x82\\x8b\\xe3\\x80\\x82HTML\\xe3\\x81\\xa7\\xe3\\x81\\xaf\\xe6\\x96\\x87\\xe6\\x9b\\xb8\\xe6\\xa7\\x8b\\xe9\\x80\\xa0\\xe3\\x82\\x92\\xe4\\xbc\\x9d\\xe3\\x81\\x88\\xe3\\x82\\x8b\\xe3\\x81\\x93\\xe3\\x81\\xa8\\xe3\\x81\\xaf\\xe5\\x8f\\xaf\\xe8\\x83\\xbd\\xe3\\x81\\xa0\\xe3\\x81\\x8c\\xe3\\x80\\x81\\xe5\\x80\\x8b\\xe3\\x80\\x85\\xe3\\x81\\xae\\xe5\\x8d\\x98\\xe8\\xaa\\x9e\\xe3\\x81\\xae\\xe6\\x84\\x8f\\xe5\\x91\\xb3\\xe3\\x82\\x92\\xe3\\x81\\xaf\\xe3\\x81\\x98\\xe3\\x82\\x81\\xe3\\x81\\xa8\\xe3\\x81\\x99\\xe3\\x82\\x8b\\xe8\\xa9\\xb3\\xe7\\xb4\\xb0\\xe3\\x81\\xaa\\xe6\\x84\\x8f\\xe5\\x91\\xb3\\xe3\\x82\\x92\\xe4\\xbc\\x9d\\xe3\\x81\\x88\\xe3\\x82\\x8b\\xe3\\x81\\x93\\xe3\\x81\\xa8\\xe3\\x81\\xaf\\xe3\\x81\\xa7\\xe3\\x81\\x8d\\xe3\\x81\\xaa\\xe3\\x81\\x84\\xe3\\x80\\x82\\xe3\\x81\\x93\\xe3\\x82\\x8c\\xe3\\x81\\xab\\xe5\\xaf\\xbe\\xe3\\x81\\x97\\xe3\\x80\\x81\\xe3\\x82\\xbb\\xe3\\x83\\x9e\\xe3\\x83\\xb3\\xe3\\x83\\x86\\xe3\\x82\\xa3\\xe3\\x83\\x83\\xe3\\x82\\xaf\\xe3\\x83\\xbb\\xe3\\x82\\xa6\\xe3\\x82\\xa7\\xe3\\x83\\x96\\xe3\\x81\\xafXML\\xe3\\x81\\xab\\xe3\\x82\\x88\\xe3\\x81\\xa3\\xe3\\x81\\xa6\\xe8\\xa8\\x98\\xe8\\xbf\\xb0\\xe3\\x81\\x97\\xe3\\x81\\x9f\\xe6\\x96\\x87\\xe6\\x9b\\xb8\\xe3\\x81\\xabRDF\\xe3\\x82\\x84OWL\\xe3\\x82\\x92\\xe7\\x94\\xa8\\xe3\\x81\\x84\\xe3\\x81\\xa6\\xe3\\x82\\xbf\\xe3\\x82\\xb0\\xe3\\x82\\x92\\xe4\\xbb\\x98\\xe3\\x81\\x91\\xe5\\x8a\\xa0\\xe3\\x81\\x88\\xe3\\x82\\x8b\\xe3\\x80\\x82\\xe3\\x81\\x93\\xe3\\x81\\xae\\xe3\\x80\\x81\\xe3\\x83\\x87\\xe3\\x83\\xbc\\xe3\\x82\\xbf\\xe3\\x81\\xae\\xe6\\x84\\x8f\\xe5\\x91\\xb3\\xe3\\x82\\x92\\xe8\\xa8\\x98\\xe8\\xbf\\xb0\\xe3\\x81\\x97\\xe3\\x81\\x9f\\xe3\\x82\\xbf\\xe3\\x82\\xb0\\xe3\\x81\\x8c\\xe6\\x96\\x87\\xe6\\x9b\\xb8\\xe3\\x81\\xae\\xe5\\x90\\xab\\xe3\\x82\\x80\\xe6\\x84\\x8f\\xe5\\x91\\xb3\\xe3\\x82\\x92\\xe5\\xbd\\xa2\\xe5\\xbc\\x8f\\xe5\\x8c\\x96\\xe3\\x81\\x97\\xe3\\x80\\x81\\xe3\\x82\\xb3\\xe3\\x83\\xb3\\xe3\\x83\\x94\\xe3\\x83\\xa5\\xe3\\x83\\xbc\\xe3\\x82\\xbf\\xe3\\x81\\xab\\xe3\\x82\\x88\\xe3\\x82\\x8b\\xe8\\x87\\xaa\\xe5\\x8b\\x95\\xe7\\x9a\\x84\\xe3\\x81\\xaa\\xe6\\x83\\x85\\xe5\\xa0\\xb1\\xe3\\x81\\xae\\xe5\\x8f\\x8e\\xe9\\x9b\\x86\\xe3\\x82\\x84\\xe5\\x88\\x86\\xe6\\x9e\\x90\\xe3\\x81\\xb8\\xe3\\x81\\xae\\xe3\\x82\\xa2\\xe3\\x83\\x97\\xe3\\x83\\xad\\xe3\\x83\\xbc\\xe3\\x83\\x81\\xe3\\x81\\x8c\\xe5\\x8f\\xaf\\xe8\\x83\\xbd\\xe3\\x81\\xa8\\xe3\\x81\\xaa\\xe3\\x82\\x8b\\xe3\\x81\\xa8\\xe6\\x9c\\x9f\\xe5\\xbe\\x85\\xe3\\x81\\x95\\xe3\\x82\\x8c\\xe3\\x81\\xa6\\xe3\\x81\\x84\\xe3\\x82\\x8b\\xe3\\x80\\x82\\xe3\\x82\\xaa\\xe3\\x83\\xb3\\xe3\\x83\\x88\\xe3\\x83\\xad\\xe3\\x82\\xb8\\xe3\\x83\\xbc\\xe3\\x82\\x92\\xe6\\x89\\xb1\\xe3\\x81\\x86\\xe9\\x9a\\x8e\\xe5\\xb1\\xa4\\xe3\\x81\\xbe\\xe3\\x81\\xa7\\xe3\\x81\\xafW3C\\xe3\\x81\\xab\\xe3\\x82\\x88\\xe3\\x82\\x8a\\xe6\\xa8\\x99\\xe6\\xba\\x96\\xe5\\x8c\\x96\\xe3\\x81\\x95\\xe3\\x82\\x8c\\xe3\\x81\\xa6\\xe3\\x81\\x84\\xe3\\x82\\x8b\\xe3\\x81\\x8c\\xe3\\x80\\x81\\xe3\\x81\\x9d\\xe3\\x82\\x8c\\xe4\\xbb\\xa5\\xe4\\xb8\\x8a\\xe3\\x81\\xae\\xe9\\x9a\\x8e\\xe5\\xb1\\xa4\\xe3\\x81\\xae\\xe9\\x96\\x8b\\xe7\\x99\\xba\\xe3\\x81\\xaf\\xe9\\x9b\\xa3\\xe3\\x81\\x97\\xe3\\x81\\x84\\xe3\\x81\\x9f\\xe3\\x82\\x81\\xe3\\x80\\x81\\xe5\\xae\\x9f\\xe7\\x8f\\xbe\\xe3\\x81\\xa8\\xe6\\xa8\\x99\\xe6\\xba\\x96\\xe5\\x8c\\x96\\xe3\\x81\\xab\\xe3\\x81\\xaf\\xe9\\x95\\xb7\\xe6\\x9c\\x9f\\xe9\\x96\\x93\\xe6\\x8e\\x9b\\xe3\\x81\\x8b\\xe3\\x82\\x8b\\xe3\\x81\\xa8\\xe4\\xba\\x88\\xe6\\x83\\xb3\\xe3\\x81\\x95\\xe3\\x82\\x8c\\xe3\\x81\\xa6\\xe3\\x81\\x84\\xe3\\x82\\x8b\\xe3\\x80\\x82\\xe3\\x81\\xbe\\xe3\\x81\\x9f\\xe3\\x80\\x81\\xe6\\x97\\xa2\\xe5\\xad\\x98\\xe3\\x81\\xaeWeb\\xe3\\x82\\xb5\\xe3\\x82\\xa4\\xe3\\x83\\x88\\xe3\\x81\\xab\\xe5\\xaf\\xbe\\xe3\\x81\\x99\\xe3\\x82\\x8b\\xe3\\x83\\xa1\\xe3\\x82\\xbf\\xe3\\x83\\x87\\xe3\\x83\\xbc\\xe3\\x82\\xbf\\xe4\\xbb\\x98\\xe4\\xb8\\x8e\\xe3\\x81\\xae\\xe4\\xbd\\x9c\\xe6\\xa5\\xad\\xe3\\x81\\x8c\\xe5\\xbf\\x85\\xe8\\xa6\\x81\\xe3\\x81\\xa7\\xe3\\x81\\x82\\xe3\\x82\\x8b\\xe3\\x81\\x9f\\xe3\\x82\\x81\\xe3\\x80\\x81Web\\xe5\\x85\\xa8\\xe5\\x9f\\x9f\\xe3\\x81\\xb8\\xe3\\x81\\xae\\xe6\\x99\\xae\\xe5\\x8f\\x8a\\xe3\\x81\\xab\\xe9\\x96\\xa2\\xe3\\x81\\x97\\xe3\\x81\\xa6\\xe3\\x82\\x82\\xe9\\x95\\xb7\\xe6\\x9c\\x9f\\xe9\\x96\\x93\\xe6\\x8e\\x9b\\xe3\\x81\\x8b\\xe3\\x82\\x8b\\xe3\\x81\\xa8\\xe4\\xba\\x88\\xe6\\x83\\xb3\\xe3\\x81\\x95\\xe3\\x82\\x8c\\xe3\\x81\\xa6\\xe3\\x81\\x84\\xe3\\x82\\x8b\\xe3\\x80\\x82 \\xe3\\x82\\xbb\\xe3\\x83\\x9e\\xe3\\x83\\xb3\\xe3\\x83\\x86\\xe3\\x82\\xa3\\xe3\\x83\\x83\\xe3\\x82\\xaf\\xe3\\x82\\xa6\\xe3\\x82\\xa7\\xe3\\x83\\x96\\xe3\\x81\\xafXML\\xe3\\x80\\x81XML Schema\\xe3\\x80\\x81RDF\\xe3\\x80\\x81RDF Schema\\xe3\\x80\\x81OWL\\xe3\\x81\\xaa\\xe3\\x81\\xa9\\xe3\\x81\\xae\\xe6\\xa8\\x99\\xe6\\xba\\x96\\xe3\\x81\\x8a\\xe3\\x82\\x88\\xe3\\x81\\xb3\\xe3\\x83\\x84\\xe3\\x83\\xbc\\xe3\\x83\\xab\\xe7\\xbe\\xa4\\xe3\\x81\\x8b\\xe3\\x82\\x89\\xe6\\xa7\\x8b\\xe6\\x88\\x90\\xe3\\x81\\x95\\xe3\\x82\\x8c\\xe3\\x81\\xa6\\xe3\\x81\\x84\\xe3\\x82\\x8b\\xe3\\x80\\x82\\xe3\\x80\\x8cOWL \\xe3\\x82\\xa6\\xe3\\x82\\xa7\\xe3\\x83\\x96\\xe3\\x83\\xbb\\xe3\\x82\\xaa\\xe3\\x83\\xb3\\xe3\\x83\\x88\\xe3\\x83\\xad\\xe3\\x82\\xb8\\xe3\\x83\\xbc\\xe8\\xa8\\x80\\xe8\\xaa\\x9e\\xe6\\xa6\\x82\\xe8\\xa6\\x81\\xe3\\x80\\x8d\\xe3\\x81\\xaf\\xe3\\x82\\xbb\\xe3\\x83\\x9e\\xe3\\x83\\xb3\\xe3\\x83\\x86\\xe3\\x82\\xa3\\xe3\\x83\\x83\\xe3\\x82\\xaf\\xe3\\x82\\xa6\\xe3\\x82\\xa7\\xe3\\x83\\x96\\xe3\\x81\\xab\\xe3\\x81\\x8a\\xe3\\x81\\x91\\xe3\\x82\\x8b\\xe3\\x81\\x93\\xe3\\x82\\x8c\\xe3\\x82\\x89\\xe6\\xa8\\x99\\xe6\\xba\\x96\\xe3\\x81\\x8a\\xe3\\x82\\x88\\xe3\\x81\\xb3\\xe3\\x83\\x84\\xe3\\x83\\xbc\\xe3\\x83\\xab\\xe7\\xbe\\xa4\\xe3\\x81\\xae\\xe6\\xa9\\x9f\\xe8\\x83\\xbd\\xe3\\x83\\xbb\\xe9\\x96\\xa2\\xe9\\x80\\xa3\\xe3\\x81\\xab\\xe3\\x81\\xa4\\xe3\\x81\\x84\\xe3\\x81\\xa6\\xe8\\xbf\\xb0\\xe3\\x81\\xb9\\xe3\\x81\\xa6\\xe3\\x81\\x84\\xe3\\x82\\x8b\\xe3\\x80\\x82\"@ja,\\n        \"Het semantisch web verschaft een standaardframework waarmee data gedeeld en hergebruikt kunnen worden. Het is een samenwerking onder leiding van het internationale orgaan voor internetstandaarden, het World Wide Web Consortium (W3C). Het semantisch web is geen synoniem voor Web 2.0, zoals soms wel wordt verondersteld. Tim Berners-Lee beschreef het semantische web als een component van \\'Web 3.0\\'. Soms wordt het gebruikt als synoniem voor Web 3.0, hoewel de definities verschillen.\"@nl,\\n        \"\"\"Semantic Web (sieci semantyczne) \\xe2\\x80\\x93 projekt, kt\\xc3\\xb3ry ma przyczyni\\xc4\\x87 si\\xc4\\x99 do utworzenia i rozpowszechnienia standard\\xc3\\xb3w opisywania tre\\xc5\\x9bci w Internecie w spos\\xc3\\xb3b, kt\\xc3\\xb3ry umo\\xc5\\xbcliwi maszynom i programom (np. tzw. agentom) przetwarzanie informacji w spos\\xc3\\xb3b odpowiedni do ich znaczenia. W\\xc5\\x9br\\xc3\\xb3d standard\\xc3\\xb3w sieci semantycznych znajduj\\xc4\\x85 si\\xc4\\x99 m.in. OWL, RDF, RDF Schema (inaczej RDFS). Znaczenia zasob\\xc3\\xb3w informacyjnych okre\\xc5\\x9bla si\\xc4\\x99 za pomoc\\xc4\\x85 tzw. ontologii. Sie\\xc4\\x87 semantyczna jest wizj\\xc4\\x85 Tima Bernersa-Lee (tw\\xc3\\xb3rcy standardu WWW i pierwszej przegl\\xc4\\x85darki internetowej, a tak\\xc5\\xbce przewodnicz\\xc4\\x85cego W3C). W swoich za\\xc5\\x82o\\xc5\\xbceniach sie\\xc4\\x87 semantyczna ma korzysta\\xc4\\x87 z istniej\\xc4\\x85cego protoko\\xc5\\x82u komunikacyjnego, na kt\\xc3\\xb3rym bazuje dzisiejszy Internet. R\\xc3\\xb3\\xc5\\xbcnica mia\\xc5\\x82aby polega\\xc4\\x87 na tym, \\xc5\\xbce przesy\\xc5\\x82ane dane mog\\xc5\\x82yby by\\xc4\\x87 \\'rozumiane\\' tak\\xc5\\xbce przez maszyny. Owo \\'rozumienie\\' polega\\xc5\\x82oby na tym, \\xc5\\xbce dane przekazywane by\\xc5\\x82yby w postaci, w kt\\xc3\\xb3rej mo\\xc5\\xbcna by powi\\xc4\\x85za\\xc4\\x87 ich znaczenia mi\\xc4\\x99dzy sob\\xc4\\x85 a tak\\xc5\\xbce w ramach odpowiedniego kontekstu. Informacje przekazywane w ramach sieci semantycznej wymaga\\xc5\\x82yby nie tylko samych danych, ale tak\\xc5\\xbce informacji o tych\\xc5\\xbce (tzw. meta-danych). To w\\xc5\\x82a\\xc5\\x9bnie meta-dane zawiera\\xc5\\x82yby sformu\\xc5\\x82owania dotycz\\xc4\\x85ce relacji mi\\xc4\\x99dzy danymi oraz prawa logiki, kt\\xc3\\xb3re mo\\xc5\\xbcna do nich zastosowa\\xc4\\x87. Dzi\\xc4\\x99ki temu mo\\xc5\\xbcna by: \\n*  powi\\xc4\\x85za\\xc4\\x87 r\\xc3\\xb3\\xc5\\xbcne dane znajduj\\xc4\\x85ce si\\xc4\\x99 w Internecie w ramach wsp\\xc3\\xb3lnych jednostek znaczeniowych (np. strony dotycz\\xc4\\x85ce film\\xc3\\xb3w, dziedzin nauki, kuchni francuskiej, etc.) \\n*  rozr\\xc3\\xb3\\xc5\\xbcni\\xc4\\x87 dane, kt\\xc3\\xb3re dla maszyn s\\xc4\\x85 w tej chwili nierozr\\xc3\\xb3\\xc5\\xbcnialne ze wzgl\\xc4\\x99du na identyczny zapis tekstowy (np. zamek - urz\\xc4\\x85dzenie do zamykania drzwi; urz\\xc4\\x85dzenie do \\xc5\\x82\\xc4\\x85czenia w ustalonym po\\xc5\\x82o\\xc5\\xbceniu element\\xc3\\xb3w ubrania; okaza\\xc5\\x82a budowla mieszkalno-obronna) \\n*  przeprowadza\\xc4\\x87 na tych\\xc5\\xbce danych wnioskowania, tzn. otrzymywa\\xc4\\x87 informacje na ich temat, kt\\xc3\\xb3re nie s\\xc4\\x85 zawarte explicite (np. na podstawie danej \"Ewa jest \\xc5\\xbcon\\xc4\\x85 Adama\", mo\\xc5\\xbcemy te\\xc5\\xbc dowiedzie\\xc4\\x87 si\\xc4\\x99, \\xc5\\xbce Ewa jest kobiet\\xc4\\x85, Adam m\\xc4\\x99\\xc5\\xbcczyzn\\xc4\\x85, Adam jest m\\xc4\\x99\\xc5\\xbcem Ewy, \\xc5\\xbcaden inny m\\xc4\\x99\\xc5\\xbcczyzna nie jest m\\xc4\\x99\\xc5\\xbcem Ewy, etc.)\"\"\"@pl,\\n        \"A Web sem\\xc3\\xa2ntica \\xc3\\xa9 uma extens\\xc3\\xa3o da World Wide Web atual, que permitir\\xc3\\xa1 aos computadores e humanos trabalharem em coopera\\xc3\\xa7\\xc3\\xa3o. A Web sem\\xc3\\xa2ntica interliga significados de palavras e, neste \\xc3\\xa2mbito, tem como finalidade conseguir atribuir um significado (sentido) aos conte\\xc3\\xbados publicados na Internet de modo que seja percept\\xc3\\xadvel tanto pelo humano como pelo computador. A ideia da Web Sem\\xc3\\xa2ntica surgiu em 2001, quando Tim Berners-Lee, James Hendler e Ora Lassila publicaram um artigo na revista Scientific American, intitulado: \\xe2\\x80\\x9cWeb Sem\\xc3\\xa2ntica: um novo formato de conte\\xc3\\xbado para a Web que tem significado para computadores vai iniciar uma revolu\\xc3\\xa7\\xc3\\xa3o de novas possibilidades.\\xe2\\x80\\x9d A web sem\\xc3\\xa2ntica \\xc3\\xa9 a rela\\xc3\\xa7\\xc3\\xa3o de interatividade do homem e o computador, onde um depende do outro para a conclus\\xc3\\xa3o de tarefas, assim acep\\xc3\\xa7\\xc3\\xa3o de entendimento do comando estipulado do ser humano \\xc3\\xa0 interface operacional da maquina dando um significado de ordem a ser executada. Sendo desta forma uma esp\\xc3\\xa9cie de escrita de entendimento tanto para o computador e para usu\\xc3\\xa1rio, por meio de organiza\\xc3\\xa7\\xc3\\xa3o das informa\\xc3\\xa7\\xc3\\xb5es contida na m\\xc3\\xa1quina, atrav\\xc3\\xa9s do seu perfil de suas \\xc3\\xbaltimas pesquisas realizadas, originando um reposit\\xc3\\xb3rio de dados lincados, como se fosse um verbete de enciclop\\xc3\\xa9dia. Podemos fazer uma assimila\\xc3\\xa7\\xc3\\xa3o da web sem\\xc3\\xa2ntica com a Ci\\xc3\\xaancia da Informa\\xc3\\xa7\\xc3\\xa3o, pelo fato de possuir a ideia estrutural de arranjo sist\\xc3\\xaamico, agrupando um conjunto de coleta de an\\xc3\\xa1lise, classifica\\xc3\\xa7\\xc3\\xa3o, armazenamento, dissemina\\xc3\\xa7\\xc3\\xa3o e recupera\\xc3\\xa7\\xc3\\xa3o de informa\\xc3\\xa7\\xc3\\xa3o como se fosse uma enciclop\\xc3\\xa9dia. O objetivo principal da web sem\\xc3\\xa2ntica n\\xc3\\xa3o \\xc3\\xa9, pelo menos para j\\xc3\\xa1, treinar as m\\xc3\\xa1quinas para que se comportem como pessoas, mas sim desenvolver tecnologias e linguagens que tornem a informa\\xc3\\xa7\\xc3\\xa3o leg\\xc3\\xadvel para as m\\xc3\\xa1quinas. A finalidade passa pelo desenvolvimento de um modelo tecnol\\xc3\\xb3gico que permita a partilha global de conhecimento assistido por m\\xc3\\xa1quinas (W3C 2001). A integra\\xc3\\xa7\\xc3\\xa3o das linguagens ou tecnologias eXtensible Markup Language (XML), Resource Description Framework (RDF), arquiteturas de metadados, ontologias, agentes computacionais, entre outras, favorecer\\xc3\\xa1 o aparecimento de servi\\xc3\\xa7os Web que garantam a interoperabilidade e coopera\\xc3\\xa7\\xc3\\xa3o. Ultimamente tem-se associado a Web Sem\\xc3\\xa2ntica \\xc3\\xa0 Web 3.0, como um pr\\xc3\\xb3ximo movimento da internet depois da Web 2.0 que j\\xc3\\xa1 inicia seu crescimento.\"@pt,\\n        \"\\xd0\\xa1\\xd0\\xb5\\xd0\\xbc\\xd0\\xb0\\xd0\\xbd\\xd1\\x82\\xd0\\xb8\\xcc\\x81\\xd1\\x87\\xd0\\xb5\\xd1\\x81\\xd0\\xba\\xd0\\xb0\\xd1\\x8f \\xd0\\xbf\\xd0\\xb0\\xd1\\x83\\xd1\\x82\\xd0\\xb8\\xcc\\x81\\xd0\\xbd\\xd0\\xb0 (\\xd0\\xb0\\xd0\\xbd\\xd0\\xb3\\xd0\\xbb. semantic web) \\xe2\\x80\\x94 \\xd1\\x8d\\xd1\\x82\\xd0\\xbe \\xd0\\xbe\\xd0\\xb1\\xd1\\x89\\xd0\\xb5\\xd0\\xb4\\xd0\\xbe\\xd1\\x81\\xd1\\x82\\xd1\\x83\\xd0\\xbf\\xd0\\xbd\\xd0\\xb0\\xd1\\x8f \\xd0\\xb3\\xd0\\xbb\\xd0\\xbe\\xd0\\xb1\\xd0\\xb0\\xd0\\xbb\\xd1\\x8c\\xd0\\xbd\\xd0\\xb0\\xd1\\x8f \\xd1\\x81\\xd0\\xb5\\xd0\\xbc\\xd0\\xb0\\xd0\\xbd\\xd1\\x82\\xd0\\xb8\\xd1\\x87\\xd0\\xb5\\xd1\\x81\\xd0\\xba\\xd0\\xb0\\xd1\\x8f \\xd1\\x81\\xd0\\xb5\\xd1\\x82\\xd1\\x8c, \\xd1\\x84\\xd0\\xbe\\xd1\\x80\\xd0\\xbc\\xd0\\xb8\\xd1\\x80\\xd1\\x83\\xd0\\xb5\\xd0\\xbc\\xd0\\xb0\\xd1\\x8f \\xd0\\xbd\\xd0\\xb0 \\xd0\\xb1\\xd0\\xb0\\xd0\\xb7\\xd0\\xb5 \\xd0\\x92\\xd1\\x81\\xd0\\xb5\\xd0\\xbc\\xd0\\xb8\\xd1\\x80\\xd0\\xbd\\xd0\\xbe\\xd0\\xb9 \\xd0\\xbf\\xd0\\xb0\\xd1\\x83\\xd1\\x82\\xd0\\xb8\\xd0\\xbd\\xd1\\x8b \\xd0\\xbf\\xd1\\x83\\xd1\\x82\\xd1\\x91\\xd0\\xbc \\xd1\\x81\\xd1\\x82\\xd0\\xb0\\xd0\\xbd\\xd0\\xb4\\xd0\\xb0\\xd1\\x80\\xd1\\x82\\xd0\\xb8\\xd0\\xb7\\xd0\\xb0\\xd1\\x86\\xd0\\xb8\\xd0\\xb8 \\xd0\\xbf\\xd1\\x80\\xd0\\xb5\\xd0\\xb4\\xd1\\x81\\xd1\\x82\\xd0\\xb0\\xd0\\xb2\\xd0\\xbb\\xd0\\xb5\\xd0\\xbd\\xd0\\xb8\\xd1\\x8f \\xd0\\xb8\\xd0\\xbd\\xd1\\x84\\xd0\\xbe\\xd1\\x80\\xd0\\xbc\\xd0\\xb0\\xd1\\x86\\xd0\\xb8\\xd0\\xb8 \\xd0\\xb2 \\xd0\\xb2\\xd0\\xb8\\xd0\\xb4\\xd0\\xb5, \\xd0\\xbf\\xd1\\x80\\xd0\\xb8\\xd0\\xb3\\xd0\\xbe\\xd0\\xb4\\xd0\\xbd\\xd0\\xbe\\xd0\\xbc \\xd0\\xb4\\xd0\\xbb\\xd1\\x8f \\xd0\\xbc\\xd0\\xb0\\xd1\\x88\\xd0\\xb8\\xd0\\xbd\\xd0\\xbd\\xd0\\xbe\\xd0\\xb9 \\xd0\\xbe\\xd0\\xb1\\xd1\\x80\\xd0\\xb0\\xd0\\xb1\\xd0\\xbe\\xd1\\x82\\xd0\\xba\\xd0\\xb8. \\xd0\\x92 \\xd0\\xbe\\xd0\\xb1\\xd1\\x8b\\xd1\\x87\\xd0\\xbd\\xd0\\xbe\\xd0\\xb9 \\xd0\\x92\\xd1\\x81\\xd0\\xb5\\xd0\\xbc\\xd0\\xb8\\xd1\\x80\\xd0\\xbd\\xd0\\xbe\\xd0\\xb9 \\xd0\\xbf\\xd0\\xb0\\xd1\\x83\\xd1\\x82\\xd0\\xb8\\xd0\\xbd\\xd0\\xb5, \\xd0\\xbe\\xd1\\x81\\xd0\\xbd\\xd0\\xbe\\xd0\\xb2\\xd0\\xb0\\xd0\\xbd\\xd0\\xbd\\xd0\\xbe\\xd0\\xb9 \\xd0\\xbd\\xd0\\xb0 HTML-\\xd1\\x81\\xd1\\x82\\xd1\\x80\\xd0\\xb0\\xd0\\xbd\\xd0\\xb8\\xd1\\x86\\xd0\\xb0\\xd1\\x85, \\xd0\\xb8\\xd0\\xbd\\xd1\\x84\\xd0\\xbe\\xd1\\x80\\xd0\\xbc\\xd0\\xb0\\xd1\\x86\\xd0\\xb8\\xd1\\x8f \\xd0\\xb7\\xd0\\xb0\\xd0\\xbb\\xd0\\xbe\\xd0\\xb6\\xd0\\xb5\\xd0\\xbd\\xd0\\xb0 \\xd0\\xb2 \\xd1\\x82\\xd0\\xb5\\xd0\\xba\\xd1\\x81\\xd1\\x82\\xd0\\xb5 \\xd1\\x81\\xd1\\x82\\xd1\\x80\\xd0\\xb0\\xd0\\xbd\\xd0\\xb8\\xd1\\x86 \\xd0\\xb8 \\xd0\\xbf\\xd1\\x80\\xd0\\xb5\\xd0\\xb4\\xd0\\xbd\\xd0\\xb0\\xd0\\xb7\\xd0\\xbd\\xd0\\xb0\\xd1\\x87\\xd0\\xb5\\xd0\\xbd\\xd0\\xb0 \\xd0\\xb4\\xd0\\xbb\\xd1\\x8f \\xd1\\x87\\xd1\\x82\\xd0\\xb5\\xd0\\xbd\\xd0\\xb8\\xd1\\x8f \\xd0\\xb8 \\xd0\\xbf\\xd0\\xbe\\xd0\\xbd\\xd0\\xb8\\xd0\\xbc\\xd0\\xb0\\xd0\\xbd\\xd0\\xb8\\xd1\\x8f \\xd1\\x87\\xd0\\xb5\\xd0\\xbb\\xd0\\xbe\\xd0\\xb2\\xd0\\xb5\\xd0\\xba\\xd0\\xbe\\xd0\\xbc. \\xd0\\xa1\\xd0\\xb5\\xd0\\xbc\\xd0\\xb0\\xd0\\xbd\\xd1\\x82\\xd0\\xb8\\xd1\\x87\\xd0\\xb5\\xd1\\x81\\xd0\\xba\\xd0\\xb0\\xd1\\x8f \\xd0\\xbf\\xd0\\xb0\\xd1\\x83\\xd1\\x82\\xd0\\xb8\\xd0\\xbd\\xd0\\xb0 \\xd1\\x81\\xd0\\xbe\\xd1\\x81\\xd1\\x82\\xd0\\xbe\\xd0\\xb8\\xd1\\x82 \\xd0\\xb8\\xd0\\xb7 \\xd0\\xbc\\xd0\\xb0\\xd1\\x88\\xd0\\xb8\\xd0\\xbd\\xd0\\xbd\\xd0\\xbe-\\xd1\\x87\\xd0\\xb8\\xd1\\x82\\xd0\\xb0\\xd0\\xb5\\xd0\\xbc\\xd1\\x8b\\xd1\\x85 \\xd1\\x8d\\xd0\\xbb\\xd0\\xb5\\xd0\\xbc\\xd0\\xb5\\xd0\\xbd\\xd1\\x82\\xd0\\xbe\\xd0\\xb2 \\xe2\\x80\\x94 \\xd1\\x83\\xd0\\xb7\\xd0\\xbb\\xd0\\xbe\\xd0\\xb2 \\xd1\\x81\\xd0\\xb5\\xd0\\xbc\\xd0\\xb0\\xd0\\xbd\\xd1\\x82\\xd0\\xb8\\xd1\\x87\\xd0\\xb5\\xd1\\x81\\xd0\\xba\\xd0\\xbe\\xd0\\xb9 \\xd1\\x81\\xd0\\xb5\\xd1\\x82\\xd0\\xb8, \\xd1\\x81 \\xd0\\xbe\\xd0\\xbf\\xd0\\xbe\\xd1\\x80\\xd0\\xbe\\xd0\\xb9 \\xd0\\xbd\\xd0\\xb0 \\xd0\\xbe\\xd0\\xbd\\xd1\\x82\\xd0\\xbe\\xd0\\xbb\\xd0\\xbe\\xd0\\xb3\\xd0\\xb8\\xd0\\xb8. \\xd0\\x91\\xd0\\xbb\\xd0\\xb0\\xd0\\xb3\\xd0\\xbe\\xd0\\xb4\\xd0\\xb0\\xd1\\x80\\xd1\\x8f \\xd1\\x8d\\xd1\\x82\\xd0\\xbe\\xd0\\xbc\\xd1\\x83 \\xd0\\xbf\\xd1\\x80\\xd0\\xbe\\xd0\\xb3\\xd1\\x80\\xd0\\xb0\\xd0\\xbc\\xd0\\xbc\\xd1\\x8b-\\xd0\\xba\\xd0\\xbb\\xd0\\xb8\\xd0\\xb5\\xd0\\xbd\\xd1\\x82\\xd1\\x8b \\xd0\\xbf\\xd0\\xbe\\xd0\\xbb\\xd1\\x83\\xd1\\x87\\xd0\\xb0\\xd1\\x8e\\xd1\\x82 \\xd0\\xb2\\xd0\\xbe\\xd0\\xb7\\xd0\\xbc\\xd0\\xbe\\xd0\\xb6\\xd0\\xbd\\xd0\\xbe\\xd1\\x81\\xd1\\x82\\xd1\\x8c \\xd0\\xbd\\xd0\\xb5\\xd0\\xbf\\xd0\\xbe\\xd1\\x81\\xd1\\x80\\xd0\\xb5\\xd0\\xb4\\xd1\\x81\\xd1\\x82\\xd0\\xb2\\xd0\\xb5\\xd0\\xbd\\xd0\\xbd\\xd0\\xbe \\xd0\\xbf\\xd0\\xbe\\xd0\\xbb\\xd1\\x83\\xd1\\x87\\xd0\\xb0\\xd1\\x82\\xd1\\x8c \\xd0\\xb8\\xd0\\xb7 \\xd0\\xb8\\xd0\\xbd\\xd1\\x82\\xd0\\xb5\\xd1\\x80\\xd0\\xbd\\xd0\\xb5\\xd1\\x82\\xd0\\xb0 \\xd1\\x83\\xd1\\x82\\xd0\\xb2\\xd0\\xb5\\xd1\\x80\\xd0\\xb6\\xd0\\xb4\\xd0\\xb5\\xd0\\xbd\\xd0\\xb8\\xd1\\x8f \\xd0\\xb2\\xd0\\xb8\\xd0\\xb4\\xd0\\xb0 \\xc2\\xab\\xd0\\xbf\\xd1\\x80\\xd0\\xb5\\xd0\\xb4\\xd0\\xbc\\xd0\\xb5\\xd1\\x82 \\xe2\\x80\\x94 \\xd0\\xb2\\xd0\\xb8\\xd0\\xb4 \\xd0\\xb2\\xd0\\xb7\\xd0\\xb0\\xd0\\xb8\\xd0\\xbc\\xd0\\xbe\\xd1\\x81\\xd0\\xb2\\xd1\\x8f\\xd0\\xb7\\xd0\\xb8 \\xe2\\x80\\x94 \\xd0\\xb4\\xd1\\x80\\xd1\\x83\\xd0\\xb3\\xd0\\xbe\\xd0\\xb9 \\xd0\\xbf\\xd1\\x80\\xd0\\xb5\\xd0\\xb4\\xd0\\xbc\\xd0\\xb5\\xd1\\x82\\xc2\\xbb \\xd0\\xb8 \\xd0\\xb2\\xd1\\x8b\\xd1\\x87\\xd0\\xb8\\xd1\\x81\\xd0\\xbb\\xd1\\x8f\\xd1\\x82\\xd1\\x8c \\xd0\\xbf\\xd0\\xbe \\xd0\\xbd\\xd0\\xb8\\xd0\\xbc \\xd0\\xbb\\xd0\\xbe\\xd0\\xb3\\xd0\\xb8\\xd1\\x87\\xd0\\xb5\\xd1\\x81\\xd0\\xba\\xd0\\xb8\\xd0\\xb5 \\xd0\\xb7\\xd0\\xb0\\xd0\\xba\\xd0\\xbb\\xd1\\x8e\\xd1\\x87\\xd0\\xb5\\xd0\\xbd\\xd0\\xb8\\xd1\\x8f. \\xd0\\xa1\\xd0\\xb5\\xd0\\xbc\\xd0\\xb0\\xd0\\xbd\\xd1\\x82\\xd0\\xb8\\xd1\\x87\\xd0\\xb5\\xd1\\x81\\xd0\\xba\\xd0\\xb0\\xd1\\x8f \\xd0\\xbf\\xd0\\xb0\\xd1\\x83\\xd1\\x82\\xd0\\xb8\\xd0\\xbd\\xd0\\xb0 \\xd1\\x80\\xd0\\xb0\\xd0\\xb1\\xd0\\xbe\\xd1\\x82\\xd0\\xb0\\xd0\\xb5\\xd1\\x82 \\xd0\\xbf\\xd0\\xb0\\xd1\\x80\\xd0\\xb0\\xd0\\xbb\\xd0\\xbb\\xd0\\xb5\\xd0\\xbb\\xd1\\x8c\\xd0\\xbd\\xd0\\xbe \\xd1\\x81 \\xd0\\xbe\\xd0\\xb1\\xd1\\x8b\\xd1\\x87\\xd0\\xbd\\xd0\\xbe\\xd0\\xb9 \\xd0\\x92\\xd1\\x81\\xd0\\xb5\\xd0\\xbc\\xd0\\xb8\\xd1\\x80\\xd0\\xbd\\xd0\\xbe\\xd0\\xb9 \\xd0\\xbf\\xd0\\xb0\\xd1\\x83\\xd1\\x82\\xd0\\xb8\\xd0\\xbd\\xd0\\xbe\\xd0\\xb9 \\xd0\\xb8 \\xd0\\xbd\\xd0\\xb0 \\xd0\\xb5\\xd1\\x91 \\xd0\\xbe\\xd1\\x81\\xd0\\xbd\\xd0\\xbe\\xd0\\xb2\\xd0\\xb5, \\xd0\\xb8\\xd1\\x81\\xd0\\xbf\\xd0\\xbe\\xd0\\xbb\\xd1\\x8c\\xd0\\xb7\\xd1\\x83\\xd1\\x8f \\xd0\\xbf\\xd1\\x80\\xd0\\xbe\\xd1\\x82\\xd0\\xbe\\xd0\\xba\\xd0\\xbe\\xd0\\xbb HTTP \\xd0\\xb8 \\xd0\\xb8\\xd0\\xb4\\xd0\\xb5\\xd0\\xbd\\xd1\\x82\\xd0\\xb8\\xd1\\x84\\xd0\\xb8\\xd0\\xba\\xd0\\xb0\\xd1\\x82\\xd0\\xbe\\xd1\\x80\\xd1\\x8b \\xd1\\x80\\xd0\\xb5\\xd1\\x81\\xd1\\x83\\xd1\\x80\\xd1\\x81\\xd0\\xbe\\xd0\\xb2 URI. \\xd0\\x9d\\xd0\\xb0\\xd0\\xb7\\xd0\\xb2\\xd0\\xb0\\xd0\\xbd\\xd0\\xb8\\xd0\\xb5 \\xc2\\xab\\xd0\\xa1\\xd0\\xb5\\xd0\\xbc\\xd0\\xb0\\xd0\\xbd\\xd1\\x82\\xd0\\xb8\\xd1\\x87\\xd0\\xb5\\xd1\\x81\\xd0\\xba\\xd0\\xb0\\xd1\\x8f \\xd0\\xbf\\xd0\\xb0\\xd1\\x83\\xd1\\x82\\xd0\\xb8\\xd0\\xbd\\xd0\\xb0\\xc2\\xbb \\xd0\\xb1\\xd1\\x8b\\xd0\\xbb\\xd0\\xbe \\xd0\\xb2\\xd0\\xbf\\xd0\\xb5\\xd1\\x80\\xd0\\xb2\\xd1\\x8b\\xd0\\xb5 \\xd0\\xb2\\xd0\\xb2\\xd0\\xb5\\xd0\\xb4\\xd0\\xb5\\xd0\\xbd\\xd0\\xbe \\xd1\\x81\\xd1\\x8d\\xd1\\x80\\xd0\\xbe\\xd0\\xbc \\xd0\\xa2\\xd0\\xb8\\xd0\\xbc\\xd0\\xbe\\xd0\\xbc \\xd0\\x91\\xd0\\xb5\\xd1\\x80\\xd0\\xbd\\xd0\\xb5\\xd1\\x80\\xd1\\x81\\xd0\\xbe\\xd0\\xbc-\\xd0\\x9b\\xd0\\xb8 (\\xd0\\xb8\\xd0\\xb7\\xd0\\xbe\\xd0\\xb1\\xd1\\x80\\xd0\\xb5\\xd1\\x82\\xd0\\xb0\\xd1\\x82\\xd0\\xb5\\xd0\\xbb\\xd0\\xb5\\xd0\\xbc \\xd0\\x92\\xd1\\x81\\xd0\\xb5\\xd0\\xbc\\xd0\\xb8\\xd1\\x80\\xd0\\xbd\\xd0\\xbe\\xd0\\xb9 \\xd0\\xbf\\xd0\\xb0\\xd1\\x83\\xd1\\x82\\xd0\\xb8\\xd0\\xbd\\xd1\\x8b) \\xd0\\xb2 \\xd1\\x81\\xd0\\xb5\\xd0\\xbd\\xd1\\x82\\xd1\\x8f\\xd0\\xb1\\xd1\\x80\\xd0\\xb5 1998 \\xd0\\xb3\\xd0\\xbe\\xd0\\xb4\\xd0\\xb0, \\xd0\\xb8 \\xd0\\xbd\\xd0\\xb0\\xd0\\xb7\\xd1\\x8b\\xd0\\xb2\\xd0\\xb0\\xd0\\xb5\\xd1\\x82\\xd1\\x81\\xd1\\x8f \\xd0\\xb8\\xd0\\xbc \\xc2\\xab\\xd1\\x81\\xd0\\xbb\\xd0\\xb5\\xd0\\xb4\\xd1\\x83\\xd1\\x8e\\xd1\\x89\\xd0\\xb8\\xd0\\xbc \\xd1\\x88\\xd0\\xb0\\xd0\\xb3\\xd0\\xbe\\xd0\\xbc \\xd0\\xb2 \\xd1\\x80\\xd0\\xb0\\xd0\\xb7\\xd0\\xb2\\xd0\\xb8\\xd1\\x82\\xd0\\xb8\\xd0\\xb8 \\xd0\\x92\\xd1\\x81\\xd0\\xb5\\xd0\\xbc\\xd0\\xb8\\xd1\\x80\\xd0\\xbd\\xd0\\xbe\\xd0\\xb9 \\xd0\\xbf\\xd0\\xb0\\xd1\\x83\\xd1\\x82\\xd0\\xb8\\xd0\\xbd\\xd1\\x8b\\xc2\\xbb. \\xd0\\x9f\\xd0\\xbe\\xd0\\xb7\\xd0\\xb6\\xd0\\xb5 \\xd0\\xb2 \\xd1\\x81\\xd0\\xb2\\xd0\\xbe\\xd1\\x91\\xd0\\xbc \\xd0\\xb1\\xd0\\xbb\\xd0\\xbe\\xd0\\xb3\\xd0\\xb5 \\xd0\\xbe\\xd0\\xbd \\xd0\\xbf\\xd1\\x80\\xd0\\xb5\\xd0\\xb4\\xd0\\xbb\\xd0\\xbe\\xd0\\xb6\\xd0\\xb8\\xd0\\xbb \\xd0\\xb2 \\xd0\\xba\\xd0\\xb0\\xd1\\x87\\xd0\\xb5\\xd1\\x81\\xd1\\x82\\xd0\\xb2\\xd0\\xb5 \\xd1\\x81\\xd0\\xb8\\xd0\\xbd\\xd0\\xbe\\xd0\\xbd\\xd0\\xb8\\xd0\\xbc\\xd0\\xb0 \\xd1\\x82\\xd0\\xb5\\xd1\\x80\\xd0\\xbc\\xd0\\xb8\\xd0\\xbd \\xc2\\xab\\xd0\\xb3\\xd0\\xb8\\xd0\\xb3\\xd0\\xb0\\xd0\\xbd\\xd1\\x82\\xd1\\x81\\xd0\\xba\\xd0\\xb8\\xd0\\xb9 \\xd0\\xb3\\xd0\\xbb\\xd0\\xbe\\xd0\\xb1\\xd0\\xb0\\xd0\\xbb\\xd1\\x8c\\xd0\\xbd\\xd1\\x8b\\xd0\\xb9 \\xd0\\xb3\\xd1\\x80\\xd0\\xb0\\xd1\\x84\\xc2\\xbb (\\xd0\\xb0\\xd0\\xbd\\xd0\\xb3\\xd0\\xbb. giant global graph, GGG, \\xd0\\xbf\\xd0\\xbe \\xd0\\xb0\\xd0\\xbd\\xd0\\xb0\\xd0\\xbb\\xd0\\xbe\\xd0\\xb3\\xd0\\xb8\\xd0\\xb8 \\xd1\\x81 WWW). \\xd0\\x9a\\xd0\\xbe\\xd0\\xbd\\xd1\\x86\\xd0\\xb5\\xd0\\xbf\\xd1\\x86\\xd0\\xb8\\xd1\\x8f \\xd1\\x81\\xd0\\xb5\\xd0\\xbc\\xd0\\xb0\\xd0\\xbd\\xd1\\x82\\xd0\\xb8\\xd1\\x87\\xd0\\xb5\\xd1\\x81\\xd0\\xba\\xd0\\xbe\\xd0\\xb9 \\xd0\\xbf\\xd0\\xb0\\xd1\\x83\\xd1\\x82\\xd0\\xb8\\xd0\\xbd\\xd1\\x8b \\xd0\\xb1\\xd1\\x8b\\xd0\\xbb\\xd0\\xb0 \\xd0\\xbf\\xd1\\x80\\xd0\\xb8\\xd0\\xbd\\xd1\\x8f\\xd1\\x82\\xd0\\xb0 \\xd0\\xb8 \\xd0\\xbf\\xd1\\x80\\xd0\\xbe\\xd0\\xb4\\xd0\\xb2\\xd0\\xb8\\xd0\\xb3\\xd0\\xb0\\xd0\\xb5\\xd1\\x82\\xd1\\x81\\xd1\\x8f \\xd0\\xba\\xd0\\xbe\\xd0\\xbd\\xd1\\x81\\xd0\\xbe\\xd1\\x80\\xd1\\x86\\xd0\\xb8\\xd1\\x83\\xd0\\xbc\\xd0\\xbe\\xd0\\xbc \\xd0\\x92\\xd1\\x81\\xd0\\xb5\\xd0\\xbc\\xd0\\xb8\\xd1\\x80\\xd0\\xbd\\xd0\\xbe\\xd0\\xb9 \\xd0\\xbf\\xd0\\xb0\\xd1\\x83\\xd1\\x82\\xd0\\xb8\\xd0\\xbd\\xd1\\x8b.\"@ru,\\n        \"\"\"\\xe8\\xaf\\xad\\xe4\\xb9\\x89\\xe7\\xbd\\x91\\xef\\xbc\\x88Semantic Web\\xef\\xbc\\x89\\xe6\\x98\\xaf\\xe7\\x94\\xb1\\xe4\\xb8\\x87\\xe7\\xbb\\xb4\\xe7\\xbd\\x91\\xe8\\x81\\x94\\xe7\\x9b\\x9f\\xe7\\x9a\\x84\\xe8\\x92\\x82\\xe5\\xa7\\x86\\xc2\\xb7\\xe4\\xbc\\xaf\\xe7\\xba\\xb3\\xe6\\x96\\xaf-\\xe6\\x9d\\x8e\\xef\\xbc\\x88Tim Berners-Lee\\xef\\xbc\\x89\\xe5\\x9c\\xa81998\\xe5\\xb9\\xb4\\xe6\\x8f\\x90\\xe5\\x87\\xba\\xe7\\x9a\\x84\\xe4\\xb8\\x80\\xe4\\xb8\\xaa\\xe6\\xa6\\x82\\xe5\\xbf\\xb5\\xef\\xbc\\x8c\\xe5\\xae\\x83\\xe7\\x9a\\x84\\xe6\\xa0\\xb8\\xe5\\xbf\\x83\\xe6\\x98\\xaf\\xef\\xbc\\x9a\\xe9\\x80\\x9a\\xe8\\xbf\\x87\\xe7\\xbb\\x99\\xe4\\xb8\\x87\\xe7\\xbb\\xb4\\xe7\\xbd\\x91\\xe4\\xb8\\x8a\\xe7\\x9a\\x84\\xe6\\x96\\x87\\xe6\\xa1\\xa3\\xef\\xbc\\x88\\xe5\\xa6\\x82: HTML\\xef\\xbc\\x89\\xe6\\xb7\\xbb\\xe5\\x8a\\xa0\\xe8\\x83\\xbd\\xe5\\xa4\\x9f\\xe8\\xa2\\xab\\xe8\\xae\\xa1\\xe7\\xae\\x97\\xe6\\x9c\\xba\\xe6\\x89\\x80\\xe7\\x90\\x86\\xe8\\xa7\\xa3\\xe7\\x9a\\x84\\xe8\\xaf\\xad\\xe4\\xb9\\x89\\xef\\xbc\\x88Meta data\\xef\\xbc\\x89\\xef\\xbc\\x8c\\xe4\\xbb\\x8e\\xe8\\x80\\x8c\\xe4\\xbd\\xbf\\xe6\\x95\\xb4\\xe4\\xb8\\xaa\\xe4\\xba\\x92\\xe8\\x81\\x94\\xe7\\xbd\\x91\\xe6\\x88\\x90\\xe4\\xb8\\xba\\xe4\\xb8\\x80\\xe4\\xb8\\xaa\\xe9\\x80\\x9a\\xe7\\x94\\xa8\\xe7\\x9a\\x84\\xe4\\xbf\\xa1\\xe6\\x81\\xaf\\xe4\\xba\\xa4\\xe6\\x8d\\xa2\\xe5\\xaa\\x92\\xe4\\xbb\\x8b\\xe3\\x80\\x82\\xe8\\xaf\\xad\\xe4\\xb9\\x89\\xe4\\xb8\\x87\\xe7\\xbb\\xb4\\xe7\\xbd\\x91\\xe9\\x80\\x9a\\xe8\\xbf\\x87\\xe4\\xbd\\xbf\\xe7\\x94\\xa8\\xe6\\xa0\\x87\\xe5\\x87\\x86\\xe3\\x80\\x81\\xe7\\xbd\\xae\\xe6\\xa0\\x87\\xe8\\xaf\\xad\\xe8\\xa8\\x80\\xe5\\x92\\x8c\\xe7\\x9b\\xb8\\xe5\\x85\\xb3\\xe7\\x9a\\x84\\xe5\\xa4\\x84\\xe7\\x90\\x86\\xe5\\xb7\\xa5\\xe5\\x85\\xb7\\xe6\\x9d\\xa5\\xe6\\x89\\xa9\\xe5\\xb1\\x95\\xe4\\xb8\\x87\\xe7\\xbb\\xb4\\xe7\\xbd\\x91\\xe7\\x9a\\x84\\xe8\\x83\\xbd\\xe5\\x8a\\x9b\\xe3\\x80\\x82\\xe4\\xb8\\x8d\\xe8\\xbf\\x87\\xe8\\xaf\\xad\\xe6\\x84\\x8f\\xe7\\xbd\\x91\\xe6\\xa6\\x82\\xe5\\xbf\\xb5\\xe5\\xae\\x9e\\xe9\\x99\\x85\\xe4\\xb8\\x8a\\xe6\\x98\\xaf\\xe5\\x9f\\xba\\xe4\\xba\\x8e\\xe5\\xbe\\x88\\xe5\\xa4\\x9a\\xe5\\xb7\\xb2\\xe6\\x9c\\x89\\xe6\\x8a\\x80\\xe6\\x9c\\xaf\\xe7\\x9a\\x84\\xef\\xbc\\x8c\\xe4\\xb9\\x9f\\xe4\\xbe\\x9d\\xe8\\xb5\\x96\\xe4\\xba\\x8e\\xe5\\x90\\x8e\\xe6\\x9d\\xa5\\xe5\\x92\\x8ctext-and-markup\\xe4\\xb8\\x8e\\xe7\\x9f\\xa5\\xe8\\xaf\\x86\\xe8\\xa1\\xa8\\xe7\\x8e\\xb0\\xe7\\x9a\\x84\\xe7\\xbb\\xbc\\xe5\\x90\\x88\\xe3\\x80\\x82\\xe9\\x82\\xa3\\xe4\\xba\\x9b\\xe6\\xb8\\x8a\\xe6\\xba\\x90\\xe7\\x94\\x9a\\xe8\\x87\\xb3\\xe5\\x8f\\xaf\\xe4\\xbb\\xa5\\xe8\\xbf\\xbd\\xe6\\xba\\xaf\\xe5\\x88\\xb020\\xe4\\xb8\\x96\\xe7\\xba\\xaa60\\xe5\\xb9\\xb4\\xe4\\xbb\\xa3\\xe6\\x9c\\xab\\xe6\\x9c\\x9f\\xe7\\x9a\\x84Allan M. Collins\\xe3\\x80\\x81M. Ross Quillian\\xe3\\x80\\x81Elizabeth F. Loftus\\xe7\\xad\\x89\\xe4\\xba\\xba\\xe7\\x9a\\x84\\xe7\\xa0\\x94\\xe7\\xa9\\xb6\\xef\\xbc\\x8c\\xe8\\xbf\\x98\\xe6\\x9c\\x89\\xe4\\xb9\\x8b\\xe5\\x90\\x8e70\\xe5\\xb9\\xb4\\xe4\\xbb\\xa3\\xe5\\x88\\x9dR.F.Simon\\xe3\\x80\\x81R.C.Schamk\\xe3\\x80\\x81Minsky\\xe7\\xad\\x89\\xe4\\xba\\xba\\xe9\\x99\\x86\\xe7\\xbb\\xad\\xe6\\x8f\\x90\\xe5\\x87\\xba\\xe7\\x9a\\x84\\xe4\\xb8\\x80\\xe4\\xba\\x9b\\xe7\\x90\\x86\\xe8\\xae\\xba\\xe4\\xb8\\x8a\\xe7\\x9a\\x84\\xe6\\x88\\x90\\xe6\\x9e\\x9c\\xef\\xbc\\x8c\\xe5\\x85\\xb6\\xe4\\xb8\\xadSimon\\xe5\\x9c\\xa8\\xe8\\xbf\\x9b\\xe8\\xa1\\x8c\\xe8\\x87\\xaa\\xe7\\x84\\xb6\\xe8\\xaf\\xad\\xe8\\xa8\\x80\\xe7\\x90\\x86\\xe8\\xa7\\xa3\\xe7\\x9a\\x84\\xe5\\xba\\x94\\xe7\\x94\\xa8\\xe7\\xa0\\x94\\xe7\\xa9\\xb6\\xe6\\x97\\xb6\\xe6\\x8f\\x90\\xe5\\x87\\xba\\xe4\\xba\\x86\\xe8\\xaf\\xad\\xe4\\xb9\\x89\\xe7\\xbd\\x91\\xe7\\xbb\\x9cSemantic Network\\xef\\xbc\\x88\\xe4\\xb8\\x8d\\xe6\\x98\\xaf\\xe7\\x8e\\xb0\\xe5\\x9c\\xa8\\xe7\\x9a\\x84Semantic Web\\xef\\xbc\\x89\\xe7\\x9a\\x84\\xe6\\xa6\\x82\\xe5\\xbf\\xb5\\xe3\\x80\\x82\\xe5\\xbd\\x93\\xe6\\x97\\xb6\\xe4\\xba\\xba\\xe4\\xbb\\xac\\xe7\\x94\\x9a\\xe8\\x87\\xb3\\xe5\\x8f\\x91\\xe6\\x98\\x8e\\xe4\\xba\\x86\\xe4\\xbb\\xa5\\xe9\\x80\\xbb\\xe8\\xbe\\x91\\xe4\\xb8\\xba\\xe5\\x9f\\xba\\xe7\\xa1\\x80\\xe7\\x9a\\x84\\xe7\\xa8\\x8b\\xe5\\xba\\x8f\\xe8\\xae\\xbe\\xe8\\xae\\xa1\\xe8\\xaf\\xad\\xe8\\xa8\\x80Prolog\\xe3\\x80\\x82 \"\\xe8\\xaf\\xad\\xe4\\xb9\\x89\"\\xe7\\xbd\\x91\\xe6\\x98\\xaf\\xe7\\x94\\xb1\\xe6\\xaf\\x94\\xe7\\x8e\\xb0\\xe4\\xbb\\x8a\\xe6\\x88\\x90\\xe7\\x86\\x9f\\xe7\\x9a\\x84\\xe7\\xbd\\x91\\xe9\\x99\\x85\\xe6\\x90\\x9c\\xe7\\xb4\\xa2\\xe5\\xb7\\xa5\\xe5\\x85\\xb7\\xe6\\x9b\\xb4\\xe5\\x8a\\xa0\\xe8\\xa1\\x8c\\xe4\\xb9\\x8b\\xe6\\x9c\\x89\\xe6\\x95\\x88\\xe7\\x9a\\x84\\xe3\\x80\\x81\\xe6\\x9b\\xb4\\xe5\\x8a\\xa0\\xe5\\xb9\\xbf\\xe6\\xb3\\x9b\\xe6\\x84\\x8f\\xe4\\xb9\\x89\\xe7\\x9a\\x84\\xe5\\xb9\\xb6\\xe4\\xb8\\x94\\xe8\\x87\\xaa\\xe5\\x8a\\xa8\\xe8\\x81\\x9a\\xe9\\x9b\\x86\\xe5\\x92\\x8c\\xe6\\x90\\x9c\\xe9\\x9b\\x86\\xe4\\xbf\\xa1\\xe6\\x81\\xaf\\xe7\\x9a\\x84\\xe6\\x96\\x87\\xe6\\xa1\\xa3\\xe7\\xbb\\x84\\xe6\\x88\\x90\\xe7\\x9a\\x84\\xe3\\x80\\x82\\xe5\\x85\\xb6\\xe6\\x9c\\x80\\xe5\\x9f\\xba\\xe6\\x9c\\xac\\xe7\\x9a\\x84\\xe5\\x85\\x83\\xe7\\xb4\\xa0\\xe5\\xb0\\xb1\\xe6\\x98\\xaf\\xe8\\xaf\\xad\\xe4\\xb9\\x89\\xe9\\x93\\xbe\\xe6\\x8e\\xa5\\xe3\\x80\\x82 \\xe9\\x80\\x9a\\xe8\\xbf\\x87\\xe4\\xb8\\x8b\\xe5\\x88\\x97\\xe6\\x96\\xb9\\xe6\\xb3\\x95\\xe5\\x8f\\xaf\\xe4\\xbb\\xa5\\xe6\\x8f\\x90\\xe5\\x8d\\x87\\xe5\\x85\\xa8\\xe7\\x90\\x83\\xe8\\xb3\\x87\\xe8\\xa8\\x8a\\xe7\\xb6\\xb2\\xe4\\xbb\\xa5\\xe5\\x8f\\x8a\\xe5\\x85\\xb6\\xe4\\xba\\x92\\xe8\\xbf\\x9e\\xe7\\x9a\\x84\\xe8\\xb5\\x84\\xe6\\xba\\x90\\xe7\\x9a\\x84\\xe6\\x98\\x93\\xe7\\x94\\xa8\\xe6\\x80\\xa7\\xef\\xbc\\x88usability\\xef\\xbc\\x89\\xe5\\x92\\x8c\\xe5\\xaf\\xa6\\xe7\\x94\\xa8\\xe6\\x80\\xa7\\xef\\xbc\\x88usefulness\\xef\\xbc\\x89\\xef\\xbc\\x9a \\n* \"\\xe6\\xa0\\x87\\xe8\\xae\\xb0\"\\xe4\\xba\\x86\\xe8\\xaf\\xad\\xe4\\xb9\\x89\\xe4\\xbf\\xa1\\xe6\\x81\\xaf\\xe7\\x9a\\x84\\xe6\\x96\\x87\\xe6\\xa1\\xa3\\xe3\\x80\\x82\\xe8\\xbf\\x99\\xe5\\x8f\\xaf\\xe4\\xbb\\xa5\\xe6\\x98\\xaf\\xe6\\x9c\\xba\\xe5\\x99\\xa8\\xe5\\x8f\\xaf\\xe4\\xbb\\xa5\\xe7\\x90\\x86\\xe8\\xa7\\xa3\\xe7\\x9a\\x84\\xe5\\x85\\xb3\\xe4\\xba\\x8e\\xe6\\x96\\x87\\xe6\\xa1\\xa3\\xe5\\x86\\x85\\xe5\\xae\\xb9\\xef\\xbc\\x88\\xe4\\xbe\\x8b\\xe5\\xa6\\x82\\xe6\\x96\\x87\\xe6\\xa1\\xa3\\xe7\\x9a\\x84\\xe4\\xbd\\x9c\\xe8\\x80\\x85,\\xe6\\xa0\\x87\\xe9\\xa2\\x98,\\xe7\\xae\\x80\\xe4\\xbb\\x8b\\xe7\\xad\\x89)\\xe7\\x9a\\x84\\xe6\\x8f\\x8f\\xe8\\xbf\\xb0,\\xe6\\x88\\x96\\xe8\\x80\\x85\\xe6\\x98\\xaf\\xe6\\x8f\\x8f\\xe8\\xbf\\xb0\\xe8\\xaf\\xa5\\xe7\\xbd\\x91\\xe7\\xab\\x99\\xe6\\x89\\x80\\xe6\\x8b\\xa5\\xe6\\x9c\\x89\\xe7\\x9a\\x84\\xe6\\x9c\\x8d\\xe5\\x8a\\xa1\\xe5\\x92\\x8c\\xe8\\xb5\\x84\\xe6\\xba\\x90.(\\xe6\\xb3\\xa8\\xe6\\x84\\x8f:\\xe4\\xbb\\xbb\\xe4\\xbd\\x95\\xe4\\xb8\\x9c\\xe8\\xa5\\xbf\\xe9\\x83\\xbd\\xe6\\x98\\xaf\\xe8\\x83\\xbd\\xe8\\xa2\\xabURI-\\xe7\\xbb\\x9f\\xe4\\xb8\\x80\\xe8\\xb5\\x84\\xe6\\xba\\x90\\xe5\\xae\\x9a\\xe4\\xbd\\x8d\\xe7\\xac\\xa6-\\xe6\\x89\\x80\\xe6\\x8f\\x8f\\xe8\\xbf\\xb0\\xe7\\x9a\\x84,\\xe5\\x9b\\xa0\\xe6\\xad\\xa4\\xe8\\xaf\\xad\\xe4\\xb9\\x89\\xe7\\xbd\\x91\\xe8\\x83\\xbd\\xe7\\x90\\x86\\xe8\\xa7\\xa3\\xe4\\xba\\xba\\xe7\\x89\\xa9\\xe3\\x80\\x81\\xe5\\x9c\\xb0\\xe6\\x96\\xb9\\xe3\\x80\\x81\\xe6\\x83\\xb3\\xe6\\xb3\\x95\\xe3\\x80\\x81\\xe9\\xa1\\x9e\\xe5\\x88\\xa5\\xe7\\xad\\x89\\xe7\\xad\\x89) \\n* \\xe9\\x80\\x9a\\xe7\\x94\\xa8\\xe5\\x85\\x83\\xe6\\x95\\xb0\\xe6\\x8d\\xae\\xe8\\xa9\\x9e\\xe6\\xbb\\x99\\xe8\\xa1\\xa8(\\xe6\\x9c\\xac\\xe4\\xbd\\x93\\xe8\\xae\\xba)\\xe5\\x8f\\x8a\\xe8\\xa9\\x9e\\xe6\\xbb\\x99\\xe9\\x96\\x93\\xe7\\x9a\\x84\\xe5\\xbd\\xb1\\xe5\\xb0\\x84\\xe4\\xbd\\xbf\\xe5\\xbe\\x97\\xe6\\x96\\x87\\xe6\\xaa\\x94\\xe4\\xbd\\x9c\\xe8\\x80\\x85\\xe7\\x9f\\xa5\\xe9\\x81\\x93\\xe5\\xa6\\x82\\xe4\\xbd\\x95\\xe4\\xbe\\x86\\xe6\\xa8\\x99\\xe8\\xa8\\x98\\xe6\\x96\\x87\\xe6\\xaa\\x94\\xe6\\x96\\xb9\\xe5\\x8f\\xaf\\xe8\\xae\\x93\\xe6\\xa9\\x9f\\xe5\\x99\\xa8\\xe8\\xad\\x98\\xe5\\x88\\xa5\\xe4\\xbb\\x96\\xe6\\x83\\xb3\\xe6\\x8f\\x90\\xe4\\xbe\\x9b\\xe7\\x9a\\x84\\xe5\\x85\\x83\\xe6\\x95\\xb8\\xe6\\x93\\x9a. \\n* \\xe5\\x88\\xa9\\xe7\\x94\\xa8\\xe5\\x85\\x83\\xe6\\x95\\xb0\\xe6\\x8d\\xae\\xe4\\xb8\\xba\\xe8\\xaf\\xad\\xe4\\xb9\\x89\\xe7\\xbd\\x91\\xe7\\x94\\xa8\\xe6\\x88\\xb7\\xe6\\x89\\xa7\\xe8\\xa1\\x8c\\xe4\\xbb\\xbb\\xe5\\x8a\\xa1\\xe7\\x9a\\x84\\xe8\\x87\\xaa\\xe5\\x8a\\xa8\\xe8\\xbd\\xaf\\xe4\\xbb\\xb6\\xe4\\xbb\\xa3\\xe7\\x90\\x86(agent). \\n* \\xe7\\x82\\xba\\xe8\\x87\\xaa\\xe5\\x8b\\x95\\xe8\\xbb\\x9f\\xe4\\xbb\\xb6\\xe4\\xbb\\xa3\\xe7\\x90\\x86\\xe6\\x8f\\x90\\xe4\\xbe\\x9b\\xe7\\x89\\xb9\\xe5\\xae\\x9a\\xe4\\xbf\\xa1\\xe6\\x81\\xaf\\xe7\\x9a\\x84\\xe7\\xb6\\xb2\\xe7\\xb5\\xa1\\xe6\\x9c\\x8d\\xe5\\x8a\\xa1 (\\xe4\\xbe\\x8b\\xe5\\xa6\\x82,\\xe5\\x8f\\xaf\\xe4\\xbf\\xa1\\xe5\\xba\\xa6\\xe6\\x9c\\x8d\\xe5\\x8b\\x99\\xe5\\x8f\\xaf\\xe4\\xbb\\xa5\\xe8\\xae\\x93\\xe8\\xbb\\x9f\\xe4\\xbb\\xb6\\xe4\\xbb\\xa3\\xe7\\x90\\x86\\xe6\\x9f\\xa5\\xe8\\xa9\\xa2\\xe6\\x9f\\x90\\xe5\\x80\\x8b\\xe5\\x9c\\xa8\\xe7\\xba\\xbf\\xe5\\x95\\x86\\xe5\\xba\\x97\\xe6\\x98\\xaf\\xe5\\x90\\xa6\\xe6\\x9b\\xbe\\xe7\\xb6\\x93\\xe6\\x9c\\x89\\xe9\\x81\\x8e\\xe4\\xb8\\x8d\\xe8\\x89\\xaf\\xe7\\xb4\\x80\\xe9\\x8c\\x84\\xe6\\x88\\x96\\xe8\\x80\\x85\\xe7\\x99\\xbc\\xe9\\x80\\x81\\xe9\\x81\\x8e\\xe5\\x9e\\x83\\xe5\\x9c\\xbe\\xe9\\x83\\xb5\\xe4\\xbb\\xb6).\"\"\"@zh ;\\n    dbo:thumbnail <http://commons.wikimedia.org/wiki/Special:FilePath/RDF_example.svg?width=300> ;\\n    dbo:wikiPageExternalLink <http://esw.w3.org/topic/ConverterToRdf>,\\n        <http://www-sop.inria.fr/acacia/soft/corese/>,\\n        <http://www.amazon.com/gp/product/0470396792>,\\n        <http://www.semantic-web-book.org>,\\n        <http://www.springer.com/computer/database+management+%26+information+retrieval/book/978-3-662-43795-7>,\\n        <http://www.w3.org/2005/Incubator/urw3/XGR-urw3-20080331/>,\\n        <http://www.w3.org/standards/semanticweb/> ;\\n    dbo:wikiPageID 29123 ;\\n    dbo:wikiPageRevisionID 741952532 ;\\n    dbp:b \"no\"^^rdf:langString ;\\n    dbp:commons \"Category:Semantic Web\"^^rdf:langString ;\\n    dbp:d \"Q54837\"^^rdf:langString ;\\n    dbp:n \"no\"^^rdf:langString ;\\n    dbp:q \"no\"^^rdf:langString ;\\n    dbp:s \"no\"^^rdf:langString ;\\n    dbp:v \"no\"^^rdf:langString ;\\n    dbp:wikt \"no\"^^rdf:langString ;\\n    dct:subject <http://dbpedia.org/resource/Category:Buzzwords>,\\n        <http://dbpedia.org/resource/Category:Emerging_technologies>,\\n        <http://dbpedia.org/resource/Category:Internet_ages>,\\n        <http://dbpedia.org/resource/Category:Knowledge_engineering>,\\n        <http://dbpedia.org/resource/Category:Semantic_Web>,\\n        <http://dbpedia.org/resource/Category:Web_services> ;\\n    ns8:hypernym <http://dbpedia.org/resource/Extension> ;\\n    rdfs:comment \"\\xd8\\xa5\\xd9\\x86 \\xd9\\x88\\xd8\\xb1\\xd9\\x88\\xd8\\xaf \\xd8\\xa7\\xd9\\x84\\xd9\\x85\\xd8\\xb9\\xd9\\x84\\xd9\\x88\\xd9\\x85\\xd8\\xa7\\xd8\\xaa \\xd8\\xb9\\xd9\\x84\\xd9\\x89 \\xd8\\xa7\\xd9\\x84\\xd8\\xa5\\xd9\\x86\\xd8\\xaa\\xd8\\xb1\\xd9\\x86\\xd8\\xaa \\xd9\\x8a\\xd8\\xb2\\xd8\\xaf\\xd8\\xa7\\xd8\\xaf \\xd8\\xa8\\xd8\\xb4\\xd9\\x83\\xd9\\x84 \\xd9\\x83\\xd8\\xa8\\xd9\\x8a\\xd8\\xb1\\xd8\\x8c \\xd9\\x81\\xd9\\x82\\xd8\\xaf \\xd8\\xa3\\xd8\\xb5\\xd8\\xa8\\xd8\\xad \\xd8\\xa7\\xd9\\x84\\xd8\\xa5\\xd9\\x86\\xd8\\xaa\\xd8\\xb1\\xd9\\x86\\xd8\\xaa \\xd9\\x85\\xd9\\x83\\xd8\\xa7\\xd9\\x86\\xd9\\x8b\\xd8\\xa7 \\xd9\\x84\\xd9\\x84\\xd8\\xaa\\xd8\\xb9\\xd8\\xa8\\xd9\\x8a\\xd8\\xb1 \\xd8\\xb9\\xd9\\x86 \\xd8\\xa7\\xd9\\x84\\xd8\\xa3\\xd9\\x81\\xd9\\x83\\xd8\\xa7\\xd8\\xb1\\xd8\\x8c \\xd8\\xb3\\xd8\\xb1\\xd8\\xaf \\xd8\\xa7\\xd9\\x84\\xd9\\x82\\xd8\\xb5\\xd8\\xb5\\xd8\\x8c \\xd8\\xa5\\xd9\\x86\\xd8\\xb4\\xd8\\xa7\\xd8\\xa1 \\xd8\\xa7\\xd9\\x84\\xd9\\x85\\xd8\\xaf\\xd9\\x88\\xd9\\x86\\xd8\\xa7\\xd8\\xaa \\xd9\\x88\\xd9\\x85\\xd8\\xb4\\xd8\\xa7\\xd8\\xb1\\xd9\\x83\\xd8\\xa9 \\xd8\\xa7\\xd9\\x84\\xd9\\x81\\xd9\\x8a\\xd8\\xaf\\xd9\\x8a\\xd9\\x88\\xd9\\x87\\xd8\\xa7\\xd8\\xaa \\xd9\\x88\\xd8\\xa7\\xd9\\x84\\xd8\\xb5\\xd9\\x88\\xd8\\xb1 \\xd9\\x88\\xd8\\xa7\\xd9\\x84\\xd9\\x85\\xd9\\x84\\xd9\\x81\\xd8\\xa7\\xd8\\xaa \\xd8\\xa7\\xd9\\x84\\xd8\\xb5\\xd9\\x88\\xd8\\xaa\\xd9\\x8a\\xd8\\xa9 \\xd9\\x88\\xd9\\x85\\xd8\\xa7 \\xd8\\xa5\\xd9\\x84\\xd9\\x89 \\xd8\\xb0\\xd9\\x84\\xd9\\x83. \\xd9\\x88\\xd9\\x87\\xd9\\x88 \\xd9\\x85\\xd8\\xa7 \\xd8\\xac\\xd8\\xb9\\xd9\\x84 \\xd9\\x83\\xd9\\x85\\xd9\\x91 \\xd8\\xa7\\xd9\\x84\\xd9\\x85\\xd8\\xb9\\xd9\\x84\\xd9\\x88\\xd9\\x85\\xd8\\xa7\\xd8\\xaa \\xd8\\xa7\\xd9\\x84\\xd9\\x85\\xd8\\xaa\\xd9\\x88\\xd9\\x81\\xd8\\xb1\\xd8\\xa9 \\xd9\\x84\\xd9\\x84\\xd9\\x81\\xd8\\xb1\\xd8\\xaf \\xd8\\xa7\\xd9\\x84\\xd9\\x88\\xd8\\xa7\\xd8\\xad\\xd8\\xaf \\xd8\\xa3\\xd9\\x83\\xd8\\xa8\\xd8\\xb1 \\xd8\\xa8\\xd9\\x83\\xd8\\xab\\xd9\\x8a\\xd8\\xb1 \\xd9\\x85\\xd9\\x85\\xd8\\xa7\\xd9\\x8a\\xd9\\x8f\\xd9\\x85\\xd9\\x83\\xd9\\x86 \\xd9\\x84\\xd9\\x87 \\xd8\\xa3\\xd9\\x86 \\xd9\\x8a\\xd8\\xb3\\xd8\\xaa\\xd9\\x81\\xd9\\x8a\\xd8\\xaf \\xd9\\x85\\xd9\\x86\\xd9\\x87. \\xd8\\xaa\\xd8\\xb9\\xd8\\xb1\\xd9\\x8a\\xd8\\xb6 \\xd8\\xa7\\xd9\\x84\\xd8\\xb9\\xd9\\x82\\xd9\\x84 \\xd8\\xa7\\xd9\\x84\\xd8\\xa8\\xd8\\xb4\\xd8\\xb1\\xd9\\x8a \\xd9\\x84\\xd9\\x87\\xd8\\xb0\\xd8\\xa7 \\xd8\\xa7\\xd9\\x84\\xd9\\x83\\xd9\\x85 \\xd8\\xa7\\xd9\\x84\\xd9\\x87\\xd8\\xa7\\xd8\\xa6\\xd9\\x84 \\xd9\\x85\\xd9\\x86 \\xd8\\xa7\\xd9\\x84\\xd9\\x85\\xd8\\xb9\\xd9\\x84\\xd9\\x88\\xd9\\x85\\xd8\\xa7\\xd8\\xaa \\xd9\\x85\\xd9\\x86 \\xd8\\xb4\\xd8\\xa3\\xd9\\x86\\xd9\\x87 \\xd8\\xa3\\xd9\\x86 \\xd9\\x8a\\xd8\\xaa\\xd8\\xb3\\xd8\\xa8\\xd8\\xa8 \\xd9\\x81\\xd9\\x8a\\xd9\\x85\\xd8\\xa7 \\xd9\\x8a\\xd9\\x8f\\xd9\\x85\\xd9\\x83\\xd9\\x86 \\xd8\\xa3\\xd9\\x86 \\xd9\\x86\\xd8\\xb5\\xd9\\x81\\xd9\\x87 \\xd8\\xa8\\xd9\\x88\\xd8\\xb5\\xd9\\x81 \\\\\"\\xd8\\xa7\\xd9\\x84\\xd8\\xb6\\xd9\\x8a\\xd8\\xa7\\xd8\\xb9 \\xd9\\x81\\xd9\\x8a \\xd9\\x81\\xd8\\xb6\\xd8\\xa7\\xd8\\xa1 \\xd8\\xa7\\xd9\\x84\\xd9\\x85\\xd8\\xb9\\xd9\\x84\\xd9\\x88\\xd9\\x85\\xd8\\xa7\\xd8\\xaa\\\\\"\\xd8\\x8c \\xd9\\x88\\xd8\\xb0\\xd9\\x84\\xd9\\x83 \\xd8\\xb1\\xd8\\xa7\\xd8\\xac\\xd8\\xb9 \\xd8\\xa5\\xd9\\x84\\xd9\\x89 \\xd8\\xa8\\xd9\\x82\\xd8\\xa7\\xd8\\xa1 \\xd8\\xa7\\xd9\\x84\\xd9\\x85\\xd8\\xb9\\xd9\\x84\\xd9\\x88\\xd9\\x85\\xd8\\xa7\\xd8\\xaa \\xd8\\xa7\\xd9\\x84\\xd9\\x85\\xd9\\x81\\xd9\\x8a\\xd8\\xaf\\xd8\\xa9 \\xd8\\xa8\\xd8\\xb9\\xd9\\x8a\\xd8\\xaf\\xd8\\xa9 \\xd8\\xa7\\xd9\\x84\\xd9\\x85\\xd9\\x86\\xd8\\xa7\\xd9\\x84 \\xd8\\xa8\\xd8\\xb3\\xd8\\xa8\\xd8\\xa8 \\xd8\\xaa\\xd8\\xb1\\xd8\\xa7\\xd9\\x83\\xd9\\x85 \\xd8\\xa7\\xd9\\x84\\xd9\\x83\\xd8\\xab\\xd9\\x8a\\xd8\\xb1 \\xd9\\x85\\xd9\\x86 \\xd8\\xa7\\xd9\\x84\\xd9\\x85\\xd8\\xb9\\xd9\\x84\\xd9\\x88\\xd9\\x85\\xd8\\xa7\\xd8\\xaa \\xd8\\xba\\xd9\\x8a\\xd8\\xb1 \\xd8\\xa7\\xd9\\x84\\xd9\\x85\\xd9\\x81\\xd9\\x8a\\xd8\\xaf\\xd8\\xa9 \\xd9\\x88\\xd8\\xba\\xd9\\x8a\\xd8\\xb1 \\xd8\\xa7\\xd9\\x84\\xd9\\x85\\xd8\\xb1\\xd8\\xaa\\xd8\\xa8\\xd8\\xb7\\xd8\\xa9 \\xd8\\xa8\\xd8\\xa7\\xd9\\x84\\xd9\\x85\\xd9\\x88\\xd8\\xb6\\xd9\\x88\\xd8\\xb9 \\xd8\\xa7\\xd9\\x84\\xd9\\x85\\xd8\\xb1\\xd8\\xa7\\xd8\\xaf \\xd8\\xa7\\xd9\\x84\\xd8\\xa8\\xd8\\xad\\xd8\\xab \\xd8\\xb9\\xd9\\x86\\xd9\\x87 \\xd9\\x85\\xd9\\x86 \\xd9\\x82\\xd8\\xa8\\xd9\\x84 \\xd8\\xa7\\xd9\\x84\\xd9\\x85\\xd8\\xb3\\xd8\\xaa\\xd8\\xae\\xd8\\xaf\\xd9\\x85.\\xd9\\x84\\xd8\\xad\\xd8\\xb3\\xd9\\x86 \\xd8\\xa7\\xd9\\x84\\xd8\\xad\\xd8\\xb8\\xd8\\x8c \\xd9\\x85\\xd8\\xab\\xd9\\x84\\xd9\\x85\\xd8\\xa7 \\xd9\\x8a\\xd8\\xb2\\xd8\\xaf\\xd8\\xa7\\xd8\\xaf \\xd9\\x88\\xd8\\xb1\\xd9\\x88\\xd8\\xaf \\xd8\\xa7\\xd9\\x84\\xd9\\x85\\xd8\\xb9\\xd9\\x84\\xd9\\x88\\xd9\\x85\\xd8\\xa7\\xd8\\xaa\\xd8\\x8c \\xd8\\xaa\\xd8\\xb2\\xd8\\xaf\\xd8\\xa7\\xd8\\xaf \\xd9\\x85\\xd9\\x82\\xd8\\xaf\\xd8\\xb1\\xd8\\xa7\\xd8\\xaa \\xd9\\x85\\xd8\\xb9\\xd8\\xa7\\xd9\\x84\\xd8\\xac\\xd8\\xa9 \\xd8\\xa7\\xd9\\x84\\xd9\\x85\\xd8\\xb9\\xd9\\x84\\xd9\\x88\\xd9\\x85\\xd8\\xa7\\xd8\\xaa \\xd8\\xa7\\xd9\\x88\\xd8\\xaa\\xd9\\x88\\xd9\\x85\\xd8\\xa7\\xd8\\xaa\\xd9\\x8a\\xd9\\x83\\xd9\\x8a\\xd8\\xa7\\xd9\\x8b\\xd8\\x8c \\xd9\\x84\\xd8\\xb0\\xd8\\xa7 \\xd9\\x8a\\xd9\\x88\\xd8\\xac\\xd8\\xaf \\xd8\\xa5\\xd9\\x85\\xd9\\x83\\xd8\\xa7\\xd9\\x86\\xd9\\x8a\\xd8\\xa7\\xd8\\xaa \\xd9\\x83\\xd8\\xa8\\xd9\\x8a\\xd8\\xb1\\xd8\\xa9 \\xd9\\x84\\xd9\\x84\\xd8\\xa7\\xd8\\xb3\\xd8\\xaa\\xd9\\x81\\xd8\\xa7\\xd8\\xaf\\xd8\\xa9 \\xd9\\x85\\xd9\\x86 \\xd9\\x85\\xd9\\x82\\xd8\\xaf\\xd8\\xb1\\xd8\\xa7\\xd8\\xaa \\xd8\\xa7\\xd9\\x84\\xd8\\xa3\\xd8\\xaa\\xd9\\x85\\xd8\\xaa\\xd8\\xa9 \\xd9\\x87\\xd8\\xb0\\xd9\\x87 \\xd8\\xa8\\xd9\\x87\\xd8\\xaf\\xd9\\x81 \\xd8\\xa7\\xd8\\xb3\\xd8\\xaa\\xd8\\xae\\xd8\\xb1\\xd8\\xa7\\xd8\\xac \\xd8\\xa7\\xd9\\x84\\xd9\\x85\\xd8\\xb9\\xd9\\x84\\xd9\\x88\\xd9\\x85\\xd8\\xa7\\xd8\\xaa \\xd9\\x88\\xd8\\xa7\\xd9\\x84\\xd8\\xae\\xd8\\xaf\\xd9\\x85\\xd8\\xa7\\xd8\\xaa \\xd9\\x85\\xd9\\x86 \\xd9\\x81\\xd9\\x8a\\xd8\\xb6\\xd8\\xa7\\xd9\\x86 \\xd8\\xa7\\xd9\\x84\\xd9\\x88\\xd9\\x8a\\xd8\\xa8 \\xd9\\x88\\xd8\\xa7\\xd9\\x84\\xd9\\x85\\xd8\\xb1\\xd8\\xaa\\xd8\\xa8\\xd8\\xb7\\xd8\\xa9 \\xd8\\xa8\\xd8\\xa7\\xd9\\x84\\xd9\\x85\\xd8\\xb3\\xd8\\xaa\\xd8\\xae\\xd8\\xaf\\xd9\\x85\\xd8\\x8c \\xd9\\x88\\xd8\\xaa\\xd9\\x88\\xd8\\xb5\\xd9\\x8a\\xd9\\x84\\xd9\\x87\\xd8\\xa7 \\xd8\\xa5\\xd9\\x84\\xd9\\x8a\\xd9\\x87 \\xd8\\xb9\\xd9\\x86 \\xd8\\xb7\\xd8\\xb1\\xd9\\x8a\\xd9\\x82 \\xd9\\x88\\xd8\\xa7\\xd8\\xac\\xd9\\x87\\xd8\\xa9 \\xd9\\x85\\xd8\\xb3\\xd8\\xaa\\xd8\\xae\\xd8\\xaf\\xd9\\x85 \\xd9\\x85\\xd8\\xb9\\xd9\\x8a\\xd8\\xa7\\xd8\\xb1\\xd9\\x8a\\xd8\\xa9 (Standardized User Inte\"@ar,\\n        \"Das Semantic Web erweitert das Web, um Daten zwischen Rechnern einfacher austauschbar und f\\xc3\\xbcr sie einfacher verwertbar zu machen; so kann beispielsweise der Begriff \\xe2\\x80\\x9eBremen\\xe2\\x80\\x9c in einem Webdokument um die Information erg\\xc3\\xa4nzt werden, ob hier ein Schiffs-, Familien- oder der Stadtname gemeint ist. Diese zus\\xc3\\xa4tzlichen Informationen explizieren die sonst nur unstrukturiert vorkommenden Daten. Zur Realisierung dienen Standards zur Ver\\xc3\\xb6ffentlichung und Nutzung maschinenlesbarer Daten (insbesondere RDF).\"@de,\\n        \"The Semantic Web is an extension of the Web through standards by the World Wide Web Consortium (W3C). The standards promote common data formats and exchange protocols on the Web, most fundamentally the Resource Description Framework (RDF). The 2001 Scientific American article by Berners-Lee, Hendler, and Lassila described an expected evolution of the existing Web to a Semantic Web. In 2006, Berners-Lee and colleagues stated that: \\\\\"This simple idea\\xe2\\x80\\xa6remains largely unrealized\\\\\".In 2013, more than four million Web domains contained Semantic Web markup.\"@en,\\n        \"La web sem\\xc3\\xa1ntica (del ingl\\xc3\\xa9s semantic web) es un conjunto de actividades desarrolladas en el seno de World Wide Web Consortium con tendencia a la creaci\\xc3\\xb3n de tecnolog\\xc3\\xadas para publicar datos legibles por aplicaciones inform\\xc3\\xa1ticas (m\\xc3\\xa1quinas en la terminolog\\xc3\\xada de la Web sem\\xc3\\xa1ntica). Se basa en la idea de a\\xc3\\xb1adir metadatos sem\\xc3\\xa1nticos y ontol\\xc3\\xb3gicos a la World Wide Web. Esas informaciones adicionales \\xe2\\x80\\x94que describen el contenido, el significado y la relaci\\xc3\\xb3n de los datos\\xe2\\x80\\x94 se deben proporcionar de manera formal, para que as\\xc3\\xad sea posible evaluarlas autom\\xc3\\xa1ticamente por m\\xc3\\xa1quinas de procesamiento. El objetivo es mejorar Internet ampliando la interoperabilidad entre los sistemas inform\\xc3\\xa1ticos usando \\\\\"agentes inteligentes\\\\\". Agentes inteligentes son programas en las computadoras que buscan informaci\\xc3\\xb3n sin o\"@es,\\n        \"Le Web s\\xc3\\xa9mantique, ou toile s\\xc3\\xa9mantique, est une extension du Web standardis\\xc3\\xa9e par le World Wide Web Consortium (W3C). Ces standards encouragent l\\'utilisation de formats de donn\\xc3\\xa9es et de protocoles d\\'\\xc3\\xa9change norm\\xc3\\xa9s sur le Web, avec comme format de base le Resource Description Framework (RDF).\"@fr,\\n        \"Con il termine web semantico, termine coniato dal suo ideatore, Tim Berners-Lee, si intende la trasformazione del World Wide Web in un ambiente dove i documenti pubblicati (pagine HTML, file, immagini, e cos\\xc3\\xac via) sono associati ad informazioni e dati (metadati) che ne specificano il contesto semantico in un formato adatto all\\'interrogazione e l\\'interpretazione (es. tramite motori di ricerca) e, pi\\xc3\\xb9 in generale, all\\'elaborazione automatica.\"@it,\\n        \"\\xe3\\x82\\xbb\\xe3\\x83\\x9e\\xe3\\x83\\xb3\\xe3\\x83\\x86\\xe3\\x82\\xa3\\xe3\\x83\\x83\\xe3\\x82\\xaf\\xe3\\x83\\xbb\\xe3\\x82\\xa6\\xe3\\x82\\xa7\\xe3\\x83\\x96\\xef\\xbc\\x88\\xe8\\x8b\\xb1: semantic web\\xef\\xbc\\x89\\xe3\\x81\\xaf W3C \\xe3\\x81\\xae\\xe3\\x83\\x86\\xe3\\x82\\xa3\\xe3\\x83\\xa0\\xe3\\x83\\xbb\\xe3\\x83\\x90\\xe3\\x83\\xbc\\xe3\\x83\\x8a\\xe3\\x83\\xbc\\xe3\\x82\\xba\\xef\\xbc\\x9d\\xe3\\x83\\xaa\\xe3\\x83\\xbc\\xe3\\x81\\xab\\xe3\\x82\\x88\\xe3\\x81\\xa3\\xe3\\x81\\xa6\\xe6\\x8f\\x90\\xe5\\x94\\xb1\\xe3\\x81\\x95\\xe3\\x82\\x8c\\xe3\\x81\\x9f\\xe3\\x80\\x81\\xe3\\x82\\xa6\\xe3\\x82\\xa7\\xe3\\x83\\x96\\xe3\\x83\\x9a\\xe3\\x83\\xbc\\xe3\\x82\\xb8\\xe3\\x81\\xae\\xe6\\x84\\x8f\\xe5\\x91\\xb3\\xe3\\x82\\x92\\xe6\\x89\\xb1\\xe3\\x81\\x86\\xe3\\x81\\x93\\xe3\\x81\\xa8\\xe3\\x82\\x92\\xe5\\x8f\\xaf\\xe8\\x83\\xbd\\xe3\\x81\\xa8\\xe3\\x81\\x99\\xe3\\x82\\x8b\\xe6\\xa8\\x99\\xe6\\xba\\x96\\xe3\\x82\\x84\\xe3\\x83\\x84\\xe3\\x83\\xbc\\xe3\\x83\\xab\\xe7\\xbe\\xa4\\xe3\\x81\\xae\\xe9\\x96\\x8b\\xe7\\x99\\xba\\xe3\\x81\\xab\\xe3\\x82\\x88\\xe3\\x81\\xa3\\xe3\\x81\\xa6\\xe3\\x83\\xaf\\xe3\\x83\\xbc\\xe3\\x83\\xab\\xe3\\x83\\x89\\xe3\\x83\\xbb\\xe3\\x83\\xaf\\xe3\\x82\\xa4\\xe3\\x83\\x89\\xe3\\x83\\xbb\\xe3\\x82\\xa6\\xe3\\x82\\xa7\\xe3\\x83\\x96\\xe3\\x81\\xae\\xe5\\x88\\xa9\\xe4\\xbe\\xbf\\xe6\\x80\\xa7\\xe3\\x82\\x92\\xe5\\x90\\x91\\xe4\\xb8\\x8a\\xe3\\x81\\x95\\xe3\\x81\\x9b\\xe3\\x82\\x8b\\xe3\\x83\\x97\\xe3\\x83\\xad\\xe3\\x82\\xb8\\xe3\\x82\\xa7\\xe3\\x82\\xaf\\xe3\\x83\\x88\\xe3\\x80\\x82\\xe3\\x82\\xbb\\xe3\\x83\\x9e\\xe3\\x83\\xb3\\xe3\\x83\\x86\\xe3\\x82\\xa3\\xe3\\x83\\x83\\xe3\\x82\\xaf\\xe3\\x83\\xbb\\xe3\\x82\\xa6\\xe3\\x82\\xa7\\xe3\\x83\\x96\\xe3\\x81\\xae\\xe7\\x9b\\xae\\xe7\\x9a\\x84\\xe3\\x81\\xaf\\xe3\\x82\\xa6\\xe3\\x82\\xa7\\xe3\\x83\\x96\\xe3\\x83\\x9a\\xe3\\x83\\xbc\\xe3\\x82\\xb8\\xe3\\x81\\xae\\xe9\\x96\\xb2\\xe8\\xa6\\xa7\\xe3\\x81\\xa8\\xe3\\x81\\x84\\xe3\\x81\\x86\\xe8\\xa1\\x8c\\xe7\\x82\\xba\\xe3\\x81\\xab\\xe3\\x80\\x81\\xe3\\x83\\x87\\xe3\\x83\\xbc\\xe3\\x82\\xbf\\xe3\\x81\\xae\\xe4\\xba\\xa4\\xe6\\x8f\\x9b\\xe3\\x81\\xae\\xe5\\x81\\xb4\\xe9\\x9d\\xa2\\xe3\\x81\\xab\\xe5\\x8a\\xa0\\xe3\\x81\\x88\\xe3\\x81\\xa6\\xe6\\x84\\x8f\\xe5\\x91\\xb3\\xe3\\x81\\xae\\xe7\\x96\\x8e\\xe9\\x80\\x9a\\xe3\\x82\\x92\\xe4\\xbb\\x98\\xe3\\x81\\x91\\xe5\\x8a\\xa0\\xe3\\x81\\x88\\xe3\\x82\\x8b\\xe3\\x81\\x93\\xe3\\x81\\xa8\\xe3\\x81\\xab\\xe3\\x81\\x82\\xe3\\x82\\x8b\\xe3\\x80\\x82 \\xe7\\x8f\\xbe\\xe5\\x9c\\xa8\\xe3\\x81\\xae\\xe3\\x83\\xaf\\xe3\\x83\\xbc\\xe3\\x83\\xab\\xe3\\x83\\x89\\xe3\\x83\\xbb\\xe3\\x83\\xaf\\xe3\\x82\\xa4\\xe3\\x83\\x89\\xe3\\x83\\xbb\\xe3\\x82\\xa6\\xe3\\x82\\xa7\\xe3\\x83\\x96\\xe4\\xb8\\x8a\\xe3\\x81\\xae\\xe3\\x82\\xb3\\xe3\\x83\\xb3\\xe3\\x83\\x86\\xe3\\x83\\xb3\\xe3\\x83\\x84\\xe3\\x81\\xaf\\xe4\\xb8\\xbb\\xe3\\x81\\xabHTML\\xe3\\x81\\xa7\\xe8\\xa8\\x98\\xe8\\xbf\\xb0\\xe3\\x81\\x95\\xe3\\x82\\x8c\\xe3\\x81\\xa6\\xe3\\x81\\x84\\xe3\\x82\\x8b\\xe3\\x80\\x82HTML\\xe3\\x81\\xa7\\xe3\\x81\\xaf\\xe6\\x96\\x87\\xe6\\x9b\\xb8\\xe6\\xa7\\x8b\\xe9\\x80\\xa0\\xe3\\x82\\x92\\xe4\\xbc\\x9d\\xe3\\x81\\x88\\xe3\\x82\\x8b\\xe3\\x81\\x93\\xe3\\x81\\xa8\\xe3\\x81\\xaf\\xe5\\x8f\\xaf\\xe8\\x83\\xbd\\xe3\\x81\\xa0\\xe3\\x81\\x8c\\xe3\\x80\\x81\\xe5\\x80\\x8b\\xe3\\x80\\x85\\xe3\\x81\\xae\\xe5\\x8d\\x98\\xe8\\xaa\\x9e\\xe3\\x81\\xae\\xe6\\x84\\x8f\\xe5\\x91\\xb3\\xe3\\x82\\x92\\xe3\\x81\\xaf\\xe3\\x81\\x98\\xe3\\x82\\x81\\xe3\\x81\\xa8\\xe3\\x81\\x99\\xe3\\x82\\x8b\\xe8\\xa9\\xb3\\xe7\\xb4\\xb0\\xe3\\x81\\xaa\\xe6\\x84\\x8f\\xe5\\x91\\xb3\\xe3\\x82\\x92\\xe4\\xbc\\x9d\\xe3\\x81\\x88\\xe3\\x82\\x8b\\xe3\\x81\\x93\\xe3\\x81\\xa8\\xe3\\x81\\xaf\\xe3\\x81\\xa7\\xe3\\x81\\x8d\\xe3\\x81\\xaa\\xe3\\x81\\x84\\xe3\\x80\\x82\\xe3\\x81\\x93\\xe3\\x82\\x8c\\xe3\\x81\\xab\\xe5\\xaf\\xbe\\xe3\\x81\\x97\\xe3\\x80\\x81\\xe3\\x82\\xbb\\xe3\\x83\\x9e\\xe3\\x83\\xb3\\xe3\\x83\\x86\\xe3\\x82\\xa3\\xe3\\x83\\x83\\xe3\\x82\\xaf\\xe3\\x83\\xbb\\xe3\\x82\\xa6\\xe3\\x82\\xa7\\xe3\\x83\\x96\\xe3\\x81\\xafXML\\xe3\\x81\\xab\\xe3\\x82\\x88\\xe3\\x81\\xa3\\xe3\\x81\\xa6\\xe8\\xa8\\x98\\xe8\\xbf\\xb0\\xe3\\x81\\x97\\xe3\\x81\\x9f\\xe6\\x96\\x87\\xe6\\x9b\\xb8\\xe3\\x81\\xabRDF\\xe3\\x82\\x84OWL\\xe3\\x82\\x92\\xe7\\x94\\xa8\\xe3\\x81\\x84\\xe3\\x81\\xa6\\xe3\\x82\\xbf\\xe3\\x82\\xb0\\xe3\\x82\\x92\\xe4\\xbb\\x98\\xe3\\x81\\x91\\xe5\\x8a\\xa0\\xe3\\x81\\x88\\xe3\\x82\\x8b\\xe3\\x80\\x82\\xe3\\x81\\x93\\xe3\\x81\\xae\\xe3\\x80\\x81\\xe3\\x83\\x87\\xe3\\x83\\xbc\\xe3\\x82\\xbf\\xe3\\x81\\xae\\xe6\\x84\\x8f\\xe5\\x91\\xb3\\xe3\\x82\\x92\\xe8\\xa8\\x98\\xe8\\xbf\\xb0\\xe3\\x81\\x97\\xe3\\x81\\x9f\\xe3\\x82\\xbf\\xe3\\x82\\xb0\\xe3\\x81\\x8c\\xe6\\x96\\x87\\xe6\\x9b\\xb8\\xe3\\x81\\xae\\xe5\\x90\\xab\\xe3\\x82\\x80\\xe6\\x84\\x8f\\xe5\\x91\\xb3\\xe3\\x82\\x92\\xe5\\xbd\\xa2\\xe5\\xbc\\x8f\\xe5\\x8c\\x96\\xe3\\x81\\x97\\xe3\\x80\\x81\\xe3\\x82\\xb3\\xe3\\x83\\xb3\\xe3\\x83\\x94\\xe3\\x83\\xa5\\xe3\\x83\\xbc\\xe3\\x82\\xbf\\xe3\\x81\\xab\\xe3\\x82\\x88\\xe3\\x82\\x8b\\xe8\\x87\\xaa\\xe5\\x8b\\x95\\xe7\\x9a\\x84\\xe3\\x81\\xaa\\xe6\\x83\\x85\\xe5\\xa0\\xb1\\xe3\\x81\\xae\\xe5\\x8f\\x8e\\xe9\\x9b\\x86\\xe3\\x82\\x84\\xe5\\x88\\x86\\xe6\\x9e\\x90\\xe3\\x81\\xb8\\xe3\\x81\\xae\\xe3\\x82\\xa2\\xe3\\x83\\x97\\xe3\\x83\\xad\\xe3\\x83\\xbc\\xe3\\x83\\x81\\xe3\\x81\\x8c\\xe5\\x8f\\xaf\\xe8\\x83\\xbd\\xe3\\x81\\xa8\\xe3\\x81\\xaa\\xe3\\x82\\x8b\\xe3\\x81\\xa8\\xe6\\x9c\\x9f\\xe5\\xbe\\x85\\xe3\\x81\\x95\\xe3\\x82\\x8c\\xe3\\x81\\xa6\\xe3\\x81\\x84\\xe3\\x82\\x8b\\xe3\\x80\\x82\\xe3\\x82\\xaa\\xe3\\x83\\xb3\\xe3\\x83\\x88\\xe3\\x83\\xad\\xe3\\x82\\xb8\\xe3\\x83\\xbc\\xe3\\x82\\x92\\xe6\\x89\\xb1\\xe3\\x81\\x86\\xe9\\x9a\\x8e\\xe5\\xb1\\xa4\\xe3\\x81\\xbe\\xe3\\x81\\xa7\\xe3\\x81\\xafW3C\\xe3\\x81\\xab\\xe3\\x82\\x88\\xe3\\x82\\x8a\\xe6\\xa8\\x99\\xe6\\xba\\x96\\xe5\\x8c\\x96\\xe3\\x81\\x95\\xe3\\x82\\x8c\\xe3\\x81\\xa6\\xe3\\x81\\x84\\xe3\\x82\\x8b\\xe3\\x81\\x8c\\xe3\\x80\\x81\\xe3\\x81\\x9d\\xe3\\x82\\x8c\\xe4\\xbb\\xa5\\xe4\\xb8\\x8a\\xe3\\x81\\xae\\xe9\\x9a\\x8e\\xe5\\xb1\\xa4\\xe3\\x81\\xae\\xe9\\x96\\x8b\\xe7\\x99\\xba\\xe3\\x81\\xaf\\xe9\\x9b\\xa3\\xe3\\x81\\x97\\xe3\\x81\\x84\\xe3\\x81\\x9f\\xe3\\x82\\x81\\xe3\\x80\\x81\\xe5\\xae\\x9f\\xe7\\x8f\\xbe\\xe3\\x81\\xa8\\xe6\\xa8\\x99\\xe6\\xba\\x96\\xe5\\x8c\\x96\\xe3\\x81\\xab\\xe3\\x81\\xaf\\xe9\\x95\\xb7\\xe6\\x9c\\x9f\\xe9\\x96\\x93\\xe6\\x8e\\x9b\\xe3\\x81\\x8b\\xe3\\x82\\x8b\\xe3\\x81\\xa8\\xe4\\xba\\x88\\xe6\\x83\\xb3\\xe3\\x81\\x95\\xe3\\x82\\x8c\\xe3\\x81\\xa6\\xe3\\x81\\x84\\xe3\\x82\\x8b\\xe3\\x80\\x82\\xe3\\x81\\xbe\\xe3\\x81\\x9f\\xe3\\x80\\x81\\xe6\\x97\\xa2\\xe5\\xad\\x98\\xe3\\x81\\xaeWeb\\xe3\\x82\\xb5\\xe3\\x82\\xa4\\xe3\\x83\\x88\\xe3\\x81\\xab\\xe5\\xaf\\xbe\\xe3\\x81\\x99\\xe3\\x82\\x8b\\xe3\\x83\\xa1\\xe3\\x82\\xbf\\xe3\\x83\\x87\\xe3\\x83\\xbc\\xe3\\x82\\xbf\\xe4\\xbb\\x98\\xe4\\xb8\\x8e\\xe3\\x81\\xae\\xe4\\xbd\\x9c\\xe6\\xa5\\xad\\xe3\\x81\\x8c\\xe5\\xbf\\x85\\xe8\\xa6\\x81\\xe3\\x81\\xa7\\xe3\\x81\\x82\\xe3\\x82\\x8b\\xe3\\x81\\x9f\\xe3\\x82\\x81\\xe3\\x80\\x81Web\\xe5\\x85\\xa8\\xe5\\x9f\\x9f\\xe3\\x81\\xb8\\xe3\\x81\\xae\\xe6\\x99\\xae\\xe5\\x8f\\x8a\\xe3\\x81\\xab\\xe9\\x96\\xa2\\xe3\\x81\\x97\\xe3\\x81\\xa6\\xe3\\x82\\x82\\xe9\\x95\\xb7\\xe6\\x9c\\x9f\\xe9\\x96\\x93\\xe6\\x8e\\x9b\\xe3\\x81\\x8b\\xe3\\x82\\x8b\\xe3\\x81\\xa8\\xe4\\xba\\x88\\xe6\\x83\\xb3\\xe3\\x81\\x95\\xe3\\x82\\x8c\\xe3\\x81\\xa6\\xe3\\x81\\x84\\xe3\\x82\\x8b\\xe3\\x80\\x82\"@ja,\\n        \"Het semantisch web verschaft een standaardframework waarmee data gedeeld en hergebruikt kunnen worden. Het is een samenwerking onder leiding van het internationale orgaan voor internetstandaarden, het World Wide Web Consortium (W3C). Het semantisch web is geen synoniem voor Web 2.0, zoals soms wel wordt verondersteld. Tim Berners-Lee beschreef het semantische web als een component van \\'Web 3.0\\'. Soms wordt het gebruikt als synoniem voor Web 3.0, hoewel de definities verschillen.\"@nl,\\n        \"Semantic Web (sieci semantyczne) \\xe2\\x80\\x93 projekt, kt\\xc3\\xb3ry ma przyczyni\\xc4\\x87 si\\xc4\\x99 do utworzenia i rozpowszechnienia standard\\xc3\\xb3w opisywania tre\\xc5\\x9bci w Internecie w spos\\xc3\\xb3b, kt\\xc3\\xb3ry umo\\xc5\\xbcliwi maszynom i programom (np. tzw. agentom) przetwarzanie informacji w spos\\xc3\\xb3b odpowiedni do ich znaczenia. W\\xc5\\x9br\\xc3\\xb3d standard\\xc3\\xb3w sieci semantycznych znajduj\\xc4\\x85 si\\xc4\\x99 m.in. OWL, RDF, RDF Schema (inaczej RDFS). Znaczenia zasob\\xc3\\xb3w informacyjnych okre\\xc5\\x9bla si\\xc4\\x99 za pomoc\\xc4\\x85 tzw. ontologii.\"@pl,\\n        \"A Web sem\\xc3\\xa2ntica \\xc3\\xa9 uma extens\\xc3\\xa3o da World Wide Web atual, que permitir\\xc3\\xa1 aos computadores e humanos trabalharem em coopera\\xc3\\xa7\\xc3\\xa3o. A Web sem\\xc3\\xa2ntica interliga significados de palavras e, neste \\xc3\\xa2mbito, tem como finalidade conseguir atribuir um significado (sentido) aos conte\\xc3\\xbados publicados na Internet de modo que seja percept\\xc3\\xadvel tanto pelo humano como pelo computador. A ideia da Web Sem\\xc3\\xa2ntica surgiu em 2001, quando Tim Berners-Lee, James Hendler e Ora Lassila publicaram um artigo na revista Scientific American, intitulado: \\xe2\\x80\\x9cWeb Sem\\xc3\\xa2ntica: um novo formato de conte\\xc3\\xbado para a Web que tem significado para computadores vai iniciar uma revolu\\xc3\\xa7\\xc3\\xa3o de novas possibilidades.\\xe2\\x80\\x9d\"@pt,\\n        \"\\xd0\\xa1\\xd0\\xb5\\xd0\\xbc\\xd0\\xb0\\xd0\\xbd\\xd1\\x82\\xd0\\xb8\\xcc\\x81\\xd1\\x87\\xd0\\xb5\\xd1\\x81\\xd0\\xba\\xd0\\xb0\\xd1\\x8f \\xd0\\xbf\\xd0\\xb0\\xd1\\x83\\xd1\\x82\\xd0\\xb8\\xcc\\x81\\xd0\\xbd\\xd0\\xb0 (\\xd0\\xb0\\xd0\\xbd\\xd0\\xb3\\xd0\\xbb. semantic web) \\xe2\\x80\\x94 \\xd1\\x8d\\xd1\\x82\\xd0\\xbe \\xd0\\xbe\\xd0\\xb1\\xd1\\x89\\xd0\\xb5\\xd0\\xb4\\xd0\\xbe\\xd1\\x81\\xd1\\x82\\xd1\\x83\\xd0\\xbf\\xd0\\xbd\\xd0\\xb0\\xd1\\x8f \\xd0\\xb3\\xd0\\xbb\\xd0\\xbe\\xd0\\xb1\\xd0\\xb0\\xd0\\xbb\\xd1\\x8c\\xd0\\xbd\\xd0\\xb0\\xd1\\x8f \\xd1\\x81\\xd0\\xb5\\xd0\\xbc\\xd0\\xb0\\xd0\\xbd\\xd1\\x82\\xd0\\xb8\\xd1\\x87\\xd0\\xb5\\xd1\\x81\\xd0\\xba\\xd0\\xb0\\xd1\\x8f \\xd1\\x81\\xd0\\xb5\\xd1\\x82\\xd1\\x8c, \\xd1\\x84\\xd0\\xbe\\xd1\\x80\\xd0\\xbc\\xd0\\xb8\\xd1\\x80\\xd1\\x83\\xd0\\xb5\\xd0\\xbc\\xd0\\xb0\\xd1\\x8f \\xd0\\xbd\\xd0\\xb0 \\xd0\\xb1\\xd0\\xb0\\xd0\\xb7\\xd0\\xb5 \\xd0\\x92\\xd1\\x81\\xd0\\xb5\\xd0\\xbc\\xd0\\xb8\\xd1\\x80\\xd0\\xbd\\xd0\\xbe\\xd0\\xb9 \\xd0\\xbf\\xd0\\xb0\\xd1\\x83\\xd1\\x82\\xd0\\xb8\\xd0\\xbd\\xd1\\x8b \\xd0\\xbf\\xd1\\x83\\xd1\\x82\\xd1\\x91\\xd0\\xbc \\xd1\\x81\\xd1\\x82\\xd0\\xb0\\xd0\\xbd\\xd0\\xb4\\xd0\\xb0\\xd1\\x80\\xd1\\x82\\xd0\\xb8\\xd0\\xb7\\xd0\\xb0\\xd1\\x86\\xd0\\xb8\\xd0\\xb8 \\xd0\\xbf\\xd1\\x80\\xd0\\xb5\\xd0\\xb4\\xd1\\x81\\xd1\\x82\\xd0\\xb0\\xd0\\xb2\\xd0\\xbb\\xd0\\xb5\\xd0\\xbd\\xd0\\xb8\\xd1\\x8f \\xd0\\xb8\\xd0\\xbd\\xd1\\x84\\xd0\\xbe\\xd1\\x80\\xd0\\xbc\\xd0\\xb0\\xd1\\x86\\xd0\\xb8\\xd0\\xb8 \\xd0\\xb2 \\xd0\\xb2\\xd0\\xb8\\xd0\\xb4\\xd0\\xb5, \\xd0\\xbf\\xd1\\x80\\xd0\\xb8\\xd0\\xb3\\xd0\\xbe\\xd0\\xb4\\xd0\\xbd\\xd0\\xbe\\xd0\\xbc \\xd0\\xb4\\xd0\\xbb\\xd1\\x8f \\xd0\\xbc\\xd0\\xb0\\xd1\\x88\\xd0\\xb8\\xd0\\xbd\\xd0\\xbd\\xd0\\xbe\\xd0\\xb9 \\xd0\\xbe\\xd0\\xb1\\xd1\\x80\\xd0\\xb0\\xd0\\xb1\\xd0\\xbe\\xd1\\x82\\xd0\\xba\\xd0\\xb8.\"@ru,\\n        \"\\xe8\\xaf\\xad\\xe4\\xb9\\x89\\xe7\\xbd\\x91\\xef\\xbc\\x88Semantic Web\\xef\\xbc\\x89\\xe6\\x98\\xaf\\xe7\\x94\\xb1\\xe4\\xb8\\x87\\xe7\\xbb\\xb4\\xe7\\xbd\\x91\\xe8\\x81\\x94\\xe7\\x9b\\x9f\\xe7\\x9a\\x84\\xe8\\x92\\x82\\xe5\\xa7\\x86\\xc2\\xb7\\xe4\\xbc\\xaf\\xe7\\xba\\xb3\\xe6\\x96\\xaf-\\xe6\\x9d\\x8e\\xef\\xbc\\x88Tim Berners-Lee\\xef\\xbc\\x89\\xe5\\x9c\\xa81998\\xe5\\xb9\\xb4\\xe6\\x8f\\x90\\xe5\\x87\\xba\\xe7\\x9a\\x84\\xe4\\xb8\\x80\\xe4\\xb8\\xaa\\xe6\\xa6\\x82\\xe5\\xbf\\xb5\\xef\\xbc\\x8c\\xe5\\xae\\x83\\xe7\\x9a\\x84\\xe6\\xa0\\xb8\\xe5\\xbf\\x83\\xe6\\x98\\xaf\\xef\\xbc\\x9a\\xe9\\x80\\x9a\\xe8\\xbf\\x87\\xe7\\xbb\\x99\\xe4\\xb8\\x87\\xe7\\xbb\\xb4\\xe7\\xbd\\x91\\xe4\\xb8\\x8a\\xe7\\x9a\\x84\\xe6\\x96\\x87\\xe6\\xa1\\xa3\\xef\\xbc\\x88\\xe5\\xa6\\x82: HTML\\xef\\xbc\\x89\\xe6\\xb7\\xbb\\xe5\\x8a\\xa0\\xe8\\x83\\xbd\\xe5\\xa4\\x9f\\xe8\\xa2\\xab\\xe8\\xae\\xa1\\xe7\\xae\\x97\\xe6\\x9c\\xba\\xe6\\x89\\x80\\xe7\\x90\\x86\\xe8\\xa7\\xa3\\xe7\\x9a\\x84\\xe8\\xaf\\xad\\xe4\\xb9\\x89\\xef\\xbc\\x88Meta data\\xef\\xbc\\x89\\xef\\xbc\\x8c\\xe4\\xbb\\x8e\\xe8\\x80\\x8c\\xe4\\xbd\\xbf\\xe6\\x95\\xb4\\xe4\\xb8\\xaa\\xe4\\xba\\x92\\xe8\\x81\\x94\\xe7\\xbd\\x91\\xe6\\x88\\x90\\xe4\\xb8\\xba\\xe4\\xb8\\x80\\xe4\\xb8\\xaa\\xe9\\x80\\x9a\\xe7\\x94\\xa8\\xe7\\x9a\\x84\\xe4\\xbf\\xa1\\xe6\\x81\\xaf\\xe4\\xba\\xa4\\xe6\\x8d\\xa2\\xe5\\xaa\\x92\\xe4\\xbb\\x8b\\xe3\\x80\\x82\\xe8\\xaf\\xad\\xe4\\xb9\\x89\\xe4\\xb8\\x87\\xe7\\xbb\\xb4\\xe7\\xbd\\x91\\xe9\\x80\\x9a\\xe8\\xbf\\x87\\xe4\\xbd\\xbf\\xe7\\x94\\xa8\\xe6\\xa0\\x87\\xe5\\x87\\x86\\xe3\\x80\\x81\\xe7\\xbd\\xae\\xe6\\xa0\\x87\\xe8\\xaf\\xad\\xe8\\xa8\\x80\\xe5\\x92\\x8c\\xe7\\x9b\\xb8\\xe5\\x85\\xb3\\xe7\\x9a\\x84\\xe5\\xa4\\x84\\xe7\\x90\\x86\\xe5\\xb7\\xa5\\xe5\\x85\\xb7\\xe6\\x9d\\xa5\\xe6\\x89\\xa9\\xe5\\xb1\\x95\\xe4\\xb8\\x87\\xe7\\xbb\\xb4\\xe7\\xbd\\x91\\xe7\\x9a\\x84\\xe8\\x83\\xbd\\xe5\\x8a\\x9b\\xe3\\x80\\x82\\xe4\\xb8\\x8d\\xe8\\xbf\\x87\\xe8\\xaf\\xad\\xe6\\x84\\x8f\\xe7\\xbd\\x91\\xe6\\xa6\\x82\\xe5\\xbf\\xb5\\xe5\\xae\\x9e\\xe9\\x99\\x85\\xe4\\xb8\\x8a\\xe6\\x98\\xaf\\xe5\\x9f\\xba\\xe4\\xba\\x8e\\xe5\\xbe\\x88\\xe5\\xa4\\x9a\\xe5\\xb7\\xb2\\xe6\\x9c\\x89\\xe6\\x8a\\x80\\xe6\\x9c\\xaf\\xe7\\x9a\\x84\\xef\\xbc\\x8c\\xe4\\xb9\\x9f\\xe4\\xbe\\x9d\\xe8\\xb5\\x96\\xe4\\xba\\x8e\\xe5\\x90\\x8e\\xe6\\x9d\\xa5\\xe5\\x92\\x8ctext-and-markup\\xe4\\xb8\\x8e\\xe7\\x9f\\xa5\\xe8\\xaf\\x86\\xe8\\xa1\\xa8\\xe7\\x8e\\xb0\\xe7\\x9a\\x84\\xe7\\xbb\\xbc\\xe5\\x90\\x88\\xe3\\x80\\x82\\xe9\\x82\\xa3\\xe4\\xba\\x9b\\xe6\\xb8\\x8a\\xe6\\xba\\x90\\xe7\\x94\\x9a\\xe8\\x87\\xb3\\xe5\\x8f\\xaf\\xe4\\xbb\\xa5\\xe8\\xbf\\xbd\\xe6\\xba\\xaf\\xe5\\x88\\xb020\\xe4\\xb8\\x96\\xe7\\xba\\xaa60\\xe5\\xb9\\xb4\\xe4\\xbb\\xa3\\xe6\\x9c\\xab\\xe6\\x9c\\x9f\\xe7\\x9a\\x84Allan M. Collins\\xe3\\x80\\x81M. Ross Quillian\\xe3\\x80\\x81Elizabeth F. Loftus\\xe7\\xad\\x89\\xe4\\xba\\xba\\xe7\\x9a\\x84\\xe7\\xa0\\x94\\xe7\\xa9\\xb6\\xef\\xbc\\x8c\\xe8\\xbf\\x98\\xe6\\x9c\\x89\\xe4\\xb9\\x8b\\xe5\\x90\\x8e70\\xe5\\xb9\\xb4\\xe4\\xbb\\xa3\\xe5\\x88\\x9dR.F.Simon\\xe3\\x80\\x81R.C.Schamk\\xe3\\x80\\x81Minsky\\xe7\\xad\\x89\\xe4\\xba\\xba\\xe9\\x99\\x86\\xe7\\xbb\\xad\\xe6\\x8f\\x90\\xe5\\x87\\xba\\xe7\\x9a\\x84\\xe4\\xb8\\x80\\xe4\\xba\\x9b\\xe7\\x90\\x86\\xe8\\xae\\xba\\xe4\\xb8\\x8a\\xe7\\x9a\\x84\\xe6\\x88\\x90\\xe6\\x9e\\x9c\\xef\\xbc\\x8c\\xe5\\x85\\xb6\\xe4\\xb8\\xadSimon\\xe5\\x9c\\xa8\\xe8\\xbf\\x9b\\xe8\\xa1\\x8c\\xe8\\x87\\xaa\\xe7\\x84\\xb6\\xe8\\xaf\\xad\\xe8\\xa8\\x80\\xe7\\x90\\x86\\xe8\\xa7\\xa3\\xe7\\x9a\\x84\\xe5\\xba\\x94\\xe7\\x94\\xa8\\xe7\\xa0\\x94\\xe7\\xa9\\xb6\\xe6\\x97\\xb6\\xe6\\x8f\\x90\\xe5\\x87\\xba\\xe4\\xba\\x86\\xe8\\xaf\\xad\\xe4\\xb9\\x89\\xe7\\xbd\\x91\\xe7\\xbb\\x9cSemantic Network\\xef\\xbc\\x88\\xe4\\xb8\\x8d\\xe6\\x98\\xaf\\xe7\\x8e\\xb0\\xe5\\x9c\\xa8\\xe7\\x9a\\x84Semantic Web\\xef\\xbc\\x89\\xe7\\x9a\\x84\\xe6\\xa6\\x82\\xe5\\xbf\\xb5\\xe3\\x80\\x82\\xe5\\xbd\\x93\\xe6\\x97\\xb6\\xe4\\xba\\xba\\xe4\\xbb\\xac\\xe7\\x94\\x9a\\xe8\\x87\\xb3\\xe5\\x8f\\x91\\xe6\\x98\\x8e\\xe4\\xba\\x86\\xe4\\xbb\\xa5\\xe9\\x80\\xbb\\xe8\\xbe\\x91\\xe4\\xb8\\xba\\xe5\\x9f\\xba\\xe7\\xa1\\x80\\xe7\\x9a\\x84\\xe7\\xa8\\x8b\\xe5\\xba\\x8f\\xe8\\xae\\xbe\\xe8\\xae\\xa1\\xe8\\xaf\\xad\\xe8\\xa8\\x80Prolog\\xe3\\x80\\x82 \\\\\"\\xe8\\xaf\\xad\\xe4\\xb9\\x89\\\\\"\\xe7\\xbd\\x91\\xe6\\x98\\xaf\\xe7\\x94\\xb1\\xe6\\xaf\\x94\\xe7\\x8e\\xb0\\xe4\\xbb\\x8a\\xe6\\x88\\x90\\xe7\\x86\\x9f\\xe7\\x9a\\x84\\xe7\\xbd\\x91\\xe9\\x99\\x85\\xe6\\x90\\x9c\\xe7\\xb4\\xa2\\xe5\\xb7\\xa5\\xe5\\x85\\xb7\\xe6\\x9b\\xb4\\xe5\\x8a\\xa0\\xe8\\xa1\\x8c\\xe4\\xb9\\x8b\\xe6\\x9c\\x89\\xe6\\x95\\x88\\xe7\\x9a\\x84\\xe3\\x80\\x81\\xe6\\x9b\\xb4\\xe5\\x8a\\xa0\\xe5\\xb9\\xbf\\xe6\\xb3\\x9b\\xe6\\x84\\x8f\\xe4\\xb9\\x89\\xe7\\x9a\\x84\\xe5\\xb9\\xb6\\xe4\\xb8\\x94\\xe8\\x87\\xaa\\xe5\\x8a\\xa8\\xe8\\x81\\x9a\\xe9\\x9b\\x86\\xe5\\x92\\x8c\\xe6\\x90\\x9c\\xe9\\x9b\\x86\\xe4\\xbf\\xa1\\xe6\\x81\\xaf\\xe7\\x9a\\x84\\xe6\\x96\\x87\\xe6\\xa1\\xa3\\xe7\\xbb\\x84\\xe6\\x88\\x90\\xe7\\x9a\\x84\\xe3\\x80\\x82\\xe5\\x85\\xb6\\xe6\\x9c\\x80\\xe5\\x9f\\xba\\xe6\\x9c\\xac\\xe7\\x9a\\x84\\xe5\\x85\\x83\\xe7\\xb4\\xa0\\xe5\\xb0\\xb1\\xe6\\x98\\xaf\\xe8\\xaf\\xad\\xe4\\xb9\\x89\\xe9\\x93\\xbe\\xe6\\x8e\\xa5\\xe3\\x80\\x82 \\xe9\\x80\\x9a\\xe8\\xbf\\x87\\xe4\\xb8\\x8b\\xe5\\x88\\x97\\xe6\\x96\\xb9\\xe6\\xb3\\x95\\xe5\\x8f\\xaf\\xe4\\xbb\\xa5\\xe6\\x8f\\x90\\xe5\\x8d\\x87\\xe5\\x85\\xa8\\xe7\\x90\\x83\\xe8\\xb3\\x87\\xe8\\xa8\\x8a\\xe7\\xb6\\xb2\\xe4\\xbb\\xa5\\xe5\\x8f\\x8a\\xe5\\x85\\xb6\\xe4\\xba\\x92\\xe8\\xbf\\x9e\\xe7\\x9a\\x84\\xe8\\xb5\\x84\\xe6\\xba\\x90\\xe7\\x9a\\x84\\xe6\\x98\\x93\\xe7\\x94\\xa8\\xe6\\x80\\xa7\\xef\\xbc\\x88usability\\xef\\xbc\\x89\\xe5\\x92\\x8c\\xe5\\xaf\\xa6\\xe7\\x94\\xa8\\xe6\\x80\\xa7\\xef\\xbc\\x88usefulness\\xef\\xbc\\x89\\xef\\xbc\\x9a\"@zh ;\\n    = <http://cs.dbpedia.org/resource/S\\xc3\\xa9mantick\\xc3\\xbd_web>,\\n        <http://d-nb.info/gnd/4688372-1>,\\n        <http://dbpedia.org/resource/Semantic_Web>,\\n        <http://de.dbpedia.org/resource/Semantic_Web>,\\n        <http://el.dbpedia.org/resource/\\xce\\xa3\\xce\\xb7\\xce\\xbc\\xce\\xb1\\xcf\\x83\\xce\\xb9\\xce\\xbf\\xce\\xbb\\xce\\xbf\\xce\\xb3\\xce\\xb9\\xce\\xba\\xcf\\x8c\\xcf\\x82_\\xce\\x99\\xcf\\x83\\xcf\\x84\\xcf\\x8c\\xcf\\x82>,\\n        <http://es.dbpedia.org/resource/Web_sem\\xc3\\xa1ntica>,\\n        <http://eu.dbpedia.org/resource/Web_semantiko>,\\n        <http://fr.dbpedia.org/resource/Web_s\\xc3\\xa9mantique>,\\n        <http://id.dbpedia.org/resource/Web_semantik>,\\n        <http://it.dbpedia.org/resource/Web_semantico>,\\n        <http://ja.dbpedia.org/resource/\\xe3\\x82\\xbb\\xe3\\x83\\x9e\\xe3\\x83\\xb3\\xe3\\x83\\x86\\xe3\\x82\\xa3\\xe3\\x83\\x83\\xe3\\x82\\xaf\\xe3\\x83\\xbb\\xe3\\x82\\xa6\\xe3\\x82\\xa7\\xe3\\x83\\x96>,\\n        <http://ko.dbpedia.org/resource/\\xec\\x8b\\x9c\\xeb\\xa7\\xa8\\xed\\x8b\\xb1_\\xec\\x9b\\xb9>,\\n        <http://nl.dbpedia.org/resource/Semantisch_web>,\\n        <http://pl.dbpedia.org/resource/Semantic_Web>,\\n        <http://pt.dbpedia.org/resource/Web_sem\\xc3\\xa2ntica>,\\n        <http://rdf.freebase.com/ns/m.076k0>,\\n        <http://rdf.freebase.com/ns/m.0bbv9w2>,\\n        <http://wikidata.dbpedia.org/resource/Q54837>,\\n        <http://www.wikidata.org/entity/Q54837>,\\n        <http://yago-knowledge.org/resource/Semantic_Web> ;\\n    prov:wasDerivedFrom <http://en.wikipedia.org/wiki/Semantic_Web?oldid=741952532> ;\\n    foaf:depiction <http://commons.wikimedia.org/wiki/Special:FilePath/RDF_example.svg> ;\\n    foaf:homepage <http://www.w3.org/standards/semanticweb/> ;\\n    foaf:isPrimaryTopicOf <http://en.wikipedia.org/wiki/Semantic_Web> .\\n\\n'\n"
     ]
    }
   ],
   "source": [
    "print(s)"
   ]
  },
  {
   "cell_type": "markdown",
   "metadata": {},
   "source": [
    "## A more extensive example"
   ]
  },
  {
   "cell_type": "code",
   "execution_count": 10,
   "metadata": {},
   "outputs": [],
   "source": [
    "from rdflib import Graph, Literal, BNode, Namespace, RDF, URIRef, RDFS\n",
    "from rdflib.namespace import DC, FOAF"
   ]
  },
  {
   "cell_type": "code",
   "execution_count": 11,
   "metadata": {},
   "outputs": [],
   "source": [
    "g = Graph()\n",
    "\n",
    "# Create an identifier to use as the subject for Donna.\n",
    "donna = BNode()"
   ]
  },
  {
   "cell_type": "code",
   "execution_count": 12,
   "metadata": {},
   "outputs": [],
   "source": [
    "# Add triples using store's add method.\n",
    "g.add( (donna, RDF.type, FOAF.Person) )\n",
    "g.add( (donna, FOAF.nick, Literal(\"donna\", lang=\"foo\")) )\n",
    "g.add( (donna, FOAF.name, Literal(\"Donna Fales\")) )\n",
    "g.add( (donna, FOAF.mbox, URIRef(\"mailto:donna@example.org\")) )"
   ]
  },
  {
   "cell_type": "code",
   "execution_count": 13,
   "metadata": {},
   "outputs": [
    {
     "name": "stdout",
     "output_type": "stream",
     "text": [
      "--- printing raw triples ---\n",
      "(rdflib.term.BNode('N2e37e187677344d8b08513871ca7c44a'), rdflib.term.URIRef('http://www.w3.org/1999/02/22-rdf-syntax-ns#type'), rdflib.term.URIRef('http://xmlns.com/foaf/0.1/Person'))\n",
      "(rdflib.term.BNode('N2e37e187677344d8b08513871ca7c44a'), rdflib.term.URIRef('http://xmlns.com/foaf/0.1/nick'), rdflib.term.Literal('donna', lang='foo'))\n",
      "(rdflib.term.BNode('N2e37e187677344d8b08513871ca7c44a'), rdflib.term.URIRef('http://xmlns.com/foaf/0.1/name'), rdflib.term.Literal('Donna Fales'))\n",
      "(rdflib.term.BNode('N2e37e187677344d8b08513871ca7c44a'), rdflib.term.URIRef('http://xmlns.com/foaf/0.1/mbox'), rdflib.term.URIRef('mailto:donna@example.org'))\n"
     ]
    }
   ],
   "source": [
    "# Iterate over triples in store and print them out.\n",
    "print(\"--- printing raw triples ---\")\n",
    "for s, p, o in g:\n",
    "    print((s, p, o))"
   ]
  },
  {
   "cell_type": "code",
   "execution_count": 14,
   "metadata": {},
   "outputs": [
    {
     "name": "stdout",
     "output_type": "stream",
     "text": [
      "--- printing mboxes ---\n",
      "mailto:donna@example.org\n"
     ]
    }
   ],
   "source": [
    "# For each foaf:Person in the store print out its mbox property.\n",
    "print(\"--- printing mboxes ---\")\n",
    "for person in g.subjects(RDF.type, FOAF.Person):\n",
    "    for mbox in g.objects(person, FOAF.mbox):\n",
    "        print(mbox)"
   ]
  },
  {
   "cell_type": "code",
   "execution_count": 15,
   "metadata": {},
   "outputs": [],
   "source": [
    "# Bind a few prefix, namespace pairs for more readable output\n",
    "g.bind(\"dc\", DC)\n",
    "g.bind(\"foaf\", FOAF)"
   ]
  },
  {
   "cell_type": "code",
   "execution_count": 16,
   "metadata": {},
   "outputs": [
    {
     "name": "stdout",
     "output_type": "stream",
     "text": [
      "b'@prefix dc: <http://purl.org/dc/elements/1.1/> .\\n@prefix foaf: <http://xmlns.com/foaf/0.1/> .\\n@prefix rdf: <http://www.w3.org/1999/02/22-rdf-syntax-ns#> .\\n@prefix rdfs: <http://www.w3.org/2000/01/rdf-schema#> .\\n@prefix xml: <http://www.w3.org/XML/1998/namespace> .\\n@prefix xsd: <http://www.w3.org/2001/XMLSchema#> .\\n\\n[] a foaf:Person ;\\n    foaf:mbox <mailto:donna@example.org> ;\\n    foaf:name \"Donna Fales\" ;\\n    foaf:nick \"donna\"@foo .\\n\\n'\n"
     ]
    }
   ],
   "source": [
    "print( g.serialize(format='n3') )"
   ]
  },
  {
   "cell_type": "code",
   "execution_count": 17,
   "metadata": {},
   "outputs": [
    {
     "data": {
      "text/plain": [
       "<Graph identifier=Nebaf40777dcd44c58a50bd1a3433fd28 (<class 'rdflib.graph.Graph'>)>"
      ]
     },
     "execution_count": 17,
     "metadata": {},
     "output_type": "execute_result"
    }
   ],
   "source": [
    "g"
   ]
  },
  {
   "cell_type": "markdown",
   "metadata": {},
   "source": [
    "### Loading file"
   ]
  },
  {
   "cell_type": "code",
   "execution_count": 18,
   "metadata": {},
   "outputs": [
    {
     "name": "stdout",
     "output_type": "stream",
     "text": [
      "(rdflib.term.URIRef('http://bigasterisk.com/foaf.rdf#drewp'),\n",
      " rdflib.term.URIRef('http://www.w3.org/1999/02/22-rdf-syntax-ns#type'),\n",
      " rdflib.term.URIRef('http://xmlns.com/foaf/0.1/Person'))\n",
      "(rdflib.term.URIRef('http://bigasterisk.com/foaf.rdf#drewp'),\n",
      " rdflib.term.URIRef('http://example.com/says'),\n",
      " rdflib.term.Literal('Hello world'))\n"
     ]
    }
   ],
   "source": [
    "g = Graph()\n",
    "g.parse(\"demo.nt\", format=\"nt\")\n",
    "\n",
    "len(g) # prints 2\n",
    "\n",
    "import pprint\n",
    "for stmt in g:\n",
    "    pprint.pprint(stmt)"
   ]
  },
  {
   "cell_type": "code",
   "execution_count": 19,
   "metadata": {},
   "outputs": [
    {
     "data": {
      "text/plain": [
       "157"
      ]
     },
     "execution_count": 19,
     "metadata": {},
     "output_type": "execute_result"
    }
   ],
   "source": [
    "# From web\n",
    "g.parse('http://dbpedia.org/resource/Semantic_Web')\n",
    "len(g)"
   ]
  },
  {
   "cell_type": "code",
   "execution_count": 20,
   "metadata": {},
   "outputs": [
    {
     "data": {
      "text/plain": [
       "<Graph identifier=N896e1b5b93954b858254968cfc14a18a (<class 'rdflib.graph.Graph'>)>"
      ]
     },
     "execution_count": 20,
     "metadata": {},
     "output_type": "execute_result"
    }
   ],
   "source": [
    "g"
   ]
  },
  {
   "cell_type": "markdown",
   "metadata": {},
   "source": [
    "### Creating triples"
   ]
  },
  {
   "cell_type": "code",
   "execution_count": 21,
   "metadata": {},
   "outputs": [],
   "source": [
    "bob = URIRef(\"http://example.org/people/Bob\")\n",
    "linda = BNode() # a GUID is generated"
   ]
  },
  {
   "cell_type": "code",
   "execution_count": 22,
   "metadata": {},
   "outputs": [],
   "source": [
    "name = Literal('Bob') # passing a string\n",
    "age = Literal(24) # passing a python int\n",
    "height = Literal(76.5) # passing a python float"
   ]
  },
  {
   "cell_type": "code",
   "execution_count": 23,
   "metadata": {},
   "outputs": [],
   "source": [
    "from rdflib import Namespace"
   ]
  },
  {
   "cell_type": "code",
   "execution_count": 24,
   "metadata": {},
   "outputs": [],
   "source": [
    "n = Namespace(\"http://example.org/people/\")"
   ]
  },
  {
   "cell_type": "code",
   "execution_count": 25,
   "metadata": {},
   "outputs": [
    {
     "data": {
      "text/plain": [
       "rdflib.term.URIRef('http://example.org/people/eve')"
      ]
     },
     "execution_count": 25,
     "metadata": {},
     "output_type": "execute_result"
    }
   ],
   "source": [
    "n.bob # = rdflib.term.URIRef(u'http://example.org/people/bob')\n",
    "n.eve # = rdflib.term.URIRef(u'http://example.org/people/eve')"
   ]
  },
  {
   "cell_type": "code",
   "execution_count": 26,
   "metadata": {},
   "outputs": [
    {
     "data": {
      "text/plain": [
       "rdflib.term.URIRef('http://www.w3.org/1999/02/22-rdf-syntax-ns#type')"
      ]
     },
     "execution_count": 26,
     "metadata": {},
     "output_type": "execute_result"
    }
   ],
   "source": [
    "from rdflib.namespace import FOAF\n",
    "\n",
    "RDF.type\n",
    "# = rdflib.term.URIRef(u'http://www.w3.org/1999/02/22-rdf-syntax-ns#type')"
   ]
  },
  {
   "cell_type": "code",
   "execution_count": 27,
   "metadata": {},
   "outputs": [
    {
     "data": {
      "text/plain": [
       "rdflib.term.URIRef('http://xmlns.com/foaf/0.1/knows')"
      ]
     },
     "execution_count": 27,
     "metadata": {},
     "output_type": "execute_result"
    }
   ],
   "source": [
    "FOAF.knows\n",
    "# = rdflib.term.URIRef(u'http://xmlns.com/foaf/0.1/knows')"
   ]
  },
  {
   "cell_type": "code",
   "execution_count": 28,
   "metadata": {},
   "outputs": [],
   "source": [
    "g = Graph()"
   ]
  },
  {
   "cell_type": "code",
   "execution_count": 29,
   "metadata": {},
   "outputs": [],
   "source": [
    "g.add( (bob, RDF.type, FOAF.Person) )\n",
    "g.add( (bob, FOAF.name, name) )\n",
    "g.add( (bob, FOAF.knows, linda) )\n",
    "g.add( (linda, RDF.type, FOAF.Person) )\n",
    "g.add( (linda, FOAF.name, Literal('Linda') ) )"
   ]
  },
  {
   "cell_type": "code",
   "execution_count": 30,
   "metadata": {},
   "outputs": [],
   "source": [
    "g.add( (bob, FOAF.age, age) )\n",
    "g.add( (bob, FOAF.height, height) )"
   ]
  },
  {
   "cell_type": "code",
   "execution_count": 31,
   "metadata": {},
   "outputs": [
    {
     "name": "stdout",
     "output_type": "stream",
     "text": [
      "@prefix ns1: <http://xmlns.com/foaf/0.1/> .\n",
      "@prefix rdf: <http://www.w3.org/1999/02/22-rdf-syntax-ns#> .\n",
      "@prefix rdfs: <http://www.w3.org/2000/01/rdf-schema#> .\n",
      "@prefix xml: <http://www.w3.org/XML/1998/namespace> .\n",
      "@prefix xsd: <http://www.w3.org/2001/XMLSchema#> .\n",
      "\n",
      "<http://example.org/people/Bob> a ns1:Person ;\n",
      "    ns1:age 24 ;\n",
      "    ns1:height 7.65e+01 ;\n",
      "    ns1:knows [ a ns1:Person ;\n",
      "            ns1:name \"Linda\" ] ;\n",
      "    ns1:name \"Bob\" .\n",
      "\n",
      "\n"
     ]
    }
   ],
   "source": [
    "print(g.serialize(format='turtle').decode(\"utf-8\"))"
   ]
  },
  {
   "cell_type": "code",
   "execution_count": 32,
   "metadata": {},
   "outputs": [],
   "source": [
    "g.remove( (bob, None, None) )"
   ]
  },
  {
   "cell_type": "code",
   "execution_count": 33,
   "metadata": {},
   "outputs": [
    {
     "name": "stdout",
     "output_type": "stream",
     "text": [
      "@prefix ns1: <http://xmlns.com/foaf/0.1/> .\n",
      "@prefix rdf: <http://www.w3.org/1999/02/22-rdf-syntax-ns#> .\n",
      "@prefix rdfs: <http://www.w3.org/2000/01/rdf-schema#> .\n",
      "@prefix xml: <http://www.w3.org/XML/1998/namespace> .\n",
      "@prefix xsd: <http://www.w3.org/2001/XMLSchema#> .\n",
      "\n",
      "[] a ns1:Person ;\n",
      "    ns1:name \"Linda\" .\n",
      "\n",
      "\n"
     ]
    }
   ],
   "source": [
    "print(g.serialize(format='turtle').decode(\"utf-8\"))"
   ]
  },
  {
   "cell_type": "code",
   "execution_count": 34,
   "metadata": {},
   "outputs": [],
   "source": [
    "bob = URIRef(\"http://example.org/people/bob\")\n",
    "if ( bob, RDF.type, FOAF.Person ) in g:\n",
    "    print(\"This graph knows that Bob is a person!\")"
   ]
  },
  {
   "cell_type": "code",
   "execution_count": 35,
   "metadata": {},
   "outputs": [],
   "source": [
    "for subject,predicate,obj in g:\n",
    "    if not (subject,predicate,obj) in g:\n",
    "        raise Exception(\"Iterator / Container Protocols are Broken!!\")"
   ]
  },
  {
   "cell_type": "code",
   "execution_count": 36,
   "metadata": {},
   "outputs": [],
   "source": [
    "if (bob, None, None) in g:\n",
    "    print(\"This graph contains triples about Bob!\")"
   ]
  },
  {
   "cell_type": "code",
   "execution_count": 37,
   "metadata": {},
   "outputs": [
    {
     "name": "stdout",
     "output_type": "stream",
     "text": [
      "Naa79ed346fa042eaa5b2755a3f622330 is a person\n",
      "Naa79ed346fa042eaa5b2755a3f622330 is a http://xmlns.com/foaf/0.1/Person\n"
     ]
    }
   ],
   "source": [
    "for s,p,o in g.triples( (None, RDF.type, FOAF.Person) ):\n",
    "    print(\"%s is a person\"%s)\n",
    "\n",
    "for s,p,o in g.triples( (None,  RDF.type, None) ):\n",
    "    print(\"%s is a %s\"%(s,o))"
   ]
  },
  {
   "cell_type": "code",
   "execution_count": 38,
   "metadata": {},
   "outputs": [],
   "source": [
    "bobgraph = Graph()\n",
    "\n",
    "bobgraph += g.triples( (bob, None, None) )  # Just Bob."
   ]
  },
  {
   "cell_type": "code",
   "execution_count": 39,
   "metadata": {},
   "outputs": [
    {
     "name": "stdout",
     "output_type": "stream",
     "text": [
      "@prefix rdf: <http://www.w3.org/1999/02/22-rdf-syntax-ns#> .\n",
      "@prefix rdfs: <http://www.w3.org/2000/01/rdf-schema#> .\n",
      "@prefix xml: <http://www.w3.org/XML/1998/namespace> .\n",
      "@prefix xsd: <http://www.w3.org/2001/XMLSchema#> .\n",
      "\n",
      "\n"
     ]
    }
   ],
   "source": [
    "print(bobgraph.serialize(format='turtle').decode('utf-8'))"
   ]
  },
  {
   "cell_type": "code",
   "execution_count": 40,
   "metadata": {},
   "outputs": [
    {
     "name": "stdout",
     "output_type": "stream",
     "text": [
      "Naa79ed346fa042eaa5b2755a3f622330 is a person\n"
     ]
    }
   ],
   "source": [
    "for person in g.subjects(RDF.type, FOAF.Person): # We can look only in subjects / objects / predicate objects / ...\n",
    "    print(\"%s is a person\"%person)"
   ]
  },
  {
   "cell_type": "code",
   "execution_count": 41,
   "metadata": {},
   "outputs": [],
   "source": [
    "name = g.value(bob, FOAF.name) # get any name of bob"
   ]
  },
  {
   "cell_type": "code",
   "execution_count": 42,
   "metadata": {},
   "outputs": [],
   "source": [
    "name"
   ]
  },
  {
   "cell_type": "code",
   "execution_count": 43,
   "metadata": {},
   "outputs": [],
   "source": [
    "mbox = g.value(predicate = FOAF.name, object = bob, any = False)"
   ]
  },
  {
   "cell_type": "code",
   "execution_count": 44,
   "metadata": {},
   "outputs": [],
   "source": [
    "mbox"
   ]
  },
  {
   "cell_type": "markdown",
   "metadata": {},
   "source": [
    "More info at https://rdflib.readthedocs.io/en/stable/intro_to_graphs.html!"
   ]
  },
  {
   "cell_type": "code",
   "execution_count": 45,
   "metadata": {},
   "outputs": [],
   "source": [
    "g = Graph()"
   ]
  },
  {
   "cell_type": "code",
   "execution_count": 46,
   "metadata": {},
   "outputs": [],
   "source": [
    "sherlock = BNode()\n",
    "statement = BNode()"
   ]
  },
  {
   "cell_type": "code",
   "execution_count": 47,
   "metadata": {},
   "outputs": [],
   "source": [
    "dbpedia = Namespace('http://dbpedia.com/resource/')\n",
    "rdf = Namespace('http://www.w3.org/1999/02/22-rdf-syntax-ns#')\n",
    "ex = Namespace('http://example.org/Crimestories#')"
   ]
  },
  {
   "cell_type": "code",
   "execution_count": 48,
   "metadata": {},
   "outputs": [],
   "source": [
    "g.add((statement, RDF.subject, ex.Gardener))"
   ]
  },
  {
   "cell_type": "code",
   "execution_count": 49,
   "metadata": {},
   "outputs": [],
   "source": [
    "g.add((statement, RDF.predicate, ex.hasKilled))"
   ]
  },
  {
   "cell_type": "code",
   "execution_count": 50,
   "metadata": {},
   "outputs": [],
   "source": [
    "g.add((statement, RDF.object, ex.Butler))"
   ]
  },
  {
   "cell_type": "code",
   "execution_count": 51,
   "metadata": {},
   "outputs": [],
   "source": [
    "g.add((sherlock, RDF.subject, dbpedia.SherlockHolmes))\n",
    "g.add((sherlock, RDF.predicate, ex.supposes))\n",
    "g.add((sherlock, RDF.object, ex.statement))"
   ]
  },
  {
   "cell_type": "code",
   "execution_count": 52,
   "metadata": {},
   "outputs": [
    {
     "name": "stdout",
     "output_type": "stream",
     "text": [
      "@prefix rdf: <http://www.w3.org/1999/02/22-rdf-syntax-ns#> .\n",
      "@prefix rdfs: <http://www.w3.org/2000/01/rdf-schema#> .\n",
      "@prefix xml: <http://www.w3.org/XML/1998/namespace> .\n",
      "@prefix xsd: <http://www.w3.org/2001/XMLSchema#> .\n",
      "\n",
      "[] rdf:object <http://example.org/Crimestories#statement> ;\n",
      "    rdf:predicate <http://example.org/Crimestories#supposes> ;\n",
      "    rdf:subject <http://dbpedia.com/resource/SherlockHolmes> .\n",
      "\n",
      "[] rdf:object <http://example.org/Crimestories#Butler> ;\n",
      "    rdf:predicate <http://example.org/Crimestories#hasKilled> ;\n",
      "    rdf:subject <http://example.org/Crimestories#Gardener> .\n",
      "\n",
      "\n"
     ]
    }
   ],
   "source": [
    "print(g.serialize(format='turtle').decode('utf-8'))"
   ]
  },
  {
   "cell_type": "markdown",
   "metadata": {},
   "source": [
    "### Let's build some objects!"
   ]
  },
  {
   "cell_type": "code",
   "execution_count": 53,
   "metadata": {},
   "outputs": [],
   "source": [
    "rdfs = Namespace('https://www.w3.org/TR/rdf-schema/')\n",
    "rdf = Namespace('http://www.w3.org/1999/02/22-rdf-syntax-ns#')\n",
    "p = Namespace('http://example.org/Space#')"
   ]
  },
  {
   "cell_type": "code",
   "execution_count": 54,
   "metadata": {},
   "outputs": [],
   "source": [
    "g = Graph()"
   ]
  },
  {
   "cell_type": "code",
   "execution_count": 55,
   "metadata": {},
   "outputs": [],
   "source": [
    "g.add( (p.Planet, RDF.type, RDFS.Class) )\n",
    "g.add( (p.Planet, RDFS.subClassOf, p.CelestialBody) )"
   ]
  },
  {
   "cell_type": "code",
   "execution_count": 56,
   "metadata": {},
   "outputs": [],
   "source": [
    "g.add( (p.Satellite, RDF.type, RDFS.Class) )\n",
    "g.add( (p.Satellite, RDFS.subClassOf, p.CelestialBody) )"
   ]
  },
  {
   "cell_type": "code",
   "execution_count": 57,
   "metadata": {},
   "outputs": [],
   "source": [
    "g.add( (p.ArtificialSatellite, RDF.type, RDFS.Class) )\n",
    "g.add( (p.ArtificlalSatellite, RDFS.subClassOf, p.Satellite) )"
   ]
  },
  {
   "cell_type": "code",
   "execution_count": 58,
   "metadata": {},
   "outputs": [],
   "source": [
    "g.add( (p.SatelliteOf, RDF.type, RDF.Property) )\n",
    "g.add( (p.SatelliteOf, RDFS.domain, p.CelestialBody) )\n",
    "g.add( (p.SatelliteOf, RDFS.range, p.CelestialBody) )"
   ]
  },
  {
   "cell_type": "code",
   "execution_count": 59,
   "metadata": {},
   "outputs": [],
   "source": [
    "g.add( (p.Earth, RDF.type, p.Planet) )"
   ]
  },
  {
   "cell_type": "code",
   "execution_count": 60,
   "metadata": {},
   "outputs": [],
   "source": [
    "g.add( (p.Moon, RDF.type, p.Satellite) )\n",
    "g.add( (p.Moon, p.SatelliteOf, p.Earth) )\n",
    "g.add( (p.Moon, RDFS.label, Literal(\"Moon\", lang='en')) )"
   ]
  },
  {
   "cell_type": "code",
   "execution_count": 61,
   "metadata": {},
   "outputs": [],
   "source": [
    "g.add( (p.Sputnik1, RDF.type, p.ArtificialSatellite) )\n",
    "g.add( (p.Sputnik1, p.SatelliteOf, p.Earth) )\n",
    "g.add( (p.Sputnik1, RDFS.label, Literal(\"Sputnik 1\", lang='en')) )\n",
    "g.add( (p.Sputnik1, RDFS.comment, Literal('the first artificial Earth satellite in 1957')) )"
   ]
  },
  {
   "cell_type": "code",
   "execution_count": 62,
   "metadata": {},
   "outputs": [
    {
     "name": "stdout",
     "output_type": "stream",
     "text": [
      "@prefix ns1: <http://example.org/Space#> .\n",
      "@prefix rdf: <http://www.w3.org/1999/02/22-rdf-syntax-ns#> .\n",
      "@prefix rdfs: <http://www.w3.org/2000/01/rdf-schema#> .\n",
      "@prefix xml: <http://www.w3.org/XML/1998/namespace> .\n",
      "@prefix xsd: <http://www.w3.org/2001/XMLSchema#> .\n",
      "\n",
      "ns1:ArtificialSatellite a rdfs:Class .\n",
      "\n",
      "ns1:Planet a rdfs:Class ;\n",
      "    rdfs:subClassOf ns1:CelestialBody .\n",
      "\n",
      "ns1:Satellite a rdfs:Class ;\n",
      "    rdfs:subClassOf ns1:CelestialBody .\n",
      "\n",
      "ns1:ArtificlalSatellite rdfs:subClassOf ns1:Satellite .\n",
      "\n",
      "ns1:Moon a ns1:Satellite ;\n",
      "    rdfs:label \"Moon\"@en ;\n",
      "    ns1:SatelliteOf ns1:Earth .\n",
      "\n",
      "ns1:SatelliteOf a rdf:Property ;\n",
      "    rdfs:domain ns1:CelestialBody ;\n",
      "    rdfs:range ns1:CelestialBody .\n",
      "\n",
      "ns1:Sputnik1 a ns1:ArtificialSatellite ;\n",
      "    rdfs:label \"Sputnik 1\"@en ;\n",
      "    ns1:SatelliteOf ns1:Earth ;\n",
      "    rdfs:comment \"the first artificial Earth satellite in 1957\" .\n",
      "\n",
      "ns1:Earth a ns1:Planet .\n",
      "\n",
      "\n"
     ]
    }
   ],
   "source": [
    "print(g.serialize(format='turtle').decode(\"utf-8\"))"
   ]
  },
  {
   "cell_type": "markdown",
   "metadata": {},
   "source": [
    "# SPARQL"
   ]
  },
  {
   "cell_type": "code",
   "execution_count": 63,
   "metadata": {},
   "outputs": [],
   "source": [
    "qres = g.query(\n",
    "    \"\"\"SELECT DISTINCT ?label\n",
    "       WHERE {\n",
    "          ?a ns1:SatelliteOf ns1:Earth .\n",
    "          ?a rdfs:label ?label\n",
    "       }\"\"\")"
   ]
  },
  {
   "cell_type": "code",
   "execution_count": 64,
   "metadata": {},
   "outputs": [
    {
     "name": "stdout",
     "output_type": "stream",
     "text": [
      "Moon is a satellite of Earth\n",
      "Sputnik 1 is a satellite of Earth\n"
     ]
    }
   ],
   "source": [
    "for row in qres:\n",
    "    print(\"%s is a satellite of Earth\" % row)"
   ]
  },
  {
   "cell_type": "code",
   "execution_count": 65,
   "metadata": {},
   "outputs": [],
   "source": [
    "qres = g.query(\n",
    "    \"\"\"SELECT DISTINCT ?label\n",
    "       WHERE {\n",
    "          ?a ns1:SatelliteOf ns1:Earth .\n",
    "          ?a rdf:type ns1:ArtificialSatellite .\n",
    "          ?a rdfs:label ?label\n",
    "       }\"\"\")"
   ]
  },
  {
   "cell_type": "code",
   "execution_count": 66,
   "metadata": {},
   "outputs": [
    {
     "name": "stdout",
     "output_type": "stream",
     "text": [
      "Sputnik 1 is an artificial satellite of Earth\n"
     ]
    }
   ],
   "source": [
    "for row in qres:\n",
    "    print(\"%s is an artificial satellite of Earth\" % row)"
   ]
  },
  {
   "cell_type": "markdown",
   "metadata": {},
   "source": [
    "## HTTP Request"
   ]
  },
  {
   "cell_type": "code",
   "execution_count": 135,
   "metadata": {},
   "outputs": [],
   "source": [
    "import requests\n",
    "import urllib.parse\n",
    "from bs4 import BeautifulSoup"
   ]
  },
  {
   "cell_type": "code",
   "execution_count": 136,
   "metadata": {},
   "outputs": [],
   "source": [
    "params = {'Host':'dbpedia.org', 'Accept':'text/html,application/xhtml+xml,application/xml'}"
   ]
  },
  {
   "cell_type": "markdown",
   "metadata": {},
   "source": [
    "### SELECT request"
   ]
  },
  {
   "cell_type": "code",
   "execution_count": 140,
   "metadata": {},
   "outputs": [],
   "source": [
    "def make_dbpedia_request(request_string, param_dict):\n",
    "    query = urllib.parse.quote(request_string)\n",
    "    default_graph_uri = urllib.parse.quote('default-graph-uri=http://dbpedia.org')\n",
    "    url = f'http://dbpedia.org/sparql?{default_graph_uri}&query={query}'\n",
    "    r = requests.get(url = url, params = param_dict)\n",
    "    return r"
   ]
  },
  {
   "cell_type": "code",
   "execution_count": 141,
   "metadata": {},
   "outputs": [],
   "source": [
    "with open('requests/request.txt', 'r') as request:\n",
    "    req = request.read();\n",
    "request.close()"
   ]
  },
  {
   "cell_type": "code",
   "execution_count": 142,
   "metadata": {},
   "outputs": [],
   "source": [
    "r = make_dbpedia_request(req, params)"
   ]
  },
  {
   "cell_type": "code",
   "execution_count": 143,
   "metadata": {},
   "outputs": [],
   "source": [
    "answer = BeautifulSoup(r.text, 'lxml')\n",
    "results = answer.findAll('result')"
   ]
  },
  {
   "cell_type": "code",
   "execution_count": 144,
   "metadata": {},
   "outputs": [
    {
     "data": {
      "text/plain": [
       "<result>\n",
       "<binding name=\"author\"><uri>http://dbpedia.org/resource/Abbie_Hoffman</uri></binding>\n",
       "<binding name=\"work\"><uri>http://dbpedia.org/resource/Steal_This_Book</uri></binding>\n",
       "</result>"
      ]
     },
     "execution_count": 144,
     "metadata": {},
     "output_type": "execute_result"
    }
   ],
   "source": [
    "results[0]"
   ]
  },
  {
   "cell_type": "markdown",
   "metadata": {},
   "source": [
    "### ASK request"
   ]
  },
  {
   "cell_type": "code",
   "execution_count": 146,
   "metadata": {},
   "outputs": [],
   "source": [
    "with open('requests/ask.txt', 'r') as ask:\n",
    "    ask_req = ask.read();\n",
    "ask.close()"
   ]
  },
  {
   "cell_type": "code",
   "execution_count": 147,
   "metadata": {},
   "outputs": [],
   "source": [
    "r = make_dbpedia_request(ask_req, params)"
   ]
  },
  {
   "cell_type": "code",
   "execution_count": 148,
   "metadata": {},
   "outputs": [],
   "source": [
    "answer = BeautifulSoup(r.text, 'lxml')"
   ]
  },
  {
   "cell_type": "code",
   "execution_count": 149,
   "metadata": {},
   "outputs": [
    {
     "data": {
      "text/plain": [
       "<html><body><p>false</p></body></html>"
      ]
     },
     "execution_count": 149,
     "metadata": {},
     "output_type": "execute_result"
    }
   ],
   "source": [
    "answer"
   ]
  },
  {
   "cell_type": "markdown",
   "metadata": {},
   "source": [
    "### DESCRIBE request"
   ]
  },
  {
   "cell_type": "code",
   "execution_count": 153,
   "metadata": {},
   "outputs": [],
   "source": [
    "with open('requests/describe.txt', 'r') as describe:\n",
    "    url = describe.read();\n",
    "describe.close()"
   ]
  },
  {
   "cell_type": "code",
   "execution_count": 154,
   "metadata": {},
   "outputs": [],
   "source": [
    "r = make_dbpedia_request(url, params)"
   ]
  },
  {
   "cell_type": "code",
   "execution_count": 155,
   "metadata": {},
   "outputs": [],
   "source": [
    "answer = BeautifulSoup(r.text, 'lxml')"
   ]
  },
  {
   "cell_type": "code",
   "execution_count": 156,
   "metadata": {},
   "outputs": [
    {
     "data": {
      "text/plain": [
       "<html><body><p># Empty TURTLE\n",
       "</p></body></html>"
      ]
     },
     "execution_count": 156,
     "metadata": {},
     "output_type": "execute_result"
    }
   ],
   "source": [
    "answer"
   ]
  },
  {
   "cell_type": "markdown",
   "metadata": {},
   "source": [
    "## CONSTRUCT request"
   ]
  },
  {
   "cell_type": "code",
   "execution_count": 159,
   "metadata": {},
   "outputs": [],
   "source": [
    "with open('requests/construct.txt', 'r') as construct:\n",
    "    const = construct.read();\n",
    "construct.close()"
   ]
  },
  {
   "cell_type": "code",
   "execution_count": 160,
   "metadata": {},
   "outputs": [
    {
     "data": {
      "text/plain": [
       "<html><body><p># Empty TURTLE\n",
       "</p></body></html>"
      ]
     },
     "execution_count": 160,
     "metadata": {},
     "output_type": "execute_result"
    }
   ],
   "source": [
    "r = make_dbpedia_request(const, params)\n",
    "answer = BeautifulSoup(r.text, 'lxml')\n",
    "answer"
   ]
  },
  {
   "cell_type": "markdown",
   "metadata": {},
   "source": [
    "## REGEX request"
   ]
  },
  {
   "cell_type": "code",
   "execution_count": 167,
   "metadata": {},
   "outputs": [],
   "source": [
    "with open('requests/regex_request.txt', 'r') as file:\n",
    "    re_req = file.read();\n",
    "file.close()"
   ]
  },
  {
   "cell_type": "code",
   "execution_count": 168,
   "metadata": {},
   "outputs": [
    {
     "data": {
      "text/plain": [
       "<html><body><sparql xmlns=\"http://www.w3.org/2005/sparql-results#\" xmlns:xsi=\"http://www.w3.org/2001/XMLSchema-instance\" xsi:schemalocation=\"http://www.w3.org/2001/sw/DataAccess/rf1/result2.xsd\">\n",
       "<variable name=\"author_name\"></variable>\n",
       "<variable name=\"title\"></variable>\n",
       "<results distinct=\"false\" ordered=\"true\">\n",
       "</results>\n",
       "</sparql></body></html>"
      ]
     },
     "execution_count": 168,
     "metadata": {},
     "output_type": "execute_result"
    }
   ],
   "source": [
    "r = make_dbpedia_request(re_req, params)\n",
    "answer = BeautifulSoup(r.text, 'lxml')\n",
    "answer"
   ]
  },
  {
   "cell_type": "code",
   "execution_count": null,
   "metadata": {},
   "outputs": [],
   "source": []
  }
 ],
 "metadata": {
  "kernelspec": {
   "display_name": "Python 3",
   "language": "python",
   "name": "python3"
  },
  "language_info": {
   "codemirror_mode": {
    "name": "ipython",
    "version": 3
   },
   "file_extension": ".py",
   "mimetype": "text/x-python",
   "name": "python",
   "nbconvert_exporter": "python",
   "pygments_lexer": "ipython3",
   "version": "3.6.9"
  }
 },
 "nbformat": 4,
 "nbformat_minor": 4
}
